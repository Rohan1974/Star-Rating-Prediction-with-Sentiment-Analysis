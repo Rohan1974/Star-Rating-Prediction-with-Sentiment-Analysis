{
  "cells": [
    {
      "cell_type": "markdown",
      "metadata": {
        "id": "4R7srrwTL8ec"
      },
      "source": [
        "# **Importing The Libraries**"
      ]
    },
    {
      "cell_type": "code",
      "execution_count": null,
      "metadata": {
        "id": "G0aEec-jsDZM"
      },
      "outputs": [],
      "source": [
        "#Import the necessary Libraries\n",
        "\n",
        "import pandas as pd\n",
        "import numpy as np\n",
        "import matplotlib.pyplot as plt\n",
        "import seaborn as sns"
      ]
    },
    {
      "cell_type": "code",
      "execution_count": null,
      "metadata": {
        "id": "44SZmH_Esdpw"
      },
      "outputs": [],
      "source": [
        "#Create dataframe of name 'df'\n",
        "df = pd.read_csv('reviews_data.csv')"
      ]
    },
    {
      "cell_type": "code",
      "execution_count": null,
      "metadata": {
        "colab": {
          "base_uri": "https://localhost:8080/",
          "height": 206
        },
        "id": "ODur9XqZseSx",
        "outputId": "ed800d9c-cb95-4ed3-a7cc-ca220d16c2bf"
      },
      "outputs": [
        {
          "data": {
            "text/html": [
              "<div>\n",
              "<style scoped>\n",
              "    .dataframe tbody tr th:only-of-type {\n",
              "        vertical-align: middle;\n",
              "    }\n",
              "\n",
              "    .dataframe tbody tr th {\n",
              "        vertical-align: top;\n",
              "    }\n",
              "\n",
              "    .dataframe thead th {\n",
              "        text-align: right;\n",
              "    }\n",
              "</style>\n",
              "<table border=\"1\" class=\"dataframe\">\n",
              "  <thead>\n",
              "    <tr style=\"text-align: right;\">\n",
              "      <th></th>\n",
              "      <th>name</th>\n",
              "      <th>location</th>\n",
              "      <th>Date</th>\n",
              "      <th>Rating</th>\n",
              "      <th>Review</th>\n",
              "      <th>Image_Links</th>\n",
              "    </tr>\n",
              "  </thead>\n",
              "  <tbody>\n",
              "    <tr>\n",
              "      <th>108</th>\n",
              "      <td>Val</td>\n",
              "      <td>Toronto, ON</td>\n",
              "      <td>Reviewed Sept. 28, 2021</td>\n",
              "      <td>1.0</td>\n",
              "      <td>On Sept. 28, 2021, around 2:00 pm: Caffeine_Co...</td>\n",
              "      <td>['No Images']</td>\n",
              "    </tr>\n",
              "    <tr>\n",
              "      <th>637</th>\n",
              "      <td>Corey</td>\n",
              "      <td>Atlanta, GA</td>\n",
              "      <td>Reviewed Sept. 23, 2012</td>\n",
              "      <td>1.0</td>\n",
              "      <td>My girlfriend and I went to Caffeine_Corner li...</td>\n",
              "      <td>['No Images']</td>\n",
              "    </tr>\n",
              "    <tr>\n",
              "      <th>647</th>\n",
              "      <td>Gary</td>\n",
              "      <td>Aberdeen, Other</td>\n",
              "      <td>Reviewed May 23, 2012</td>\n",
              "      <td>5.0</td>\n",
              "      <td>I traveled from Aberdeen to Elgin which is abo...</td>\n",
              "      <td>['No Images']</td>\n",
              "    </tr>\n",
              "    <tr>\n",
              "      <th>403</th>\n",
              "      <td>Susan</td>\n",
              "      <td>Irvine, CA</td>\n",
              "      <td>Reviewed Oct. 14, 2016</td>\n",
              "      <td>1.0</td>\n",
              "      <td>For a week now I've been unable to order becau...</td>\n",
              "      <td>['No Images']</td>\n",
              "    </tr>\n",
              "    <tr>\n",
              "      <th>749</th>\n",
              "      <td>Kenneth</td>\n",
              "      <td>Beecher, IL</td>\n",
              "      <td>Reviewed Feb. 6, 2010</td>\n",
              "      <td>5.0</td>\n",
              "      <td>I found the coffee at Caffeine_Corner overrate...</td>\n",
              "      <td>['No Images']</td>\n",
              "    </tr>\n",
              "  </tbody>\n",
              "</table>\n",
              "</div>"
            ],
            "text/plain": [
              "        name         location                     Date  Rating  \\\n",
              "108      Val      Toronto, ON  Reviewed Sept. 28, 2021     1.0   \n",
              "637    Corey      Atlanta, GA  Reviewed Sept. 23, 2012     1.0   \n",
              "647    Gary   Aberdeen, Other    Reviewed May 23, 2012     5.0   \n",
              "403    Susan       Irvine, CA   Reviewed Oct. 14, 2016     1.0   \n",
              "749  Kenneth      Beecher, IL    Reviewed Feb. 6, 2010     5.0   \n",
              "\n",
              "                                                Review    Image_Links  \n",
              "108  On Sept. 28, 2021, around 2:00 pm: Caffeine_Co...  ['No Images']  \n",
              "637  My girlfriend and I went to Caffeine_Corner li...  ['No Images']  \n",
              "647  I traveled from Aberdeen to Elgin which is abo...  ['No Images']  \n",
              "403  For a week now I've been unable to order becau...  ['No Images']  \n",
              "749  I found the coffee at Caffeine_Corner overrate...  ['No Images']  "
            ]
          },
          "execution_count": 4,
          "metadata": {},
          "output_type": "execute_result"
        }
      ],
      "source": [
        "#Check the random Entries/Samples from the dataset\n",
        "df.sample(5)"
      ]
    },
    {
      "cell_type": "markdown",
      "metadata": {
        "id": "3UiuksVCNSjC"
      },
      "source": [
        "### We need to drop the feature named 'Image_Links' because it doesn't contribute in our dataframe and it has mostly null values in it"
      ]
    },
    {
      "cell_type": "code",
      "execution_count": null,
      "metadata": {
        "id": "4uuEJJNesoZf"
      },
      "outputs": [],
      "source": [
        "df = df.drop(['Image_Links'], axis=1)"
      ]
    },
    {
      "cell_type": "code",
      "execution_count": null,
      "metadata": {
        "colab": {
          "base_uri": "https://localhost:8080/"
        },
        "id": "_t_W82_Osqfj",
        "outputId": "2e8a1279-1c3d-4aae-8d86-956bd1b38b2c"
      },
      "outputs": [
        {
          "data": {
            "text/plain": [
              "Index(['name', 'location', 'Date', 'Rating', 'Review'], dtype='object')"
            ]
          },
          "execution_count": 6,
          "metadata": {},
          "output_type": "execute_result"
        }
      ],
      "source": [
        "df.columns"
      ]
    },
    {
      "cell_type": "markdown",
      "metadata": {
        "id": "tN_I4vDUsvf0"
      },
      "source": [
        "# **Data Preprocessing**"
      ]
    },
    {
      "cell_type": "markdown",
      "metadata": {
        "id": "dl3yBavcsvp_"
      },
      "source": [
        "## 1) Check the dataframe information"
      ]
    },
    {
      "cell_type": "code",
      "execution_count": null,
      "metadata": {
        "colab": {
          "base_uri": "https://localhost:8080/"
        },
        "id": "zQ0riVrlssOK",
        "outputId": "486bb971-ed8e-434c-f625-25c4bb8bc9ee"
      },
      "outputs": [
        {
          "name": "stdout",
          "output_type": "stream",
          "text": [
            "<class 'pandas.core.frame.DataFrame'>\n",
            "RangeIndex: 850 entries, 0 to 849\n",
            "Data columns (total 5 columns):\n",
            " #   Column    Non-Null Count  Dtype  \n",
            "---  ------    --------------  -----  \n",
            " 0   name      850 non-null    object \n",
            " 1   location  850 non-null    object \n",
            " 2   Date      850 non-null    object \n",
            " 3   Rating    705 non-null    float64\n",
            " 4   Review    850 non-null    object \n",
            "dtypes: float64(1), object(4)\n",
            "memory usage: 33.3+ KB\n"
          ]
        }
      ],
      "source": [
        "df.info()"
      ]
    },
    {
      "cell_type": "markdown",
      "metadata": {
        "id": "_rgatavTszWB"
      },
      "source": [
        "## 2) Shape of dataframe"
      ]
    },
    {
      "cell_type": "code",
      "execution_count": null,
      "metadata": {
        "colab": {
          "base_uri": "https://localhost:8080/"
        },
        "id": "hvy-b2G1s3t0",
        "outputId": "cc94bb7b-2be2-4129-d63a-394726fdea74"
      },
      "outputs": [
        {
          "data": {
            "text/plain": [
              "(850, 5)"
            ]
          },
          "execution_count": 8,
          "metadata": {},
          "output_type": "execute_result"
        }
      ],
      "source": [
        "df.shape"
      ]
    },
    {
      "cell_type": "markdown",
      "metadata": {
        "id": "-H8etxZStOsd"
      },
      "source": [
        "## 3) Size of dataframe"
      ]
    },
    {
      "cell_type": "code",
      "execution_count": null,
      "metadata": {
        "colab": {
          "base_uri": "https://localhost:8080/"
        },
        "id": "SljfLQustKQZ",
        "outputId": "550af378-e25b-4227-b655-5aae197918ad"
      },
      "outputs": [
        {
          "data": {
            "text/plain": [
              "4250"
            ]
          },
          "execution_count": 9,
          "metadata": {},
          "output_type": "execute_result"
        }
      ],
      "source": [
        "df.size"
      ]
    },
    {
      "cell_type": "markdown",
      "metadata": {
        "id": "fXY4M5C7tVlQ"
      },
      "source": [
        "## 4) Check for Null Values`"
      ]
    },
    {
      "cell_type": "code",
      "execution_count": null,
      "metadata": {
        "colab": {
          "base_uri": "https://localhost:8080/"
        },
        "id": "XwAKaXPRtUIC",
        "outputId": "f87c4058-d5d3-4eb2-f792-de0a908e00df"
      },
      "outputs": [
        {
          "data": {
            "text/plain": [
              "name          0\n",
              "location      0\n",
              "Date          0\n",
              "Rating      145\n",
              "Review        0\n",
              "dtype: int64"
            ]
          },
          "execution_count": 10,
          "metadata": {},
          "output_type": "execute_result"
        }
      ],
      "source": [
        "df.isnull().sum()"
      ]
    },
    {
      "cell_type": "markdown",
      "metadata": {
        "id": "PW_Giz2Gtml9"
      },
      "source": [
        "### Dataset Feature 'Rating' Contains 145 null values"
      ]
    },
    {
      "cell_type": "markdown",
      "metadata": {
        "id": "WnhyBbDmtxZp"
      },
      "source": [
        "## 5) Check the duplicate values"
      ]
    },
    {
      "cell_type": "code",
      "execution_count": null,
      "metadata": {
        "colab": {
          "base_uri": "https://localhost:8080/",
          "height": 81
        },
        "id": "sXMlKADttbaz",
        "outputId": "df50ec12-4014-4eb0-f532-bf10c40c8674"
      },
      "outputs": [
        {
          "data": {
            "text/html": [
              "<div>\n",
              "<style scoped>\n",
              "    .dataframe tbody tr th:only-of-type {\n",
              "        vertical-align: middle;\n",
              "    }\n",
              "\n",
              "    .dataframe tbody tr th {\n",
              "        vertical-align: top;\n",
              "    }\n",
              "\n",
              "    .dataframe thead th {\n",
              "        text-align: right;\n",
              "    }\n",
              "</style>\n",
              "<table border=\"1\" class=\"dataframe\">\n",
              "  <thead>\n",
              "    <tr style=\"text-align: right;\">\n",
              "      <th></th>\n",
              "      <th>name</th>\n",
              "      <th>location</th>\n",
              "      <th>Date</th>\n",
              "      <th>Rating</th>\n",
              "      <th>Review</th>\n",
              "    </tr>\n",
              "  </thead>\n",
              "  <tbody>\n",
              "    <tr>\n",
              "      <th>819</th>\n",
              "      <td>Nikki</td>\n",
              "      <td>Union City, CA</td>\n",
              "      <td>Reviewed Nov. 5, 2008</td>\n",
              "      <td>NaN</td>\n",
              "      <td>No Review Text</td>\n",
              "    </tr>\n",
              "  </tbody>\n",
              "</table>\n",
              "</div>"
            ],
            "text/plain": [
              "      name        location                   Date  Rating          Review\n",
              "819  Nikki  Union City, CA  Reviewed Nov. 5, 2008     NaN  No Review Text"
            ]
          },
          "execution_count": 11,
          "metadata": {},
          "output_type": "execute_result"
        }
      ],
      "source": [
        "df[df.duplicated()]"
      ]
    },
    {
      "cell_type": "markdown",
      "metadata": {
        "id": "zia9BxwOt587"
      },
      "source": [
        "## 6) Check the data type of each column"
      ]
    },
    {
      "cell_type": "code",
      "execution_count": null,
      "metadata": {
        "colab": {
          "base_uri": "https://localhost:8080/"
        },
        "id": "L6URqyQ3t45n",
        "outputId": "92ba38c0-e5ca-4faa-8a2e-228e1806eff9"
      },
      "outputs": [
        {
          "name": "stdout",
          "output_type": "stream",
          "text": [
            "name         object\n",
            "location     object\n",
            "Date         object\n",
            "Rating      float64\n",
            "Review       object\n",
            "dtype: object\n"
          ]
        }
      ],
      "source": [
        "print(df.dtypes)"
      ]
    },
    {
      "cell_type": "markdown",
      "metadata": {
        "id": "73cF7goFuCru"
      },
      "source": [
        "## 7) Check the statistical behaviour of data"
      ]
    },
    {
      "cell_type": "code",
      "execution_count": null,
      "metadata": {
        "colab": {
          "base_uri": "https://localhost:8080/",
          "height": 300
        },
        "id": "zHjAVHR-uByi",
        "outputId": "8302dfe5-1fb9-44c5-fc82-7b190af070ea"
      },
      "outputs": [
        {
          "data": {
            "text/html": [
              "<div>\n",
              "<style scoped>\n",
              "    .dataframe tbody tr th:only-of-type {\n",
              "        vertical-align: middle;\n",
              "    }\n",
              "\n",
              "    .dataframe tbody tr th {\n",
              "        vertical-align: top;\n",
              "    }\n",
              "\n",
              "    .dataframe thead th {\n",
              "        text-align: right;\n",
              "    }\n",
              "</style>\n",
              "<table border=\"1\" class=\"dataframe\">\n",
              "  <thead>\n",
              "    <tr style=\"text-align: right;\">\n",
              "      <th></th>\n",
              "      <th>Rating</th>\n",
              "    </tr>\n",
              "  </thead>\n",
              "  <tbody>\n",
              "    <tr>\n",
              "      <th>count</th>\n",
              "      <td>705.000000</td>\n",
              "    </tr>\n",
              "    <tr>\n",
              "      <th>mean</th>\n",
              "      <td>1.870922</td>\n",
              "    </tr>\n",
              "    <tr>\n",
              "      <th>std</th>\n",
              "      <td>1.397672</td>\n",
              "    </tr>\n",
              "    <tr>\n",
              "      <th>min</th>\n",
              "      <td>1.000000</td>\n",
              "    </tr>\n",
              "    <tr>\n",
              "      <th>25%</th>\n",
              "      <td>1.000000</td>\n",
              "    </tr>\n",
              "    <tr>\n",
              "      <th>50%</th>\n",
              "      <td>1.000000</td>\n",
              "    </tr>\n",
              "    <tr>\n",
              "      <th>75%</th>\n",
              "      <td>2.000000</td>\n",
              "    </tr>\n",
              "    <tr>\n",
              "      <th>max</th>\n",
              "      <td>5.000000</td>\n",
              "    </tr>\n",
              "  </tbody>\n",
              "</table>\n",
              "</div>"
            ],
            "text/plain": [
              "           Rating\n",
              "count  705.000000\n",
              "mean     1.870922\n",
              "std      1.397672\n",
              "min      1.000000\n",
              "25%      1.000000\n",
              "50%      1.000000\n",
              "75%      2.000000\n",
              "max      5.000000"
            ]
          },
          "execution_count": 13,
          "metadata": {},
          "output_type": "execute_result"
        }
      ],
      "source": [
        "df.describe()   #Only for the numerical column(Rating)"
      ]
    },
    {
      "cell_type": "code",
      "execution_count": null,
      "metadata": {
        "colab": {
          "base_uri": "https://localhost:8080/",
          "height": 175
        },
        "id": "lq70IA5JuFhH",
        "outputId": "6f8a5457-03a1-4640-83a8-deaca89b8bf6"
      },
      "outputs": [
        {
          "data": {
            "text/html": [
              "<div>\n",
              "<style scoped>\n",
              "    .dataframe tbody tr th:only-of-type {\n",
              "        vertical-align: middle;\n",
              "    }\n",
              "\n",
              "    .dataframe tbody tr th {\n",
              "        vertical-align: top;\n",
              "    }\n",
              "\n",
              "    .dataframe thead th {\n",
              "        text-align: right;\n",
              "    }\n",
              "</style>\n",
              "<table border=\"1\" class=\"dataframe\">\n",
              "  <thead>\n",
              "    <tr style=\"text-align: right;\">\n",
              "      <th></th>\n",
              "      <th>name</th>\n",
              "      <th>location</th>\n",
              "      <th>Date</th>\n",
              "      <th>Review</th>\n",
              "    </tr>\n",
              "  </thead>\n",
              "  <tbody>\n",
              "    <tr>\n",
              "      <th>count</th>\n",
              "      <td>850</td>\n",
              "      <td>850</td>\n",
              "      <td>850</td>\n",
              "      <td>850</td>\n",
              "    </tr>\n",
              "    <tr>\n",
              "      <th>unique</th>\n",
              "      <td>604</td>\n",
              "      <td>633</td>\n",
              "      <td>741</td>\n",
              "      <td>814</td>\n",
              "    </tr>\n",
              "    <tr>\n",
              "      <th>top</th>\n",
              "      <td>Linda</td>\n",
              "      <td>New York, NY</td>\n",
              "      <td>Reviewed Sept. 14, 2017</td>\n",
              "      <td>No Review Text</td>\n",
              "    </tr>\n",
              "    <tr>\n",
              "      <th>freq</th>\n",
              "      <td>13</td>\n",
              "      <td>14</td>\n",
              "      <td>4</td>\n",
              "      <td>37</td>\n",
              "    </tr>\n",
              "  </tbody>\n",
              "</table>\n",
              "</div>"
            ],
            "text/plain": [
              "         name      location                     Date          Review\n",
              "count     850           850                      850             850\n",
              "unique    604           633                      741             814\n",
              "top     Linda  New York, NY  Reviewed Sept. 14, 2017  No Review Text\n",
              "freq       13            14                        4              37"
            ]
          },
          "execution_count": 14,
          "metadata": {},
          "output_type": "execute_result"
        }
      ],
      "source": [
        "#Check for Textual(Categorical) Data also for that we need to use include command\n",
        "df.describe(include='object')"
      ]
    },
    {
      "cell_type": "markdown",
      "metadata": {
        "id": "StqLjD7EuPC9"
      },
      "source": [
        "### We have to fill the missing/null values in column rating"
      ]
    },
    {
      "cell_type": "markdown",
      "metadata": {
        "id": "3XEJA7h5uT4N"
      },
      "source": [
        "## 8) Filling missing/Null values"
      ]
    },
    {
      "cell_type": "code",
      "execution_count": null,
      "metadata": {
        "id": "6YZxCVCQuLu1"
      },
      "outputs": [],
      "source": [
        "median_rating = df['Rating'].median()\n",
        "df['Rating'].fillna(value=median_rating, inplace=True)"
      ]
    },
    {
      "cell_type": "code",
      "execution_count": null,
      "metadata": {
        "colab": {
          "base_uri": "https://localhost:8080/"
        },
        "id": "B891AN1PuP0q",
        "outputId": "5d390ac1-3283-4dec-8a93-57bcb91f3ea8"
      },
      "outputs": [
        {
          "data": {
            "text/plain": [
              "name        0\n",
              "location    0\n",
              "Date        0\n",
              "Rating      0\n",
              "Review      0\n",
              "dtype: int64"
            ]
          },
          "execution_count": 16,
          "metadata": {},
          "output_type": "execute_result"
        }
      ],
      "source": [
        "df.isnull().sum()"
      ]
    },
    {
      "cell_type": "markdown",
      "metadata": {
        "id": "FwOaoA4aub5-"
      },
      "source": [
        "## 9) Drop the duplicate values/rows from the dataset"
      ]
    },
    {
      "cell_type": "code",
      "execution_count": null,
      "metadata": {
        "id": "BnRVD9M8uZji"
      },
      "outputs": [],
      "source": [
        "df = df.drop_duplicates(subset=['name'])"
      ]
    },
    {
      "cell_type": "code",
      "execution_count": null,
      "metadata": {
        "colab": {
          "base_uri": "https://localhost:8080/",
          "height": 53
        },
        "id": "9JJGgNeeufb8",
        "outputId": "a3b6f58f-3ea8-4e59-ce49-4e064fb91bee"
      },
      "outputs": [
        {
          "data": {
            "text/html": [
              "<div>\n",
              "<style scoped>\n",
              "    .dataframe tbody tr th:only-of-type {\n",
              "        vertical-align: middle;\n",
              "    }\n",
              "\n",
              "    .dataframe tbody tr th {\n",
              "        vertical-align: top;\n",
              "    }\n",
              "\n",
              "    .dataframe thead th {\n",
              "        text-align: right;\n",
              "    }\n",
              "</style>\n",
              "<table border=\"1\" class=\"dataframe\">\n",
              "  <thead>\n",
              "    <tr style=\"text-align: right;\">\n",
              "      <th></th>\n",
              "      <th>name</th>\n",
              "      <th>location</th>\n",
              "      <th>Date</th>\n",
              "      <th>Rating</th>\n",
              "      <th>Review</th>\n",
              "    </tr>\n",
              "  </thead>\n",
              "  <tbody>\n",
              "  </tbody>\n",
              "</table>\n",
              "</div>"
            ],
            "text/plain": [
              "Empty DataFrame\n",
              "Columns: [name, location, Date, Rating, Review]\n",
              "Index: []"
            ]
          },
          "execution_count": 18,
          "metadata": {},
          "output_type": "execute_result"
        }
      ],
      "source": [
        "df[df.duplicated()]"
      ]
    },
    {
      "cell_type": "code",
      "execution_count": null,
      "metadata": {
        "id": "018q7zCBuhBs"
      },
      "outputs": [],
      "source": [
        "# Logging method helps to record the messages and events during the program.\n",
        "\n",
        "import logging\n",
        "logging.info(\"Data preprocessing step completed.\")"
      ]
    },
    {
      "cell_type": "markdown",
      "metadata": {
        "id": "nvLzAdjyupZw"
      },
      "source": [
        "# **Conclusion: Done with Data Analysis Part**"
      ]
    },
    {
      "cell_type": "markdown",
      "metadata": {
        "id": "ci6uvj0TuzUJ"
      },
      "source": [
        "# **Performing EDA and respective Data Visulization.**"
      ]
    },
    {
      "cell_type": "code",
      "execution_count": null,
      "metadata": {
        "id": "cZhoWKxpu2P0"
      },
      "outputs": [],
      "source": [
        "#Ignore the warning which get during the execution\n",
        "import warnings\n",
        "warnings.filterwarnings(\"ignore\")"
      ]
    },
    {
      "cell_type": "code",
      "execution_count": null,
      "metadata": {
        "colab": {
          "base_uri": "https://localhost:8080/",
          "height": 423
        },
        "id": "mt0GrW-Xu6wR",
        "outputId": "b024e22d-ea40-4d72-e791-6f1a9279d16a"
      },
      "outputs": [
        {
          "data": {
            "text/html": [
              "<div>\n",
              "<style scoped>\n",
              "    .dataframe tbody tr th:only-of-type {\n",
              "        vertical-align: middle;\n",
              "    }\n",
              "\n",
              "    .dataframe tbody tr th {\n",
              "        vertical-align: top;\n",
              "    }\n",
              "\n",
              "    .dataframe thead th {\n",
              "        text-align: right;\n",
              "    }\n",
              "</style>\n",
              "<table border=\"1\" class=\"dataframe\">\n",
              "  <thead>\n",
              "    <tr style=\"text-align: right;\">\n",
              "      <th></th>\n",
              "      <th>name</th>\n",
              "      <th>location</th>\n",
              "      <th>Date</th>\n",
              "      <th>Rating</th>\n",
              "      <th>Review</th>\n",
              "    </tr>\n",
              "  </thead>\n",
              "  <tbody>\n",
              "    <tr>\n",
              "      <th>0</th>\n",
              "      <td>Helen</td>\n",
              "      <td>Wichita Falls, TX</td>\n",
              "      <td>Reviewed Sept. 13, 2023</td>\n",
              "      <td>5.0</td>\n",
              "      <td>Amber and LaDonna at the Caffeine_Corner on So...</td>\n",
              "    </tr>\n",
              "    <tr>\n",
              "      <th>1</th>\n",
              "      <td>Courtney</td>\n",
              "      <td>Apopka, FL</td>\n",
              "      <td>Reviewed July 16, 2023</td>\n",
              "      <td>5.0</td>\n",
              "      <td>** at the Caffeine_Corner by the fire station ...</td>\n",
              "    </tr>\n",
              "    <tr>\n",
              "      <th>2</th>\n",
              "      <td>Daynelle</td>\n",
              "      <td>Cranberry Twp, PA</td>\n",
              "      <td>Reviewed July 5, 2023</td>\n",
              "      <td>5.0</td>\n",
              "      <td>I just wanted to go out of my way to recognize...</td>\n",
              "    </tr>\n",
              "    <tr>\n",
              "      <th>3</th>\n",
              "      <td>Taylor</td>\n",
              "      <td>Seattle, WA</td>\n",
              "      <td>Reviewed May 26, 2023</td>\n",
              "      <td>5.0</td>\n",
              "      <td>Me and my friend were at Caffeine_Corner and m...</td>\n",
              "    </tr>\n",
              "    <tr>\n",
              "      <th>4</th>\n",
              "      <td>Tenessa</td>\n",
              "      <td>Gresham, OR</td>\n",
              "      <td>Reviewed Jan. 22, 2023</td>\n",
              "      <td>5.0</td>\n",
              "      <td>I’m on this kick of drinking 5 cups of warm wa...</td>\n",
              "    </tr>\n",
              "    <tr>\n",
              "      <th>...</th>\n",
              "      <td>...</td>\n",
              "      <td>...</td>\n",
              "      <td>...</td>\n",
              "      <td>...</td>\n",
              "      <td>...</td>\n",
              "    </tr>\n",
              "    <tr>\n",
              "      <th>839</th>\n",
              "      <td>Michele</td>\n",
              "      <td>Santa Clara, CA</td>\n",
              "      <td>Reviewed Jan. 21, 2008</td>\n",
              "      <td>1.0</td>\n",
              "      <td>No Review Text</td>\n",
              "    </tr>\n",
              "    <tr>\n",
              "      <th>843</th>\n",
              "      <td>Franklin</td>\n",
              "      <td>Lisbon Falls, ME</td>\n",
              "      <td>Reviewed June 15, 2007</td>\n",
              "      <td>1.0</td>\n",
              "      <td>No Review Text</td>\n",
              "    </tr>\n",
              "    <tr>\n",
              "      <th>844</th>\n",
              "      <td>Sabine</td>\n",
              "      <td>Redondo Beach, CA</td>\n",
              "      <td>Reviewed Dec. 19, 2006</td>\n",
              "      <td>1.0</td>\n",
              "      <td>I'm (was) a regular customer who ordered a lat...</td>\n",
              "    </tr>\n",
              "    <tr>\n",
              "      <th>847</th>\n",
              "      <td>Erik</td>\n",
              "      <td>Valley Village, CA</td>\n",
              "      <td>Reviewed Nov. 5, 2004</td>\n",
              "      <td>1.0</td>\n",
              "      <td>DEMANDED TIPS FROM ME, THEN MADE ME WAIT UNTIL...</td>\n",
              "    </tr>\n",
              "    <tr>\n",
              "      <th>849</th>\n",
              "      <td>Christian</td>\n",
              "      <td>Ramsey, NJ</td>\n",
              "      <td>Reviewed July 19, 2000</td>\n",
              "      <td>1.0</td>\n",
              "      <td>No Review Text</td>\n",
              "    </tr>\n",
              "  </tbody>\n",
              "</table>\n",
              "<p>604 rows × 5 columns</p>\n",
              "</div>"
            ],
            "text/plain": [
              "          name            location                     Date  Rating  \\\n",
              "0        Helen   Wichita Falls, TX  Reviewed Sept. 13, 2023     5.0   \n",
              "1     Courtney          Apopka, FL   Reviewed July 16, 2023     5.0   \n",
              "2     Daynelle   Cranberry Twp, PA    Reviewed July 5, 2023     5.0   \n",
              "3       Taylor         Seattle, WA    Reviewed May 26, 2023     5.0   \n",
              "4      Tenessa         Gresham, OR   Reviewed Jan. 22, 2023     5.0   \n",
              "..         ...                 ...                      ...     ...   \n",
              "839    Michele     Santa Clara, CA   Reviewed Jan. 21, 2008     1.0   \n",
              "843   Franklin    Lisbon Falls, ME   Reviewed June 15, 2007     1.0   \n",
              "844     Sabine   Redondo Beach, CA   Reviewed Dec. 19, 2006     1.0   \n",
              "847       Erik  Valley Village, CA    Reviewed Nov. 5, 2004     1.0   \n",
              "849  Christian          Ramsey, NJ   Reviewed July 19, 2000     1.0   \n",
              "\n",
              "                                                Review  \n",
              "0    Amber and LaDonna at the Caffeine_Corner on So...  \n",
              "1    ** at the Caffeine_Corner by the fire station ...  \n",
              "2    I just wanted to go out of my way to recognize...  \n",
              "3    Me and my friend were at Caffeine_Corner and m...  \n",
              "4    I’m on this kick of drinking 5 cups of warm wa...  \n",
              "..                                                 ...  \n",
              "839                                     No Review Text  \n",
              "843                                     No Review Text  \n",
              "844  I'm (was) a regular customer who ordered a lat...  \n",
              "847  DEMANDED TIPS FROM ME, THEN MADE ME WAIT UNTIL...  \n",
              "849                                     No Review Text  \n",
              "\n",
              "[604 rows x 5 columns]"
            ]
          },
          "execution_count": 21,
          "metadata": {},
          "output_type": "execute_result"
        }
      ],
      "source": [
        "df"
      ]
    },
    {
      "cell_type": "markdown",
      "metadata": {
        "id": "q6wH6_98u_rl"
      },
      "source": [
        "# 1) No. of ratings Distribution"
      ]
    },
    {
      "cell_type": "code",
      "execution_count": null,
      "metadata": {
        "colab": {
          "base_uri": "https://localhost:8080/",
          "height": 542
        },
        "id": "V4M3x-HmvER5",
        "outputId": "6907331a-8fef-4668-fab0-e703ce387c31"
      },
      "outputs": [
        {
          "data": {
            "image/png": "[encoded data removed]",
            "text/plain": [
              "<Figure size 1000x600 with 1 Axes>"
            ]
          },
          "metadata": {},
          "output_type": "display_data"
        }
      ],
      "source": [
        "plt.figure(figsize=(10,6))\n",
        "\n",
        "X = sns.histplot(df['Rating'])\n",
        "\n",
        "for bars in X.containers:\n",
        "    X.bar_label(bars)"
      ]
    },
    {
      "cell_type": "markdown",
      "metadata": {
        "id": "9hmhdJIAwNjX"
      },
      "source": [
        "**Insights:**\n",
        "\n",
        "*   **This Graph reflects the distibution of ratings**\n",
        "*   **This is kind of biased dataset because we got 422 entries having 1 Star rating while only 62 entries got 5 star rating**"
      ]
    },
    {
      "cell_type": "markdown",
      "metadata": {
        "id": "iH5aIDKgO4l_"
      },
      "source": [
        "# Creating Subset of data"
      ]
    },
    {
      "cell_type": "code",
      "execution_count": null,
      "metadata": {
        "id": "NsMP3kGPvVwr"
      },
      "outputs": [],
      "source": [
        "df_subset = df.sample(10)  #Taking 20 random samples from the dataset"
      ]
    },
    {
      "cell_type": "code",
      "execution_count": null,
      "metadata": {
        "colab": {
          "base_uri": "https://localhost:8080/",
          "height": 363
        },
        "id": "0JEzXXeAvWCn",
        "outputId": "db0c1be9-f2e9-4e81-e900-355d514dac5a"
      },
      "outputs": [
        {
          "data": {
            "text/html": [
              "<div>\n",
              "<style scoped>\n",
              "    .dataframe tbody tr th:only-of-type {\n",
              "        vertical-align: middle;\n",
              "    }\n",
              "\n",
              "    .dataframe tbody tr th {\n",
              "        vertical-align: top;\n",
              "    }\n",
              "\n",
              "    .dataframe thead th {\n",
              "        text-align: right;\n",
              "    }\n",
              "</style>\n",
              "<table border=\"1\" class=\"dataframe\">\n",
              "  <thead>\n",
              "    <tr style=\"text-align: right;\">\n",
              "      <th></th>\n",
              "      <th>name</th>\n",
              "      <th>location</th>\n",
              "      <th>Date</th>\n",
              "      <th>Rating</th>\n",
              "      <th>Review</th>\n",
              "    </tr>\n",
              "  </thead>\n",
              "  <tbody>\n",
              "    <tr>\n",
              "      <th>690</th>\n",
              "      <td>Rae</td>\n",
              "      <td>Barataria, LA</td>\n",
              "      <td>Reviewed Nov. 10, 2011</td>\n",
              "      <td>2.0</td>\n",
              "      <td>I visit Caffeine_Corner at least three times a...</td>\n",
              "    </tr>\n",
              "    <tr>\n",
              "      <th>823</th>\n",
              "      <td>Josh</td>\n",
              "      <td>Louisville, KY</td>\n",
              "      <td>Reviewed Oct. 23, 2008</td>\n",
              "      <td>1.0</td>\n",
              "      <td>No Review Text</td>\n",
              "    </tr>\n",
              "    <tr>\n",
              "      <th>494</th>\n",
              "      <td>Luqman</td>\n",
              "      <td>New York, NY</td>\n",
              "      <td>Reviewed June 15, 2015</td>\n",
              "      <td>2.0</td>\n",
              "      <td>Caffeine_Corner on 3rd Avenue and 87th Street ...</td>\n",
              "    </tr>\n",
              "    <tr>\n",
              "      <th>581</th>\n",
              "      <td>Delores</td>\n",
              "      <td>Oxnard, CA</td>\n",
              "      <td>Reviewed Aug. 12, 2014</td>\n",
              "      <td>1.0</td>\n",
              "      <td>Poor service to paying customer than non payin...</td>\n",
              "    </tr>\n",
              "    <tr>\n",
              "      <th>306</th>\n",
              "      <td>Darlene</td>\n",
              "      <td>Mobile, Ala</td>\n",
              "      <td>Reviewed Sept. 12, 2017</td>\n",
              "      <td>5.0</td>\n",
              "      <td>Excellent place to eat. Atmosphere is very rel...</td>\n",
              "    </tr>\n",
              "    <tr>\n",
              "      <th>235</th>\n",
              "      <td>J. K.</td>\n",
              "      <td>Aiken, SC</td>\n",
              "      <td>Reviewed Aug. 30, 2018</td>\n",
              "      <td>1.0</td>\n",
              "      <td>I very rarely drink coffee so I'm very particu...</td>\n",
              "    </tr>\n",
              "    <tr>\n",
              "      <th>356</th>\n",
              "      <td>Leslie</td>\n",
              "      <td>Carmel, IN</td>\n",
              "      <td>Reviewed Aug. 15, 2017</td>\n",
              "      <td>5.0</td>\n",
              "      <td>Caffeine_Corner has consistent product, pleasa...</td>\n",
              "    </tr>\n",
              "    <tr>\n",
              "      <th>233</th>\n",
              "      <td>Colbi</td>\n",
              "      <td>Kansas City, MO</td>\n",
              "      <td>Reviewed Sept. 7, 2018</td>\n",
              "      <td>2.0</td>\n",
              "      <td>Recently, I have noticed that there are new Bl...</td>\n",
              "    </tr>\n",
              "    <tr>\n",
              "      <th>264</th>\n",
              "      <td>Judy</td>\n",
              "      <td>Marlboro, NJ</td>\n",
              "      <td>Reviewed Jan. 5, 2018</td>\n",
              "      <td>4.0</td>\n",
              "      <td>Service and quality of foods were good in Caff...</td>\n",
              "    </tr>\n",
              "    <tr>\n",
              "      <th>262</th>\n",
              "      <td>Guner</td>\n",
              "      <td>Miami, FL</td>\n",
              "      <td>Reviewed Jan. 14, 2018</td>\n",
              "      <td>1.0</td>\n",
              "      <td>Caffeine_Corner, 19127 Biscayne Blvd (Aventura...</td>\n",
              "    </tr>\n",
              "  </tbody>\n",
              "</table>\n",
              "</div>"
            ],
            "text/plain": [
              "        name         location                     Date  Rating  \\\n",
              "690      Rae    Barataria, LA   Reviewed Nov. 10, 2011     2.0   \n",
              "823     Josh   Louisville, KY   Reviewed Oct. 23, 2008     1.0   \n",
              "494   Luqman     New York, NY   Reviewed June 15, 2015     2.0   \n",
              "581  Delores       Oxnard, CA   Reviewed Aug. 12, 2014     1.0   \n",
              "306  Darlene      Mobile, Ala  Reviewed Sept. 12, 2017     5.0   \n",
              "235    J. K.        Aiken, SC   Reviewed Aug. 30, 2018     1.0   \n",
              "356   Leslie       Carmel, IN   Reviewed Aug. 15, 2017     5.0   \n",
              "233    Colbi  Kansas City, MO   Reviewed Sept. 7, 2018     2.0   \n",
              "264     Judy     Marlboro, NJ    Reviewed Jan. 5, 2018     4.0   \n",
              "262    Guner        Miami, FL   Reviewed Jan. 14, 2018     1.0   \n",
              "\n",
              "                                                Review  \n",
              "690  I visit Caffeine_Corner at least three times a...  \n",
              "823                                     No Review Text  \n",
              "494  Caffeine_Corner on 3rd Avenue and 87th Street ...  \n",
              "581  Poor service to paying customer than non payin...  \n",
              "306  Excellent place to eat. Atmosphere is very rel...  \n",
              "235  I very rarely drink coffee so I'm very particu...  \n",
              "356  Caffeine_Corner has consistent product, pleasa...  \n",
              "233  Recently, I have noticed that there are new Bl...  \n",
              "264  Service and quality of foods were good in Caff...  \n",
              "262  Caffeine_Corner, 19127 Biscayne Blvd (Aventura...  "
            ]
          },
          "execution_count": 24,
          "metadata": {},
          "output_type": "execute_result"
        }
      ],
      "source": [
        "df_subset"
      ]
    },
    {
      "cell_type": "markdown",
      "metadata": {
        "id": "6IEjiQGwaCdj"
      },
      "source": [
        "# 2) Distribution By Pie chart"
      ]
    },
    {
      "cell_type": "code",
      "execution_count": null,
      "metadata": {
        "colab": {
          "base_uri": "https://localhost:8080/",
          "height": 756
        },
        "id": "SefT2lMYQwVC",
        "outputId": "70609c7a-f6d6-4192-dcf7-554bc49a2e3b"
      },
      "outputs": [
        {
          "data": {
            "image/png": "[encoded data removed]",
            "text/plain": [
              "<Figure size 640x480 with 1 Axes>"
            ]
          },
          "metadata": {},
          "output_type": "display_data"
        }
      ],
      "source": [
        "exp = [0,0,0,0.4,0,0,0,0,0,0]\n",
        "plt.pie(df_subset['Rating'],labels = df_subset['Rating'],autopct='%0.2f%%', radius=2,\n",
        "        startangle=360, explode=exp)\n",
        "plt.show()"
      ]
    },
    {
      "cell_type": "markdown",
      "metadata": {
        "id": "iocBUq2NsEQ6"
      },
      "source": [
        "**Conclusion:**\n",
        "\n",
        "**This pie chart shows the distribution of ratings in percentages**\n",
        "**31% records got 5 Star rating, 18% records got 3 Star Rating while, others got 1 Star rating (In this graph)**"
      ]
    },
    {
      "cell_type": "markdown",
      "metadata": {
        "id": "mtDMUPEeZK9Z"
      },
      "source": [
        "# 3) Location Wise Rating"
      ]
    },
    {
      "cell_type": "code",
      "execution_count": null,
      "metadata": {
        "colab": {
          "base_uri": "https://localhost:8080/",
          "height": 733
        },
        "id": "azU6usBNvWPI",
        "outputId": "811fe70d-ad14-4993-c483-214d3baeb0e9"
      },
      "outputs": [
        {
          "data": {
            "image/png": "[encoded data removed]",
            "text/plain": [
              "<Figure size 1000x800 with 1 Axes>"
            ]
          },
          "metadata": {},
          "output_type": "display_data"
        }
      ],
      "source": [
        "plt.figure(figsize=(10,8))\n",
        "data = sns.barplot(x=df_subset['name'], y=df_subset['Rating'], hue=df_subset['location'])\n",
        "plt.xticks(rotation=45, ha='right')\n",
        "\n",
        "for bars in data.containers:\n",
        "  data.bar_label(bars)"
      ]
    },
    {
      "cell_type": "markdown",
      "metadata": {
        "id": "aZMrkfSYr1gk"
      },
      "source": [
        "**Conclusion:**\n",
        "\n",
        "**In this plot we clearely observes that, Location wise rating given by each particular user. we see that, 'CAROL' and 'Iris' persons gives the highest rating that is 3 and 5 respectively...**"
      ]
    },
    {
      "cell_type": "markdown",
      "metadata": {
        "id": "6zU9x4ehfGpM"
      },
      "source": [
        "# **Model Training**"
      ]
    },
    {
      "cell_type": "code",
      "execution_count": null,
      "metadata": {
        "id": "AuH8AjU1vaXq"
      },
      "outputs": [],
      "source": [
        "import pandas as pd\n",
        "from sklearn.model_selection import train_test_split\n",
        "from sklearn.feature_extraction.text import CountVectorizer\n",
        "\n",
        "X = df['Review']\n",
        "y = df['Rating']\n",
        "\n",
        "X_train, X_test, y_train, y_test = train_test_split(X, y, test_size=0.2, random_state=42)\n",
        "\n",
        "\n",
        "from sklearn.feature_extraction.text import CountVectorizer\n",
        "count_vectorizer = CountVectorizer(stop_words='english')\n",
        "count_train = count_vectorizer.fit_transform(X_train.values)\n",
        "count_test = count_vectorizer.transform(X_test.values)"
      ]
    },
    {
      "cell_type": "markdown",
      "metadata": {
        "id": "h_Z6qIf_TWLe"
      },
      "source": [
        "## **Insights:**\n",
        "\n",
        "\n",
        "*   **In this step, model training and testing has to be performed**\n",
        "*   **Parallely, we do the feature extraction using count Vectorizer technique\n",
        "    which converts the text context into tokens by removing the stopwords from English Language Contex like (in, the, or, an, a) etc.**\n",
        "\n",
        "\n",
        "*   **Train and test our model on this tokens created by countvectorizer and use it for further analysis.**\n",
        "\n",
        "\n",
        "\n"
      ]
    },
    {
      "cell_type": "markdown",
      "metadata": {
        "id": "i4BDxEA9vdQ6"
      },
      "source": [
        "# 1) Logistic Regression"
      ]
    },
    {
      "cell_type": "code",
      "execution_count": null,
      "metadata": {
        "id": "GPxW24UnvgyZ"
      },
      "outputs": [],
      "source": [
        "from sklearn.linear_model import LogisticRegression\n",
        "from sklearn.metrics import accuracy_score, precision_score, recall_score, f1_score, confusion_matrix\n",
        "\n",
        "lR = LogisticRegression()\n",
        "lR.fit(count_train, y_train)\n",
        "\n",
        "# Predicting on test set\n",
        "y_pred_LR = lR.predict(count_test)"
      ]
    },
    {
      "cell_type": "code",
      "execution_count": null,
      "metadata": {
        "id": "JyOSasx6vjZ6"
      },
      "outputs": [],
      "source": [
        "accuracy_LR = accuracy_score(y_test, y_pred_LR)*100\n",
        "precision_LR = precision_score(y_test, y_pred_LR, average='weighted')*100\n",
        "recall_LR = recall_score(y_test, y_pred_LR, average='weighted')*100\n",
        "f1_score_LR = f1_score(y_test, y_pred_LR, average='weighted')*100\n",
        "confusion_matrix_LR = confusion_matrix(y_test, y_pred_LR)"
      ]
    },
    {
      "cell_type": "code",
      "execution_count": null,
      "metadata": {
        "colab": {
          "base_uri": "https://localhost:8080/"
        },
        "id": "_9Dsq3VHvlMm",
        "outputId": "a6530678-9535-4835-cbe8-7fa9fca1e1e6"
      },
      "outputs": [
        {
          "name": "stdout",
          "output_type": "stream",
          "text": [
            "Accuracy_Score: 66.94214876033058\n",
            "Precision_Score: 62.15542450096731\n",
            "Recall_Score: 66.94214876033058\n",
            "F1_Score: 61.48788629025782\n",
            "Confusion_Matrix_Score:\n",
            "[[74  6  0  0  1]\n",
            " [16  1  0  0  0]\n",
            " [ 2  0  0  0  1]\n",
            " [ 5  0  0  1  1]\n",
            " [ 6  2  0  0  5]]\n"
          ]
        }
      ],
      "source": [
        "print('Accuracy_Score:', accuracy_LR)\n",
        "print('Precision_Score:', precision_LR)\n",
        "print('Recall_Score:', recall_LR)\n",
        "print('F1_Score:', f1_score_LR)\n",
        "print('Confusion_Matrix_Score:')\n",
        "print(confusion_matrix_LR)"
      ]
    },
    {
      "cell_type": "markdown",
      "metadata": {
        "id": "W2yNwXEJOxsk"
      },
      "source": [
        "## **Insights:**\n",
        "\n",
        "\n",
        "*  **In Logistic Regression Method:**\n",
        "*  **Overall model accuracy which we got is 66.94%**\n",
        "\n",
        "*   **Precision_Score: 62.15%**\n",
        "*   **Recall_Score: 66.94%**\n",
        "*   **F1_Score: 61.48%**"
      ]
    },
    {
      "cell_type": "markdown",
      "metadata": {
        "id": "AhR4bugvvpfQ"
      },
      "source": [
        "# 2) Naive Bayes"
      ]
    },
    {
      "cell_type": "code",
      "execution_count": null,
      "metadata": {
        "id": "KoLSn-1LvsfP"
      },
      "outputs": [],
      "source": [
        "from sklearn.model_selection import train_test_split\n",
        "from sklearn.naive_bayes import MultinomialNB\n",
        "\n",
        "NB = MultinomialNB()\n",
        "NB.fit(count_train, y_train)\n",
        "\n",
        "y_pred_NB = NB.predict(count_test)"
      ]
    },
    {
      "cell_type": "code",
      "execution_count": null,
      "metadata": {
        "id": "5VYgJjmkvuFZ"
      },
      "outputs": [],
      "source": [
        "accuracy_NB = accuracy_score(y_test, y_pred_NB)*100\n",
        "precision_NB = precision_score(y_test, y_pred_NB, average='weighted')*100\n",
        "recall_NB = recall_score(y_test, y_pred_NB, average='weighted')*100\n",
        "f1_score_NB = f1_score(y_test, y_pred_NB, average='weighted')*100\n",
        "confusion_matrix_NB = confusion_matrix(y_test, y_pred_NB)"
      ]
    },
    {
      "cell_type": "code",
      "execution_count": null,
      "metadata": {
        "colab": {
          "base_uri": "https://localhost:8080/"
        },
        "id": "TgyCCv5BvvZI",
        "outputId": "67e2316f-21a2-4863-a162-2e4da40f4166"
      },
      "outputs": [
        {
          "name": "stdout",
          "output_type": "stream",
          "text": [
            "Accuracy_Score: 67.76859504132231\n",
            "Precision_Score: 51.14431023521932\n",
            "Recall_Score: 67.76859504132231\n",
            "F1_Score: 56.62261899500597\n",
            "Confusion_Matrix:\n",
            "[[80  0  0  0  1]\n",
            " [17  0  0  0  0]\n",
            " [ 3  0  0  0  0]\n",
            " [ 6  0  0  0  1]\n",
            " [11  0  0  0  2]]\n"
          ]
        }
      ],
      "source": [
        "print('Accuracy_Score:', accuracy_NB)\n",
        "print('Precision_Score:', precision_NB)\n",
        "print('Recall_Score:', recall_NB)\n",
        "print('F1_Score:', f1_score_NB)\n",
        "print('Confusion_Matrix:')\n",
        "print(confusion_matrix_NB)"
      ]
    },
    {
      "cell_type": "markdown",
      "metadata": {
        "id": "UZvACzo6PwFg"
      },
      "source": [
        "## **Insights:**\n",
        "\n",
        "\n",
        "*   **In Naive Bayes Classifier Method:**\n",
        "\n",
        "*    **Overall model accuracy which we got is 67.76%**\n",
        "\n",
        "*   **Precision_Score: 51.14%**\n",
        "*   **Recall_Score: 67.76%**\n",
        "*  **F1_Score: 56.62%**"
      ]
    },
    {
      "cell_type": "markdown",
      "metadata": {
        "id": "kIPaUmCzvzK1"
      },
      "source": [
        "# 3) Support Vector Machine"
      ]
    },
    {
      "cell_type": "code",
      "execution_count": null,
      "metadata": {
        "id": "pv4CSwErv0s7"
      },
      "outputs": [],
      "source": [
        "from sklearn.svm import SVC\n",
        "from sklearn import metrics\n",
        "\n",
        "svm_cls = SVC(kernel='linear')\n",
        "svm_cls.fit(count_train, y_train)\n",
        "\n",
        "y_pred_SVM = svm_cls.predict(count_test)"
      ]
    },
    {
      "cell_type": "code",
      "execution_count": null,
      "metadata": {
        "id": "gtc_YW4_v2gN"
      },
      "outputs": [],
      "source": [
        "accuracy_SVM = metrics.accuracy_score(y_test, y_pred_SVM)*100\n",
        "precision_SVM = metrics.precision_score(y_test, y_pred_SVM, average='weighted')*100\n",
        "recall_SVM = metrics.recall_score(y_test, y_pred_SVM, average='weighted')*100\n",
        "f1_score_SVM = metrics.f1_score(y_test, y_pred_SVM, average='weighted')*100\n",
        "confusion_matrix_SVM = metrics.confusion_matrix(y_test, y_pred_SVM)"
      ]
    },
    {
      "cell_type": "code",
      "execution_count": null,
      "metadata": {
        "colab": {
          "base_uri": "https://localhost:8080/"
        },
        "id": "1UsciVjDv4Na",
        "outputId": "7237f20f-68cd-4d99-c4b7-e3ddcbc7368d"
      },
      "outputs": [
        {
          "name": "stdout",
          "output_type": "stream",
          "text": [
            "Accuracy_Score: 66.11570247933885\n",
            "Precision_Score: 61.23700346574247\n",
            "Recall_Score: 66.11570247933885\n",
            "F1_Score: 63.08349957252779\n",
            "Confusion_Matrix:\n",
            "[[69  7  0  2  3]\n",
            " [12  4  0  0  1]\n",
            " [ 2  0  0  0  1]\n",
            " [ 4  0  0  1  2]\n",
            " [ 6  1  0  0  6]]\n"
          ]
        }
      ],
      "source": [
        "print('Accuracy_Score:', accuracy_SVM)\n",
        "print('Precision_Score:', precision_SVM)\n",
        "print('Recall_Score:', recall_SVM)\n",
        "print('F1_Score:', f1_score_SVM)\n",
        "print('Confusion_Matrix:')\n",
        "print(confusion_matrix_SVM)"
      ]
    },
    {
      "cell_type": "markdown",
      "metadata": {
        "id": "007FoLW0P9y2"
      },
      "source": [
        "## **Insights:**\n",
        "\n",
        "\n",
        "*  **In Support Vector Machine Method:**\n",
        "*  **Overall model accuracy which we got is 66.11%**\n",
        "*   **Precision_Score: 61.23%**\n",
        "*   **Recall_Score: 66.11%**\n",
        "*   **F1_Score: 63.08%**"
      ]
    },
    {
      "cell_type": "markdown",
      "metadata": {
        "id": "5-O-0XjkwBz2"
      },
      "source": [
        "# 4) Decision Tree Classifier"
      ]
    },
    {
      "cell_type": "code",
      "execution_count": null,
      "metadata": {
        "id": "gZwAGTt0wCv_"
      },
      "outputs": [],
      "source": [
        "from sklearn.tree import DecisionTreeClassifier\n",
        "from sklearn import metrics"
      ]
    },
    {
      "cell_type": "code",
      "execution_count": null,
      "metadata": {
        "id": "bkoWcJ87wG7F"
      },
      "outputs": [],
      "source": [
        "DT = DecisionTreeClassifier(criterion='gini')\n",
        "DT.fit(count_train, y_train)\n",
        "\n",
        "y_pred_DT = DT.predict(count_test)"
      ]
    },
    {
      "cell_type": "code",
      "execution_count": null,
      "metadata": {
        "id": "nYSc7Zy8wHKp"
      },
      "outputs": [],
      "source": [
        "accuracy_DT = metrics.accuracy_score(y_test, y_pred_DT)*100\n",
        "precision_DT = metrics.precision_score(y_test, y_pred_DT, average='weighted')*100\n",
        "recall_DT = metrics.recall_score(y_test, y_pred_DT, average='weighted')*100\n",
        "f1_score_DT = metrics.f1_score(y_test, y_pred_DT, average='weighted')*100\n",
        "confusion_matrix_DT = metrics.confusion_matrix(y_test, y_pred_DT)"
      ]
    },
    {
      "cell_type": "code",
      "execution_count": null,
      "metadata": {
        "colab": {
          "base_uri": "https://localhost:8080/"
        },
        "id": "BiCXxiiYwIq-",
        "outputId": "dba5eaf2-8ebc-413b-a7c6-177e9eb3a247"
      },
      "outputs": [
        {
          "name": "stdout",
          "output_type": "stream",
          "text": [
            "Accuracy_Score: 62.8099173553719\n",
            "Precision_Score: 58.199300912089534\n",
            "Recall_Score: 62.8099173553719\n",
            "F1_Score: 59.13037422230477\n",
            "Confusion_Matrix:\n",
            "[[69  5  0  2  5]\n",
            " [12  2  0  1  2]\n",
            " [ 0  0  1  1  1]\n",
            " [ 6  0  0  1  0]\n",
            " [10  0  0  0  3]]\n"
          ]
        }
      ],
      "source": [
        "print('Accuracy_Score:', accuracy_DT)\n",
        "print('Precision_Score:', precision_DT)\n",
        "print('Recall_Score:', recall_DT)\n",
        "print('F1_Score:', f1_score_DT)\n",
        "print('Confusion_Matrix:')\n",
        "print(confusion_matrix_DT)"
      ]
    },
    {
      "cell_type": "markdown",
      "metadata": {
        "id": "x70SY2PcQN7V"
      },
      "source": [
        "### **Insights:**\n",
        "\n",
        "*   **In Decision Tree Classifier Method:**\n",
        "*   **Overall model accuracy which we got is 57.02%**\n",
        "\n",
        "*   **Precision_Score: 51.42%**\n",
        "*   **Recall_Score: 57.02%**\n",
        "*   **F1_Score: 54.00%**\n",
        "\n"
      ]
    },
    {
      "cell_type": "markdown",
      "metadata": {
        "id": "cM8K9WcTwM0a"
      },
      "source": [
        "# Check the graphical visulization of these accuracies"
      ]
    },
    {
      "cell_type": "code",
      "execution_count": null,
      "metadata": {
        "colab": {
          "base_uri": "https://localhost:8080/",
          "height": 545
        },
        "id": "huFuKHGhwSTK",
        "outputId": "14d8a930-61fe-41e6-e4e2-f5972c4a33df"
      },
      "outputs": [
        {
          "data": {
            "image/png": "[encoded data removed]",
            "text/plain": [
              "<Figure size 1000x600 with 1 Axes>"
            ]
          },
          "metadata": {},
          "output_type": "display_data"
        }
      ],
      "source": [
        "import matplotlib.pyplot as plt\n",
        "\n",
        "plt.figure(figsize=(10,6))\n",
        "accuracy_scores = [accuracy_LR, accuracy_NB, accuracy_SVM, accuracy_DT]\n",
        "models = ['Logistic Regression', 'Naive Bayes', 'Support Vector Machine', 'Decision Tree Classifier']\n",
        "\n",
        "accuracy = sns.barplot(x = accuracy_scores, y = models, orient='h', palette='husl', alpha=1)\n",
        "\n",
        "plt.title('Accuracy Comparison for All four models')\n",
        "plt.ylabel('Accuracy')\n",
        "\n",
        "for bars in accuracy.containers:\n",
        "    accuracy.bar_label(bars, fmt='%.2f')\n",
        "\n",
        "plt.show()"
      ]
    },
    {
      "cell_type": "markdown",
      "metadata": {
        "id": "eG5SA1R6s379"
      },
      "source": [
        "**Conclusion:**\n",
        "\n",
        "**This Distribution shows the Accuracy scores generated by each machine learning model:**\n",
        "\n",
        "\n",
        "*   **Naive Byes gives the Highest accuracy score of: 67.77%**\n",
        "*   **Logistic Regression gives accuracy score of: 66.94%**\n",
        "*   **Support Vector Machine gives accuracy score of: 66.12%**\n",
        "*   **Decision Tree Classifier gives the accuracy score of: 57.02%**\n"
      ]
    },
    {
      "cell_type": "markdown",
      "metadata": {
        "id": "jhYwf1Pdxn1N"
      },
      "source": [
        "# **Star Rating Prediction**"
      ]
    },
    {
      "cell_type": "markdown",
      "metadata": {
        "id": "5213je-5x4CI"
      },
      "source": [
        "## 1) Logistic Regression"
      ]
    },
    {
      "cell_type": "code",
      "execution_count": null,
      "metadata": {
        "id": "lKB1VgZZxpoo"
      },
      "outputs": [],
      "source": [
        "from sklearn.feature_extraction.text import TfidfVectorizer\n",
        "from sklearn.model_selection import train_test_split\n",
        "from sklearn.linear_model import LogisticRegression\n",
        "\n",
        "from sklearn.metrics import classification_report"
      ]
    },
    {
      "cell_type": "code",
      "execution_count": null,
      "metadata": {
        "id": "xZ82EDEBx6pX"
      },
      "outputs": [],
      "source": [
        "tf_idf = TfidfVectorizer(ngram_range = (1,3), analyzer = 'char')"
      ]
    },
    {
      "cell_type": "code",
      "execution_count": null,
      "metadata": {
        "id": "8LIBE_Efx8H5"
      },
      "outputs": [],
      "source": [
        "X = tf_idf.fit_transform(df['Review'])  # X contains numerical values of free text using TF-IDF\n",
        "y = df['Rating']  # Target variable 'rating' is assigned to y"
      ]
    },
    {
      "cell_type": "code",
      "execution_count": null,
      "metadata": {
        "colab": {
          "base_uri": "https://localhost:8080/"
        },
        "id": "aNvIPEelx9jt",
        "outputId": "e9a80173-31de-4e39-b86b-57bf426df67f"
      },
      "outputs": [
        {
          "data": {
            "text/plain": [
              "((604, 8789), (604,))"
            ]
          },
          "execution_count": 45,
          "metadata": {},
          "output_type": "execute_result"
        }
      ],
      "source": [
        "X.shape, y.shape"
      ]
    },
    {
      "cell_type": "code",
      "execution_count": null,
      "metadata": {
        "id": "FdmF6Sshx_eG"
      },
      "outputs": [],
      "source": [
        "X_train, X_test, y_train, y_test = train_test_split(X,y, test_size=0.2, random_state=42)"
      ]
    },
    {
      "cell_type": "code",
      "execution_count": null,
      "metadata": {
        "colab": {
          "base_uri": "https://localhost:8080/"
        },
        "id": "bnWa5iFOyA5A",
        "outputId": "1db2c7e4-7776-4289-db5b-fb36113ec458"
      },
      "outputs": [
        {
          "data": {
            "text/plain": [
              "((483, 8789), (483,))"
            ]
          },
          "execution_count": 47,
          "metadata": {},
          "output_type": "execute_result"
        }
      ],
      "source": [
        "X_train.shape, y_train.shape"
      ]
    },
    {
      "cell_type": "code",
      "execution_count": null,
      "metadata": {
        "id": "_CIbyWHlyCMz"
      },
      "outputs": [],
      "source": [
        "LR = LogisticRegression()"
      ]
    },
    {
      "cell_type": "code",
      "execution_count": null,
      "metadata": {
        "colab": {
          "base_uri": "https://localhost:8080/"
        },
        "id": "OWFMk08wyDkp",
        "outputId": "cd197afb-f390-4376-c6a0-5cf623362d1d"
      },
      "outputs": [
        {
          "name": "stdout",
          "output_type": "stream",
          "text": [
            "              precision    recall  f1-score   support\n",
            "\n",
            "         1.0       0.72      0.91      0.80        81\n",
            "         2.0       0.11      0.06      0.08        17\n",
            "         3.0       0.00      0.00      0.00         3\n",
            "         4.0       1.00      0.14      0.25         7\n",
            "         5.0       0.62      0.38      0.48        13\n",
            "\n",
            "    accuracy                           0.67       121\n",
            "   macro avg       0.49      0.30      0.32       121\n",
            "weighted avg       0.62      0.67      0.61       121\n",
            "\n"
          ]
        }
      ],
      "source": [
        "LR.fit(X_train, y_train)\n",
        "y_pred = LR.predict(X_test)\n",
        "print(classification_report(y_test, y_pred_LR))"
      ]
    },
    {
      "cell_type": "markdown",
      "metadata": {
        "id": "kSfxhIG3QhrW"
      },
      "source": [
        "## **Insights:**\n",
        "\n",
        "*  **Here in this section the precision, recall, f1-score accuracies are given   \n",
        "   according to the rating (1.0, 2.0, 3.0, 4.0, 5.0).**\n",
        "*  **Star Rating accuracy which we got for Logistic Regression is: 67.00%.**\n",
        "*  **This is represented in report manner.**"
      ]
    },
    {
      "cell_type": "markdown",
      "metadata": {
        "id": "WqcZ7LvsyOxq"
      },
      "source": [
        "# 2) Naive Bayes"
      ]
    },
    {
      "cell_type": "code",
      "execution_count": null,
      "metadata": {
        "id": "2GnsiwiFyPmX"
      },
      "outputs": [],
      "source": [
        "from sklearn.model_selection import train_test_split\n",
        "from sklearn.naive_bayes import MultinomialNB\n",
        "\n",
        "NB = MultinomialNB()"
      ]
    },
    {
      "cell_type": "code",
      "execution_count": null,
      "metadata": {
        "colab": {
          "base_uri": "https://localhost:8080/"
        },
        "id": "S19TgDQmyQ6p",
        "outputId": "6f73338c-67ef-4dd7-aa2e-d251aa16cda1"
      },
      "outputs": [
        {
          "name": "stdout",
          "output_type": "stream",
          "text": [
            "              precision    recall  f1-score   support\n",
            "\n",
            "         1.0       0.68      0.99      0.81        81\n",
            "         2.0       0.00      0.00      0.00        17\n",
            "         3.0       0.00      0.00      0.00         3\n",
            "         4.0       0.00      0.00      0.00         7\n",
            "         5.0       0.50      0.15      0.24        13\n",
            "\n",
            "    accuracy                           0.68       121\n",
            "   macro avg       0.24      0.23      0.21       121\n",
            "weighted avg       0.51      0.68      0.57       121\n",
            "\n"
          ]
        }
      ],
      "source": [
        "NB.fit(X_train, y_train)\n",
        "y_pred = NB.predict(X_test)\n",
        "print(classification_report(y_test, y_pred_NB))"
      ]
    },
    {
      "cell_type": "markdown",
      "metadata": {
        "id": "iNIa788eWtEz"
      },
      "source": [
        "## **Insights:**\n",
        "\n",
        "*  **Here in this section the precision, recall, f1-score accuracies are given   \n",
        "   according to the rating (1.0, 2.0, 3.0, 4.0, 5.0).**\n",
        "*  **Star Rating accuracy which we got for Naive Bayes Classifier is: 68.00%.**\n",
        "*  **This is represented in report manner**"
      ]
    },
    {
      "cell_type": "markdown",
      "metadata": {
        "id": "ZJOSm3AIyW6M"
      },
      "source": [
        "# 3) SVM"
      ]
    },
    {
      "cell_type": "code",
      "execution_count": null,
      "metadata": {
        "id": "vnWqZcrMyXxk"
      },
      "outputs": [],
      "source": [
        "from sklearn.svm import SVC\n",
        "from sklearn import metrics"
      ]
    },
    {
      "cell_type": "code",
      "execution_count": null,
      "metadata": {
        "colab": {
          "base_uri": "https://localhost:8080/"
        },
        "id": "xGVQDa-cyZKT",
        "outputId": "b8485f91-ad69-4580-84f1-0f7471037232"
      },
      "outputs": [
        {
          "name": "stdout",
          "output_type": "stream",
          "text": [
            "              precision    recall  f1-score   support\n",
            "\n",
            "         1.0       0.67      1.00      0.80        81\n",
            "         2.0       0.00      0.00      0.00        17\n",
            "         3.0       0.00      0.00      0.00         3\n",
            "         4.0       0.00      0.00      0.00         7\n",
            "         5.0       0.00      0.00      0.00        13\n",
            "\n",
            "    accuracy                           0.67       121\n",
            "   macro avg       0.13      0.20      0.16       121\n",
            "weighted avg       0.45      0.67      0.54       121\n",
            "\n"
          ]
        }
      ],
      "source": [
        "svm_cls = SVC(kernel='linear')\n",
        "svm_cls.fit(X_train, y_train)\n",
        "y_pred = svm_cls.predict(X_test)\n",
        "print(classification_report(y_test, y_pred))"
      ]
    },
    {
      "cell_type": "markdown",
      "metadata": {
        "id": "nvqdcETXW1gZ"
      },
      "source": [
        "## **Insights:**\n",
        "\n",
        "*  **Here in this section the precision, recall, f1-score accuracies are given   \n",
        "   according to the rating (1.0, 2.0, 3.0, 4.0, 5.0).**\n",
        "*  **Star Rating accuracy which we got for Support Vector Machine is: 67.00%.**\n",
        "*  **This is represented in report manner**"
      ]
    },
    {
      "cell_type": "markdown",
      "metadata": {
        "id": "TCxUkqocygJA"
      },
      "source": [
        "# 4) Decision Tree Classifier"
      ]
    },
    {
      "cell_type": "code",
      "execution_count": null,
      "metadata": {
        "id": "NDhrUgm4yg0q"
      },
      "outputs": [],
      "source": [
        "from sklearn.tree import DecisionTreeClassifier\n",
        "from sklearn import metrics"
      ]
    },
    {
      "cell_type": "code",
      "execution_count": null,
      "metadata": {
        "colab": {
          "base_uri": "https://localhost:8080/"
        },
        "id": "0bf1OKLnyiLA",
        "outputId": "2abec231-849e-4c92-d452-2f3fae14767d"
      },
      "outputs": [
        {
          "name": "stdout",
          "output_type": "stream",
          "text": [
            "              precision    recall  f1-score   support\n",
            "\n",
            "         1.0       0.69      0.77      0.73        81\n",
            "         2.0       0.00      0.00      0.00        17\n",
            "         3.0       0.00      0.00      0.00         3\n",
            "         4.0       0.00      0.00      0.00         7\n",
            "         5.0       0.36      0.38      0.37        13\n",
            "\n",
            "    accuracy                           0.55       121\n",
            "   macro avg       0.21      0.23      0.22       121\n",
            "weighted avg       0.50      0.55      0.53       121\n",
            "\n"
          ]
        }
      ],
      "source": [
        "DT = DecisionTreeClassifier(criterion='gini')\n",
        "DT.fit(X_train, y_train)\n",
        "y_pred = DT.predict(X_test)\n",
        "print(classification_report(y_test, y_pred))"
      ]
    },
    {
      "cell_type": "markdown",
      "metadata": {
        "id": "D_Eqc7kzW8ot"
      },
      "source": [
        "## **Insights:**\n",
        "\n",
        "*  **Here in this section the precision, recall, f1-score accuracies are given   \n",
        "   according to the rating (1.0, 2.0, 3.0, 4.0, 5.0).**\n",
        "*  **Star Rating accuracy which we got for Decision Tree Classifier is: 56.00%.**\n",
        "*  **This is represented in report manner**"
      ]
    },
    {
      "cell_type": "code",
      "execution_count": null,
      "metadata": {
        "colab": {
          "base_uri": "https://localhost:8080/",
          "height": 206
        },
        "id": "Y7lbYCHFylOT",
        "outputId": "324e52ec-7b78-462c-c622-8fa2fc80e006"
      },
      "outputs": [
        {
          "data": {
            "text/html": [
              "<div>\n",
              "<style scoped>\n",
              "    .dataframe tbody tr th:only-of-type {\n",
              "        vertical-align: middle;\n",
              "    }\n",
              "\n",
              "    .dataframe tbody tr th {\n",
              "        vertical-align: top;\n",
              "    }\n",
              "\n",
              "    .dataframe thead th {\n",
              "        text-align: right;\n",
              "    }\n",
              "</style>\n",
              "<table border=\"1\" class=\"dataframe\">\n",
              "  <thead>\n",
              "    <tr style=\"text-align: right;\">\n",
              "      <th></th>\n",
              "      <th>name</th>\n",
              "      <th>location</th>\n",
              "      <th>Date</th>\n",
              "      <th>Rating</th>\n",
              "      <th>Review</th>\n",
              "    </tr>\n",
              "  </thead>\n",
              "  <tbody>\n",
              "    <tr>\n",
              "      <th>672</th>\n",
              "      <td>Doaa</td>\n",
              "      <td>Dokki Giza Egypt, NY</td>\n",
              "      <td>Reviewed Feb. 26, 2012</td>\n",
              "      <td>1.0</td>\n",
              "      <td>My iPad was stolen from Caffeine_Corner Egypt ...</td>\n",
              "    </tr>\n",
              "    <tr>\n",
              "      <th>97</th>\n",
              "      <td>Spiros</td>\n",
              "      <td>Allentown, PA</td>\n",
              "      <td>Reviewed Nov. 30, 2021</td>\n",
              "      <td>1.0</td>\n",
              "      <td>Despite customer traffic being slow, I had to ...</td>\n",
              "    </tr>\n",
              "    <tr>\n",
              "      <th>614</th>\n",
              "      <td>Steve</td>\n",
              "      <td>Denver, CO</td>\n",
              "      <td>Reviewed Oct. 4, 2013</td>\n",
              "      <td>2.0</td>\n",
              "      <td>What used to be a quiet spot for coffee and a ...</td>\n",
              "    </tr>\n",
              "    <tr>\n",
              "      <th>408</th>\n",
              "      <td>Fatima</td>\n",
              "      <td>Lake Grove, NY</td>\n",
              "      <td>Reviewed Sept. 11, 2016</td>\n",
              "      <td>1.0</td>\n",
              "      <td>I went after hours to have a meal and a glass ...</td>\n",
              "    </tr>\n",
              "    <tr>\n",
              "      <th>33</th>\n",
              "      <td>William</td>\n",
              "      <td>Las Vegas, NV</td>\n",
              "      <td>Reviewed Feb. 5, 2023</td>\n",
              "      <td>1.0</td>\n",
              "      <td>On 01/23/2023 I purchased Caffeine_Corner beve...</td>\n",
              "    </tr>\n",
              "  </tbody>\n",
              "</table>\n",
              "</div>"
            ],
            "text/plain": [
              "        name              location                     Date  Rating  \\\n",
              "672     Doaa  Dokki Giza Egypt, NY   Reviewed Feb. 26, 2012     1.0   \n",
              "97    Spiros         Allentown, PA   Reviewed Nov. 30, 2021     1.0   \n",
              "614    Steve            Denver, CO    Reviewed Oct. 4, 2013     2.0   \n",
              "408   Fatima        Lake Grove, NY  Reviewed Sept. 11, 2016     1.0   \n",
              "33   William         Las Vegas, NV    Reviewed Feb. 5, 2023     1.0   \n",
              "\n",
              "                                                Review  \n",
              "672  My iPad was stolen from Caffeine_Corner Egypt ...  \n",
              "97   Despite customer traffic being slow, I had to ...  \n",
              "614  What used to be a quiet spot for coffee and a ...  \n",
              "408  I went after hours to have a meal and a glass ...  \n",
              "33   On 01/23/2023 I purchased Caffeine_Corner beve...  "
            ]
          },
          "execution_count": 56,
          "metadata": {},
          "output_type": "execute_result"
        }
      ],
      "source": [
        "df.sample(5)"
      ]
    },
    {
      "cell_type": "code",
      "execution_count": null,
      "metadata": {
        "colab": {
          "base_uri": "https://localhost:8080/",
          "height": 70
        },
        "id": "o9tqyz5jz5bu",
        "outputId": "ec03625a-fa1a-4e7a-e404-c8e5a233672b"
      },
      "outputs": [
        {
          "data": {
            "text/plain": [
              "'The first time after years I felt the “welcome to Caffeine_Corner” greeting at this place & I said in my heart “well Mr. first CEO returned with his principles”. I read his books, but for the many Caffeine_Corner doors I entered in the founder’s story in the book & the practice at most Caffeine_Corner were totally different. I’m very excited to experience as the book stories. Keep the warm tradition. Get going!!!'"
            ]
          },
          "execution_count": 57,
          "metadata": {},
          "output_type": "execute_result"
        }
      ],
      "source": [
        "df['Review'][77]"
      ]
    },
    {
      "cell_type": "markdown",
      "metadata": {
        "id": "MQCaWhjTyoWQ"
      },
      "source": [
        "## **Let's Predict on unseen reviews**"
      ]
    },
    {
      "cell_type": "code",
      "execution_count": null,
      "metadata": {
        "colab": {
          "base_uri": "https://localhost:8080/"
        },
        "id": "fUAMowlqyp_8",
        "outputId": "f8a86e13-0fe2-4c7a-d023-0b20c1064c50"
      },
      "outputs": [
        {
          "name": "stdout",
          "output_type": "stream",
          "text": [
            "Enter the review text:\n",
            "\n"
          ]
        }
      ],
      "source": [
        "sentence = input('Enter the review text:\\n')"
      ]
    },
    {
      "cell_type": "markdown",
      "metadata": {
        "id": "ZxcSXJ1ty0wA"
      },
      "source": [
        "# 1) Logistic Regression"
      ]
    },
    {
      "cell_type": "code",
      "execution_count": null,
      "metadata": {
        "colab": {
          "base_uri": "https://localhost:8080/"
        },
        "id": "i4Malx44y3CP",
        "outputId": "ca4bd2fa-b9b1-43db-c508-d83aeffadc8c"
      },
      "outputs": [
        {
          "name": "stdout",
          "output_type": "stream",
          "text": [
            "Rating Predicted by Logistic Regression: [1.]\n"
          ]
        }
      ],
      "source": [
        "vec = tf_idf.transform([sentence])\n",
        "print('Rating Predicted by Logistic Regression:', LR.predict(vec))"
      ]
    },
    {
      "cell_type": "markdown",
      "metadata": {
        "id": "FC6rVFCYzBoT"
      },
      "source": [
        "# 2) Naive Bayes"
      ]
    },
    {
      "cell_type": "code",
      "execution_count": null,
      "metadata": {
        "colab": {
          "base_uri": "https://localhost:8080/"
        },
        "id": "m7Vtx2MSzGCR",
        "outputId": "a191ed13-dc1a-4806-db95-5df14018f8c7"
      },
      "outputs": [
        {
          "name": "stdout",
          "output_type": "stream",
          "text": [
            "Rating Predicted by Naive Bayes Classifier: [1.]\n"
          ]
        }
      ],
      "source": [
        "vec = tf_idf.transform([sentence])\n",
        "print('Rating Predicted by Naive Bayes Classifier:', NB.predict(vec))"
      ]
    },
    {
      "cell_type": "markdown",
      "metadata": {
        "id": "9FduHd5mzP36"
      },
      "source": [
        "# 3) Support Vector Machine"
      ]
    },
    {
      "cell_type": "code",
      "execution_count": null,
      "metadata": {
        "colab": {
          "base_uri": "https://localhost:8080/"
        },
        "id": "laHydME3zO53",
        "outputId": "f80e7f81-c7d0-47de-b127-952d5f2fc61e"
      },
      "outputs": [
        {
          "name": "stdout",
          "output_type": "stream",
          "text": [
            "Rating Predicted by Support Vector Machine: [1.]\n"
          ]
        }
      ],
      "source": [
        "vec = tf_idf.transform([sentence])\n",
        "print('Rating Predicted by Support Vector Machine:', svm_cls.predict(vec))"
      ]
    },
    {
      "cell_type": "markdown",
      "metadata": {
        "id": "jt0piZKqzfIe"
      },
      "source": [
        "## 4) Decision Tree Classifier"
      ]
    },
    {
      "cell_type": "code",
      "execution_count": null,
      "metadata": {
        "colab": {
          "base_uri": "https://localhost:8080/"
        },
        "id": "QWgYE7n7zO-o",
        "outputId": "2debe384-fe8a-4e5e-f155-70da976b8ded"
      },
      "outputs": [
        {
          "name": "stdout",
          "output_type": "stream",
          "text": [
            "Rating Predicted by Decision Tree Classifier: [2.]\n"
          ]
        }
      ],
      "source": [
        "vec = tf_idf.transform([sentence])\n",
        "print('Rating Predicted by Decision Tree Classifier:', DT.predict(vec))"
      ]
    },
    {
      "cell_type": "markdown",
      "metadata": {
        "id": "oszd-X101mpc"
      },
      "source": [
        "# **Sentiment Analysis**"
      ]
    },
    {
      "cell_type": "markdown",
      "metadata": {
        "id": "FDUl0CbV2Qdv"
      },
      "source": [
        "# **C) NLTK**"
      ]
    },
    {
      "cell_type": "markdown",
      "metadata": {
        "id": "2SLXHQuC2VLc"
      },
      "source": [
        "# 1) Convert Text to lowercase"
      ]
    },
    {
      "cell_type": "code",
      "execution_count": null,
      "metadata": {
        "colab": {
          "base_uri": "https://localhost:8080/"
        },
        "id": "gJHQlYrD1pzE",
        "outputId": "6210ebeb-361f-4c50-b1d4-f1357b994f27"
      },
      "outputs": [
        {
          "data": {
            "text/plain": [
              "0      Amber and LaDonna at the Caffeine_Corner on So...\n",
              "1      ** at the Caffeine_Corner by the fire station ...\n",
              "2      I just wanted to go out of my way to recognize...\n",
              "3      Me and my friend were at Caffeine_Corner and m...\n",
              "4      I’m on this kick of drinking 5 cups of warm wa...\n",
              "                             ...                        \n",
              "839                                       No Review Text\n",
              "843                                       No Review Text\n",
              "844    I'm (was) a regular customer who ordered a lat...\n",
              "847    DEMANDED TIPS FROM ME, THEN MADE ME WAIT UNTIL...\n",
              "849                                       No Review Text\n",
              "Name: Review, Length: 604, dtype: object"
            ]
          },
          "execution_count": 63,
          "metadata": {},
          "output_type": "execute_result"
        }
      ],
      "source": [
        "df['Review']"
      ]
    },
    {
      "cell_type": "code",
      "execution_count": null,
      "metadata": {
        "colab": {
          "base_uri": "https://localhost:8080/",
          "height": 140
        },
        "id": "SqGWAGy41w_E",
        "outputId": "ac41b552-2dda-477d-a869-382c3f166f78"
      },
      "outputs": [
        {
          "data": {
            "text/plain": [
              "'i recently purchased two $100 caffeine_corner gift cards off of ebay from two separate owners. i received them, consolidated them onto a single card and even transferred my own funds from another registered card onto this card. all amounts were there and all was good. i went to use my caffeine_corner gift card (with a $214.02 balance) on the morning of 3/27/14 and was told the account was closed! you can how i felt! i got right on the phone with caffeine_corner customer service and was told that this account was closed due to fraudulent activity. i asked for details so i could research with my sellers on ebay and they provided nothing. i notified both ebay sellers...one took it upon themselves to contact caffeine_corner directly and was informed by caffeine_corner that it was not his card that was fraudulent but the other $100 that was illegal. the second seller was very receptive and refunded my purchase amount within the day.'"
            ]
          },
          "execution_count": 64,
          "metadata": {},
          "output_type": "execute_result"
        }
      ],
      "source": [
        "#Converts text content into lowercase\n",
        "df['Review'][600].lower()"
      ]
    },
    {
      "cell_type": "code",
      "execution_count": null,
      "metadata": {
        "id": "LJYTNbOc111C"
      },
      "outputs": [],
      "source": [
        "#Apply this logic to whole dataset\n",
        "df['Review'] = df['Review'].str.lower()"
      ]
    },
    {
      "cell_type": "code",
      "execution_count": null,
      "metadata": {
        "colab": {
          "base_uri": "https://localhost:8080/"
        },
        "id": "LCAOH_-B26RN",
        "outputId": "b10c92d8-47f2-4f82-b5b5-d98380ec9499"
      },
      "outputs": [
        {
          "data": {
            "text/plain": [
              "0      amber and ladonna at the caffeine_corner on so...\n",
              "1      ** at the caffeine_corner by the fire station ...\n",
              "2      i just wanted to go out of my way to recognize...\n",
              "3      me and my friend were at caffeine_corner and m...\n",
              "4      i’m on this kick of drinking 5 cups of warm wa...\n",
              "                             ...                        \n",
              "839                                       no review text\n",
              "843                                       no review text\n",
              "844    i'm (was) a regular customer who ordered a lat...\n",
              "847    demanded tips from me, then made me wait until...\n",
              "849                                       no review text\n",
              "Name: Review, Length: 604, dtype: object"
            ]
          },
          "execution_count": 66,
          "metadata": {},
          "output_type": "execute_result"
        }
      ],
      "source": [
        "df['Review']"
      ]
    },
    {
      "cell_type": "markdown",
      "metadata": {
        "id": "uobS76As2-hB"
      },
      "source": [
        "# 2) Tokenization"
      ]
    },
    {
      "cell_type": "code",
      "execution_count": null,
      "metadata": {
        "colab": {
          "base_uri": "https://localhost:8080/"
        },
        "id": "_2tDbmyh3An5",
        "outputId": "a39f9db4-9b0f-4709-94ab-c56f83a5c187"
      },
      "outputs": [
        {
          "name": "stderr",
          "output_type": "stream",
          "text": [
            "[nltk_data] Downloading package punkt to\n",
            "[nltk_data]     C:\\Users\\HP\\AppData\\Roaming\\nltk_data...\n",
            "[nltk_data]   Package punkt is already up-to-date!\n"
          ]
        },
        {
          "data": {
            "text/plain": [
              "True"
            ]
          },
          "execution_count": 67,
          "metadata": {},
          "output_type": "execute_result"
        }
      ],
      "source": [
        "import nltk\n",
        "nltk.download('punkt')"
      ]
    },
    {
      "cell_type": "code",
      "execution_count": null,
      "metadata": {
        "colab": {
          "base_uri": "https://localhost:8080/",
          "height": 140
        },
        "id": "_OArIQSc3VXQ",
        "outputId": "aee64134-2876-4191-e55d-f5903548d7d7"
      },
      "outputs": [
        {
          "data": {
            "text/plain": [
              "'i recently purchased two $100 caffeine_corner gift cards off of ebay from two separate owners. i received them, consolidated them onto a single card and even transferred my own funds from another registered card onto this card. all amounts were there and all was good. i went to use my caffeine_corner gift card (with a $214.02 balance) on the morning of 3/27/14 and was told the account was closed! you can how i felt! i got right on the phone with caffeine_corner customer service and was told that this account was closed due to fraudulent activity. i asked for details so i could research with my sellers on ebay and they provided nothing. i notified both ebay sellers...one took it upon themselves to contact caffeine_corner directly and was informed by caffeine_corner that it was not his card that was fraudulent but the other $100 that was illegal. the second seller was very receptive and refunded my purchase amount within the day.'"
            ]
          },
          "execution_count": 68,
          "metadata": {},
          "output_type": "execute_result"
        }
      ],
      "source": [
        "text = df['Review'][600]\n",
        "text"
      ]
    },
    {
      "cell_type": "code",
      "execution_count": null,
      "metadata": {
        "colab": {
          "base_uri": "https://localhost:8080/"
        },
        "id": "WUOiffFT3Edc",
        "outputId": "36d504e5-6205-49fa-894f-6707e7a2d246"
      },
      "outputs": [
        {
          "data": {
            "text/plain": [
              "['i',\n",
              " 'recently',\n",
              " 'purchased',\n",
              " 'two',\n",
              " '$',\n",
              " '100',\n",
              " 'caffeine_corner',\n",
              " 'gift',\n",
              " 'cards',\n",
              " 'off',\n",
              " 'of',\n",
              " 'ebay',\n",
              " 'from',\n",
              " 'two',\n",
              " 'separate',\n",
              " 'owners',\n",
              " '.',\n",
              " 'i',\n",
              " 'received',\n",
              " 'them',\n",
              " ',',\n",
              " 'consolidated',\n",
              " 'them',\n",
              " 'onto',\n",
              " 'a',\n",
              " 'single',\n",
              " 'card',\n",
              " 'and',\n",
              " 'even',\n",
              " 'transferred',\n",
              " 'my',\n",
              " 'own',\n",
              " 'funds',\n",
              " 'from',\n",
              " 'another',\n",
              " 'registered',\n",
              " 'card',\n",
              " 'onto',\n",
              " 'this',\n",
              " 'card',\n",
              " '.',\n",
              " 'all',\n",
              " 'amounts',\n",
              " 'were',\n",
              " 'there',\n",
              " 'and',\n",
              " 'all',\n",
              " 'was',\n",
              " 'good',\n",
              " '.',\n",
              " 'i',\n",
              " 'went',\n",
              " 'to',\n",
              " 'use',\n",
              " 'my',\n",
              " 'caffeine_corner',\n",
              " 'gift',\n",
              " 'card',\n",
              " '(',\n",
              " 'with',\n",
              " 'a',\n",
              " '$',\n",
              " '214.02',\n",
              " 'balance',\n",
              " ')',\n",
              " 'on',\n",
              " 'the',\n",
              " 'morning',\n",
              " 'of',\n",
              " '3/27/14',\n",
              " 'and',\n",
              " 'was',\n",
              " 'told',\n",
              " 'the',\n",
              " 'account',\n",
              " 'was',\n",
              " 'closed',\n",
              " '!',\n",
              " 'you',\n",
              " 'can',\n",
              " 'how',\n",
              " 'i',\n",
              " 'felt',\n",
              " '!',\n",
              " 'i',\n",
              " 'got',\n",
              " 'right',\n",
              " 'on',\n",
              " 'the',\n",
              " 'phone',\n",
              " 'with',\n",
              " 'caffeine_corner',\n",
              " 'customer',\n",
              " 'service',\n",
              " 'and',\n",
              " 'was',\n",
              " 'told',\n",
              " 'that',\n",
              " 'this',\n",
              " 'account',\n",
              " 'was',\n",
              " 'closed',\n",
              " 'due',\n",
              " 'to',\n",
              " 'fraudulent',\n",
              " 'activity',\n",
              " '.',\n",
              " 'i',\n",
              " 'asked',\n",
              " 'for',\n",
              " 'details',\n",
              " 'so',\n",
              " 'i',\n",
              " 'could',\n",
              " 'research',\n",
              " 'with',\n",
              " 'my',\n",
              " 'sellers',\n",
              " 'on',\n",
              " 'ebay',\n",
              " 'and',\n",
              " 'they',\n",
              " 'provided',\n",
              " 'nothing',\n",
              " '.',\n",
              " 'i',\n",
              " 'notified',\n",
              " 'both',\n",
              " 'ebay',\n",
              " 'sellers',\n",
              " '...',\n",
              " 'one',\n",
              " 'took',\n",
              " 'it',\n",
              " 'upon',\n",
              " 'themselves',\n",
              " 'to',\n",
              " 'contact',\n",
              " 'caffeine_corner',\n",
              " 'directly',\n",
              " 'and',\n",
              " 'was',\n",
              " 'informed',\n",
              " 'by',\n",
              " 'caffeine_corner',\n",
              " 'that',\n",
              " 'it',\n",
              " 'was',\n",
              " 'not',\n",
              " 'his',\n",
              " 'card',\n",
              " 'that',\n",
              " 'was',\n",
              " 'fraudulent',\n",
              " 'but',\n",
              " 'the',\n",
              " 'other',\n",
              " '$',\n",
              " '100',\n",
              " 'that',\n",
              " 'was',\n",
              " 'illegal',\n",
              " '.',\n",
              " 'the',\n",
              " 'second',\n",
              " 'seller',\n",
              " 'was',\n",
              " 'very',\n",
              " 'receptive',\n",
              " 'and',\n",
              " 'refunded',\n",
              " 'my',\n",
              " 'purchase',\n",
              " 'amount',\n",
              " 'within',\n",
              " 'the',\n",
              " 'day',\n",
              " '.']"
            ]
          },
          "execution_count": 69,
          "metadata": {},
          "output_type": "execute_result"
        }
      ],
      "source": [
        "#Converts whole text content into tokens\n",
        "from nltk.tokenize import word_tokenize\n",
        "tokens = word_tokenize(text)\n",
        "tokens"
      ]
    },
    {
      "cell_type": "code",
      "execution_count": null,
      "metadata": {
        "colab": {
          "base_uri": "https://localhost:8080/"
        },
        "id": "dbbePiGE3axJ",
        "outputId": "705ea8b0-d0df-49de-cbf5-9b51246b46b4"
      },
      "outputs": [
        {
          "data": {
            "text/plain": [
              "['i',\n",
              " 'recently',\n",
              " 'purchased',\n",
              " 'two',\n",
              " '$',\n",
              " '100',\n",
              " 'caffeine_corner',\n",
              " 'gift',\n",
              " 'cards',\n",
              " 'off']"
            ]
          },
          "execution_count": 70,
          "metadata": {},
          "output_type": "execute_result"
        }
      ],
      "source": [
        "#Accessing the last text\n",
        "from nltk.tokenize import word_tokenize\n",
        "tokens = word_tokenize(text)\n",
        "tokens[:10]"
      ]
    },
    {
      "cell_type": "markdown",
      "metadata": {
        "id": "9kTFrQC73pYe"
      },
      "source": [
        "# **3) Pos Tagging**"
      ]
    },
    {
      "cell_type": "code",
      "execution_count": null,
      "metadata": {
        "colab": {
          "base_uri": "https://localhost:8080/"
        },
        "id": "zSYiqdZ83vTs",
        "outputId": "7aa27050-594b-4939-fef0-4011c63316b6"
      },
      "outputs": [
        {
          "name": "stderr",
          "output_type": "stream",
          "text": [
            "[nltk_data] Downloading package averaged_perceptron_tagger to\n",
            "[nltk_data]     C:\\Users\\HP\\AppData\\Roaming\\nltk_data...\n",
            "[nltk_data]   Package averaged_perceptron_tagger is already up-to-\n",
            "[nltk_data]       date!\n"
          ]
        },
        {
          "data": {
            "text/plain": [
              "True"
            ]
          },
          "execution_count": 71,
          "metadata": {},
          "output_type": "execute_result"
        }
      ],
      "source": [
        "import nltk\n",
        "nltk.download('averaged_perceptron_tagger')"
      ]
    },
    {
      "cell_type": "code",
      "execution_count": null,
      "metadata": {
        "colab": {
          "base_uri": "https://localhost:8080/"
        },
        "id": "3z5MPU5y3yGk",
        "outputId": "956d05c2-fafc-4a08-ab01-8cadf1da8bd1"
      },
      "outputs": [
        {
          "data": {
            "text/plain": [
              "[('i', 'NN'),\n",
              " ('recently', 'RB'),\n",
              " ('purchased', 'VBD'),\n",
              " ('two', 'CD'),\n",
              " ('$', '$'),\n",
              " ('100', 'CD'),\n",
              " ('caffeine_corner', 'NN'),\n",
              " ('gift', 'NN'),\n",
              " ('cards', 'NNS'),\n",
              " ('off', 'IN'),\n",
              " ('of', 'IN'),\n",
              " ('ebay', 'NN'),\n",
              " ('from', 'IN'),\n",
              " ('two', 'CD'),\n",
              " ('separate', 'JJ'),\n",
              " ('owners', 'NNS'),\n",
              " ('.', '.'),\n",
              " ('i', 'NN'),\n",
              " ('received', 'VBD'),\n",
              " ('them', 'PRP'),\n",
              " (',', ','),\n",
              " ('consolidated', 'VBD'),\n",
              " ('them', 'PRP'),\n",
              " ('onto', 'IN'),\n",
              " ('a', 'DT'),\n",
              " ('single', 'JJ'),\n",
              " ('card', 'NN'),\n",
              " ('and', 'CC'),\n",
              " ('even', 'RB'),\n",
              " ('transferred', 'VBD'),\n",
              " ('my', 'PRP$'),\n",
              " ('own', 'JJ'),\n",
              " ('funds', 'NNS'),\n",
              " ('from', 'IN'),\n",
              " ('another', 'DT'),\n",
              " ('registered', 'VBN'),\n",
              " ('card', 'NN'),\n",
              " ('onto', 'IN'),\n",
              " ('this', 'DT'),\n",
              " ('card', 'NN'),\n",
              " ('.', '.'),\n",
              " ('all', 'DT'),\n",
              " ('amounts', 'NNS'),\n",
              " ('were', 'VBD'),\n",
              " ('there', 'RB'),\n",
              " ('and', 'CC'),\n",
              " ('all', 'DT'),\n",
              " ('was', 'VBD'),\n",
              " ('good', 'JJ'),\n",
              " ('.', '.'),\n",
              " ('i', 'VB'),\n",
              " ('went', 'VBD'),\n",
              " ('to', 'TO'),\n",
              " ('use', 'VB'),\n",
              " ('my', 'PRP$'),\n",
              " ('caffeine_corner', 'NN'),\n",
              " ('gift', 'NN'),\n",
              " ('card', 'NN'),\n",
              " ('(', '('),\n",
              " ('with', 'IN'),\n",
              " ('a', 'DT'),\n",
              " ('$', '$'),\n",
              " ('214.02', 'CD'),\n",
              " ('balance', 'NN'),\n",
              " (')', ')'),\n",
              " ('on', 'IN'),\n",
              " ('the', 'DT'),\n",
              " ('morning', 'NN'),\n",
              " ('of', 'IN'),\n",
              " ('3/27/14', 'CD'),\n",
              " ('and', 'CC'),\n",
              " ('was', 'VBD'),\n",
              " ('told', 'VBN'),\n",
              " ('the', 'DT'),\n",
              " ('account', 'NN'),\n",
              " ('was', 'VBD'),\n",
              " ('closed', 'VBN'),\n",
              " ('!', '.'),\n",
              " ('you', 'PRP'),\n",
              " ('can', 'MD'),\n",
              " ('how', 'WRB'),\n",
              " ('i', 'JJ'),\n",
              " ('felt', 'VBD'),\n",
              " ('!', '.'),\n",
              " ('i', 'NN'),\n",
              " ('got', 'VBD'),\n",
              " ('right', 'RB'),\n",
              " ('on', 'IN'),\n",
              " ('the', 'DT'),\n",
              " ('phone', 'NN'),\n",
              " ('with', 'IN'),\n",
              " ('caffeine_corner', 'NN'),\n",
              " ('customer', 'NN'),\n",
              " ('service', 'NN'),\n",
              " ('and', 'CC'),\n",
              " ('was', 'VBD'),\n",
              " ('told', 'VBN'),\n",
              " ('that', 'IN'),\n",
              " ('this', 'DT'),\n",
              " ('account', 'NN'),\n",
              " ('was', 'VBD'),\n",
              " ('closed', 'VBN'),\n",
              " ('due', 'JJ'),\n",
              " ('to', 'TO'),\n",
              " ('fraudulent', 'JJ'),\n",
              " ('activity', 'NN'),\n",
              " ('.', '.'),\n",
              " ('i', 'NN'),\n",
              " ('asked', 'VBD'),\n",
              " ('for', 'IN'),\n",
              " ('details', 'NNS'),\n",
              " ('so', 'RB'),\n",
              " ('i', 'RB'),\n",
              " ('could', 'MD'),\n",
              " ('research', 'NN'),\n",
              " ('with', 'IN'),\n",
              " ('my', 'PRP$'),\n",
              " ('sellers', 'NNS'),\n",
              " ('on', 'IN'),\n",
              " ('ebay', 'NNS'),\n",
              " ('and', 'CC'),\n",
              " ('they', 'PRP'),\n",
              " ('provided', 'VBD'),\n",
              " ('nothing', 'NN'),\n",
              " ('.', '.'),\n",
              " ('i', 'NN'),\n",
              " ('notified', 'VBD'),\n",
              " ('both', 'DT'),\n",
              " ('ebay', 'JJ'),\n",
              " ('sellers', 'NNS'),\n",
              " ('...', ':'),\n",
              " ('one', 'CD'),\n",
              " ('took', 'VBD'),\n",
              " ('it', 'PRP'),\n",
              " ('upon', 'VBZ'),\n",
              " ('themselves', 'PRP'),\n",
              " ('to', 'TO'),\n",
              " ('contact', 'VB'),\n",
              " ('caffeine_corner', 'NN'),\n",
              " ('directly', 'RB'),\n",
              " ('and', 'CC'),\n",
              " ('was', 'VBD'),\n",
              " ('informed', 'VBN'),\n",
              " ('by', 'IN'),\n",
              " ('caffeine_corner', 'NN'),\n",
              " ('that', 'IN'),\n",
              " ('it', 'PRP'),\n",
              " ('was', 'VBD'),\n",
              " ('not', 'RB'),\n",
              " ('his', 'PRP$'),\n",
              " ('card', 'NN'),\n",
              " ('that', 'WDT'),\n",
              " ('was', 'VBD'),\n",
              " ('fraudulent', 'JJ'),\n",
              " ('but', 'CC'),\n",
              " ('the', 'DT'),\n",
              " ('other', 'JJ'),\n",
              " ('$', '$'),\n",
              " ('100', 'CD'),\n",
              " ('that', 'WDT'),\n",
              " ('was', 'VBD'),\n",
              " ('illegal', 'JJ'),\n",
              " ('.', '.'),\n",
              " ('the', 'DT'),\n",
              " ('second', 'JJ'),\n",
              " ('seller', 'NN'),\n",
              " ('was', 'VBD'),\n",
              " ('very', 'RB'),\n",
              " ('receptive', 'JJ'),\n",
              " ('and', 'CC'),\n",
              " ('refunded', 'VBD'),\n",
              " ('my', 'PRP$'),\n",
              " ('purchase', 'NN'),\n",
              " ('amount', 'NN'),\n",
              " ('within', 'IN'),\n",
              " ('the', 'DT'),\n",
              " ('day', 'NN'),\n",
              " ('.', '.')]"
            ]
          },
          "execution_count": 72,
          "metadata": {},
          "output_type": "execute_result"
        }
      ],
      "source": [
        "#It attaches the part of speech of each word to that word\n",
        "pos_tagged = nltk.pos_tag(tokens)\n",
        "pos_tagged"
      ]
    },
    {
      "cell_type": "markdown",
      "metadata": {
        "id": "c7aNwsVL33_1"
      },
      "source": [
        "# **4) POS Words Chunking**"
      ]
    },
    {
      "cell_type": "code",
      "execution_count": null,
      "metadata": {
        "colab": {
          "base_uri": "https://localhost:8080/"
        },
        "id": "4xpzyZ-037MN",
        "outputId": "076162cd-cee8-4d4c-82ed-c9879c768edd"
      },
      "outputs": [
        {
          "name": "stderr",
          "output_type": "stream",
          "text": [
            "[nltk_data] Downloading package maxent_ne_chunker to\n",
            "[nltk_data]     C:\\Users\\HP\\AppData\\Roaming\\nltk_data...\n",
            "[nltk_data]   Package maxent_ne_chunker is already up-to-date!\n"
          ]
        },
        {
          "data": {
            "text/plain": [
              "True"
            ]
          },
          "execution_count": 73,
          "metadata": {},
          "output_type": "execute_result"
        }
      ],
      "source": [
        "import nltk\n",
        "nltk.download('maxent_ne_chunker')"
      ]
    },
    {
      "cell_type": "code",
      "execution_count": null,
      "metadata": {
        "colab": {
          "base_uri": "https://localhost:8080/"
        },
        "id": "Cs3ithST39O-",
        "outputId": "9ad67e9d-88c0-4416-d471-78c819485129"
      },
      "outputs": [
        {
          "name": "stderr",
          "output_type": "stream",
          "text": [
            "[nltk_data] Downloading package words to\n",
            "[nltk_data]     C:\\Users\\HP\\AppData\\Roaming\\nltk_data...\n",
            "[nltk_data]   Package words is already up-to-date!\n"
          ]
        },
        {
          "data": {
            "text/plain": [
              "True"
            ]
          },
          "execution_count": 74,
          "metadata": {},
          "output_type": "execute_result"
        }
      ],
      "source": [
        "import nltk\n",
        "nltk.download('words')"
      ]
    },
    {
      "cell_type": "code",
      "execution_count": null,
      "metadata": {
        "colab": {
          "base_uri": "https://localhost:8080/"
        },
        "id": "MS2O-p-B3-wX",
        "outputId": "ec809aee-4ecc-4a8d-cc06-3342c3221151"
      },
      "outputs": [
        {
          "name": "stdout",
          "output_type": "stream",
          "text": [
            "(S\n",
            "  i/NN\n",
            "  recently/RB\n",
            "  purchased/VBD\n",
            "  two/CD\n",
            "  $/$\n",
            "  100/CD\n",
            "  caffeine_corner/NN\n",
            "  gift/NN\n",
            "  cards/NNS\n",
            "  off/IN\n",
            "  of/IN\n",
            "  ebay/NN\n",
            "  from/IN\n",
            "  two/CD\n",
            "  separate/JJ\n",
            "  owners/NNS\n",
            "  ./.\n",
            "  i/NN\n",
            "  received/VBD\n",
            "  them/PRP\n",
            "  ,/,\n",
            "  consolidated/VBD\n",
            "  them/PRP\n",
            "  onto/IN\n",
            "  a/DT\n",
            "  single/JJ\n",
            "  card/NN\n",
            "  and/CC\n",
            "  even/RB\n",
            "  transferred/VBD\n",
            "  my/PRP$\n",
            "  own/JJ\n",
            "  funds/NNS\n",
            "  from/IN\n",
            "  another/DT\n",
            "  registered/VBN\n",
            "  card/NN\n",
            "  onto/IN\n",
            "  this/DT\n",
            "  card/NN\n",
            "  ./.\n",
            "  all/DT\n",
            "  amounts/NNS\n",
            "  were/VBD\n",
            "  there/RB\n",
            "  and/CC\n",
            "  all/DT\n",
            "  was/VBD\n",
            "  good/JJ\n",
            "  ./.\n",
            "  i/VB\n",
            "  went/VBD\n",
            "  to/TO\n",
            "  use/VB\n",
            "  my/PRP$\n",
            "  caffeine_corner/NN\n",
            "  gift/NN\n",
            "  card/NN\n",
            "  (/(\n",
            "  with/IN\n",
            "  a/DT\n",
            "  $/$\n",
            "  214.02/CD\n",
            "  balance/NN\n",
            "  )/)\n",
            "  on/IN\n",
            "  the/DT\n",
            "  morning/NN\n",
            "  of/IN\n",
            "  3/27/14/CD\n",
            "  and/CC\n",
            "  was/VBD\n",
            "  told/VBN\n",
            "  the/DT\n",
            "  account/NN\n",
            "  was/VBD\n",
            "  closed/VBN\n",
            "  !/.\n",
            "  you/PRP\n",
            "  can/MD\n",
            "  how/WRB\n",
            "  i/JJ\n",
            "  felt/VBD\n",
            "  !/.\n",
            "  i/NN\n",
            "  got/VBD\n",
            "  right/RB\n",
            "  on/IN\n",
            "  the/DT\n",
            "  phone/NN\n",
            "  with/IN\n",
            "  caffeine_corner/NN\n",
            "  customer/NN\n",
            "  service/NN\n",
            "  and/CC\n",
            "  was/VBD\n",
            "  told/VBN\n",
            "  that/IN\n",
            "  this/DT\n",
            "  account/NN\n",
            "  was/VBD\n",
            "  closed/VBN\n",
            "  due/JJ\n",
            "  to/TO\n",
            "  fraudulent/JJ\n",
            "  activity/NN\n",
            "  ./.\n",
            "  i/NN\n",
            "  asked/VBD\n",
            "  for/IN\n",
            "  details/NNS\n",
            "  so/RB\n",
            "  i/RB\n",
            "  could/MD\n",
            "  research/NN\n",
            "  with/IN\n",
            "  my/PRP$\n",
            "  sellers/NNS\n",
            "  on/IN\n",
            "  ebay/NNS\n",
            "  and/CC\n",
            "  they/PRP\n",
            "  provided/VBD\n",
            "  nothing/NN\n",
            "  ./.\n",
            "  i/NN\n",
            "  notified/VBD\n",
            "  both/DT\n",
            "  ebay/JJ\n",
            "  sellers/NNS\n",
            "  .../:\n",
            "  one/CD\n",
            "  took/VBD\n",
            "  it/PRP\n",
            "  upon/VBZ\n",
            "  themselves/PRP\n",
            "  to/TO\n",
            "  contact/VB\n",
            "  caffeine_corner/NN\n",
            "  directly/RB\n",
            "  and/CC\n",
            "  was/VBD\n",
            "  informed/VBN\n",
            "  by/IN\n",
            "  caffeine_corner/NN\n",
            "  that/IN\n",
            "  it/PRP\n",
            "  was/VBD\n",
            "  not/RB\n",
            "  his/PRP$\n",
            "  card/NN\n",
            "  that/WDT\n",
            "  was/VBD\n",
            "  fraudulent/JJ\n",
            "  but/CC\n",
            "  the/DT\n",
            "  other/JJ\n",
            "  $/$\n",
            "  100/CD\n",
            "  that/WDT\n",
            "  was/VBD\n",
            "  illegal/JJ\n",
            "  ./.\n",
            "  the/DT\n",
            "  second/JJ\n",
            "  seller/NN\n",
            "  was/VBD\n",
            "  very/RB\n",
            "  receptive/JJ\n",
            "  and/CC\n",
            "  refunded/VBD\n",
            "  my/PRP$\n",
            "  purchase/NN\n",
            "  amount/NN\n",
            "  within/IN\n",
            "  the/DT\n",
            "  day/NN\n",
            "  ./.)\n"
          ]
        }
      ],
      "source": [
        "#Chuncking attaches the part of speech to each word\n",
        "Entries = nltk.chunk.ne_chunk(pos_tagged)\n",
        "Entries.pprint()"
      ]
    },
    {
      "cell_type": "markdown",
      "metadata": {
        "id": "a8dpVz4-4DO_"
      },
      "source": [
        "# **VADER Sentiment Analysis**:\n",
        "## Scored each word Individually"
      ]
    },
    {
      "cell_type": "markdown",
      "metadata": {
        "id": "8s6qzUuM4Kmh"
      },
      "source": [
        "## **What is VADER?**\n",
        "\n",
        "VADER (Valence Aware Dictionary and sEntiment Reasoner) is a lexicon and rule-based sentiment analysis tool that is specifically attend to sentiments expressed in social media texts."
      ]
    },
    {
      "cell_type": "markdown",
      "metadata": {
        "id": "I1CqQhf34L89"
      },
      "source": [
        "BOW (Bag-Of-Words) Approach"
      ]
    },
    {
      "cell_type": "code",
      "execution_count": null,
      "metadata": {
        "colab": {
          "base_uri": "https://localhost:8080/"
        },
        "id": "iXebl5cy4Ous",
        "outputId": "7210eb1b-9a19-4f2b-b1e1-7d8cd8412800"
      },
      "outputs": [
        {
          "name": "stderr",
          "output_type": "stream",
          "text": [
            "[nltk_data] Downloading package vader_lexicon to\n",
            "[nltk_data]     C:\\Users\\HP\\AppData\\Roaming\\nltk_data...\n",
            "[nltk_data]   Package vader_lexicon is already up-to-date!\n"
          ]
        },
        {
          "data": {
            "text/plain": [
              "True"
            ]
          },
          "execution_count": 76,
          "metadata": {},
          "output_type": "execute_result"
        }
      ],
      "source": [
        "import nltk\n",
        "nltk.download('vader_lexicon')"
      ]
    },
    {
      "cell_type": "code",
      "execution_count": null,
      "metadata": {
        "id": "1B-tf0R_4Zka"
      },
      "outputs": [],
      "source": [
        "#Importing Sentiment Analyzer\n",
        "#Importing tqdm module (This provides fast, extensible progress bar for loops and other iterative processes)\n",
        "\n",
        "from nltk.sentiment import SentimentIntensityAnalyzer\n",
        "from tqdm.notebook import tqdm"
      ]
    },
    {
      "cell_type": "code",
      "execution_count": null,
      "metadata": {
        "id": "W3XpG7TL4bAU"
      },
      "outputs": [],
      "source": [
        "#Creating Sentiment Analyzer Class\n",
        "SA = SentimentIntensityAnalyzer()"
      ]
    },
    {
      "cell_type": "markdown",
      "metadata": {
        "id": "EJTWkEqy4fsh"
      },
      "source": [
        "## Check sentiment using Polarity Score"
      ]
    },
    {
      "cell_type": "code",
      "execution_count": null,
      "metadata": {
        "colab": {
          "base_uri": "https://localhost:8080/"
        },
        "id": "R1pWlHzX4ghM",
        "outputId": "a42c178f-506b-417f-87c0-82a6084adc13"
      },
      "outputs": [
        {
          "name": "stdout",
          "output_type": "stream",
          "text": [
            "Enter the sentence:\n",
            "\n"
          ]
        },
        {
          "data": {
            "text/plain": [
              "{'neg': 0.0, 'neu': 0.0, 'pos': 0.0, 'compound': 0.0}"
            ]
          },
          "execution_count": 91,
          "metadata": {},
          "output_type": "execute_result"
        }
      ],
      "source": [
        "#Check the sentiment score for the provided text\n",
        "sen = input('Enter the sentence:\\n')\n",
        "\n",
        "def Find_polarity_score(sen):\n",
        "  return(SA.polarity_scores(sen))\n",
        "\n",
        "Find_polarity_score(sen)"
      ]
    },
    {
      "cell_type": "markdown",
      "metadata": {
        "id": "8eWsbUR4nk7l"
      },
      "source": [
        "\n",
        "*   **Polarity Score calculates sentiment score for each sentance which we\n",
        "    provide.**\n",
        "*   **We preferably used the bag of words approach**\n",
        "\n"
      ]
    },
    {
      "cell_type": "code",
      "execution_count": null,
      "metadata": {
        "colab": {
          "base_uri": "https://localhost:8080/"
        },
        "id": "1xzEI6eO40vg",
        "outputId": "c640fb24-01fd-43d5-b66b-1ee49d10aaf2"
      },
      "outputs": [
        {
          "data": {
            "text/plain": [
              "{'neg': 0.0, 'neu': 0.642, 'pos': 0.358, 'compound': 0.8591}"
            ]
          },
          "execution_count": 92,
          "metadata": {},
          "output_type": "execute_result"
        }
      ],
      "source": [
        "Find_polarity_score(\"What to say,good location, good coffee, good music... Perfect place to have a coffee, read books, or simply chat with buddys.\")"
      ]
    },
    {
      "cell_type": "code",
      "execution_count": null,
      "metadata": {
        "colab": {
          "base_uri": "https://localhost:8080/"
        },
        "id": "JeutuJ8l4_eK",
        "outputId": "aa2cfcd0-1db4-4f80-958b-03e9a9c622e3"
      },
      "outputs": [
        {
          "data": {
            "text/plain": [
              "{'neg': 0.0, 'neu': 0.642, 'pos': 0.358, 'compound': 0.8591}"
            ]
          },
          "execution_count": 93,
          "metadata": {},
          "output_type": "execute_result"
        }
      ],
      "source": [
        "Find_polarity_score('What to say,good location, good coffee, good music... Perfect place to have a coffee, read books, or simply chat with buddys.')"
      ]
    },
    {
      "cell_type": "code",
      "execution_count": null,
      "metadata": {
        "colab": {
          "base_uri": "https://localhost:8080/",
          "height": 53
        },
        "id": "ZfmvpnHV6Ee0",
        "outputId": "6c228cb3-b1ef-40dd-ad32-9ab0b30d5421"
      },
      "outputs": [
        {
          "data": {
            "text/plain": [
              "'excellent place to eat. atmosphere is very relaxing. would recommend anyone to eat there. will be going back very soon. love the variety of food and beverage.'"
            ]
          },
          "execution_count": 94,
          "metadata": {},
          "output_type": "execute_result"
        }
      ],
      "source": [
        "df['Review'][306]"
      ]
    },
    {
      "cell_type": "code",
      "execution_count": null,
      "metadata": {
        "colab": {
          "base_uri": "https://localhost:8080/"
        },
        "id": "2gigZrEx6Jx6",
        "outputId": "74c6f54d-d91c-4bef-a221-876e6b8eb427"
      },
      "outputs": [
        {
          "data": {
            "text/plain": [
              "{'neg': 0.0, 'neu': 0.614, 'pos': 0.386, 'compound': 0.9375}"
            ]
          },
          "execution_count": 95,
          "metadata": {},
          "output_type": "execute_result"
        }
      ],
      "source": [
        "Find_polarity_score('excellent place to eat. atmosphere is very relaxing.\\\n",
        " would recommend anyone to eat there. will be going back very soon. love the variety of food and beverage.')"
      ]
    },
    {
      "cell_type": "markdown",
      "metadata": {
        "id": "q7FJO6Df6bTw"
      },
      "source": [
        "# Find polarity score for whole dataset"
      ]
    },
    {
      "cell_type": "code",
      "execution_count": null,
      "metadata": {
        "colab": {
          "base_uri": "https://localhost:8080/",
          "height": 423
        },
        "id": "JEAvwM4_6jsL",
        "outputId": "575d2d89-9ca6-4b72-c58d-45e6fa298e22"
      },
      "outputs": [
        {
          "data": {
            "text/html": [
              "<div>\n",
              "<style scoped>\n",
              "    .dataframe tbody tr th:only-of-type {\n",
              "        vertical-align: middle;\n",
              "    }\n",
              "\n",
              "    .dataframe tbody tr th {\n",
              "        vertical-align: top;\n",
              "    }\n",
              "\n",
              "    .dataframe thead th {\n",
              "        text-align: right;\n",
              "    }\n",
              "</style>\n",
              "<table border=\"1\" class=\"dataframe\">\n",
              "  <thead>\n",
              "    <tr style=\"text-align: right;\">\n",
              "      <th></th>\n",
              "      <th>name</th>\n",
              "      <th>location</th>\n",
              "      <th>Date</th>\n",
              "      <th>Rating</th>\n",
              "      <th>Review</th>\n",
              "    </tr>\n",
              "  </thead>\n",
              "  <tbody>\n",
              "    <tr>\n",
              "      <th>0</th>\n",
              "      <td>Helen</td>\n",
              "      <td>Wichita Falls, TX</td>\n",
              "      <td>Reviewed Sept. 13, 2023</td>\n",
              "      <td>5.0</td>\n",
              "      <td>amber and ladonna at the caffeine_corner on so...</td>\n",
              "    </tr>\n",
              "    <tr>\n",
              "      <th>1</th>\n",
              "      <td>Courtney</td>\n",
              "      <td>Apopka, FL</td>\n",
              "      <td>Reviewed July 16, 2023</td>\n",
              "      <td>5.0</td>\n",
              "      <td>** at the caffeine_corner by the fire station ...</td>\n",
              "    </tr>\n",
              "    <tr>\n",
              "      <th>2</th>\n",
              "      <td>Daynelle</td>\n",
              "      <td>Cranberry Twp, PA</td>\n",
              "      <td>Reviewed July 5, 2023</td>\n",
              "      <td>5.0</td>\n",
              "      <td>i just wanted to go out of my way to recognize...</td>\n",
              "    </tr>\n",
              "    <tr>\n",
              "      <th>3</th>\n",
              "      <td>Taylor</td>\n",
              "      <td>Seattle, WA</td>\n",
              "      <td>Reviewed May 26, 2023</td>\n",
              "      <td>5.0</td>\n",
              "      <td>me and my friend were at caffeine_corner and m...</td>\n",
              "    </tr>\n",
              "    <tr>\n",
              "      <th>4</th>\n",
              "      <td>Tenessa</td>\n",
              "      <td>Gresham, OR</td>\n",
              "      <td>Reviewed Jan. 22, 2023</td>\n",
              "      <td>5.0</td>\n",
              "      <td>i’m on this kick of drinking 5 cups of warm wa...</td>\n",
              "    </tr>\n",
              "    <tr>\n",
              "      <th>...</th>\n",
              "      <td>...</td>\n",
              "      <td>...</td>\n",
              "      <td>...</td>\n",
              "      <td>...</td>\n",
              "      <td>...</td>\n",
              "    </tr>\n",
              "    <tr>\n",
              "      <th>839</th>\n",
              "      <td>Michele</td>\n",
              "      <td>Santa Clara, CA</td>\n",
              "      <td>Reviewed Jan. 21, 2008</td>\n",
              "      <td>1.0</td>\n",
              "      <td>no review text</td>\n",
              "    </tr>\n",
              "    <tr>\n",
              "      <th>843</th>\n",
              "      <td>Franklin</td>\n",
              "      <td>Lisbon Falls, ME</td>\n",
              "      <td>Reviewed June 15, 2007</td>\n",
              "      <td>1.0</td>\n",
              "      <td>no review text</td>\n",
              "    </tr>\n",
              "    <tr>\n",
              "      <th>844</th>\n",
              "      <td>Sabine</td>\n",
              "      <td>Redondo Beach, CA</td>\n",
              "      <td>Reviewed Dec. 19, 2006</td>\n",
              "      <td>1.0</td>\n",
              "      <td>i'm (was) a regular customer who ordered a lat...</td>\n",
              "    </tr>\n",
              "    <tr>\n",
              "      <th>847</th>\n",
              "      <td>Erik</td>\n",
              "      <td>Valley Village, CA</td>\n",
              "      <td>Reviewed Nov. 5, 2004</td>\n",
              "      <td>1.0</td>\n",
              "      <td>demanded tips from me, then made me wait until...</td>\n",
              "    </tr>\n",
              "    <tr>\n",
              "      <th>849</th>\n",
              "      <td>Christian</td>\n",
              "      <td>Ramsey, NJ</td>\n",
              "      <td>Reviewed July 19, 2000</td>\n",
              "      <td>1.0</td>\n",
              "      <td>no review text</td>\n",
              "    </tr>\n",
              "  </tbody>\n",
              "</table>\n",
              "<p>604 rows × 5 columns</p>\n",
              "</div>"
            ],
            "text/plain": [
              "          name            location                     Date  Rating  \\\n",
              "0        Helen   Wichita Falls, TX  Reviewed Sept. 13, 2023     5.0   \n",
              "1     Courtney          Apopka, FL   Reviewed July 16, 2023     5.0   \n",
              "2     Daynelle   Cranberry Twp, PA    Reviewed July 5, 2023     5.0   \n",
              "3       Taylor         Seattle, WA    Reviewed May 26, 2023     5.0   \n",
              "4      Tenessa         Gresham, OR   Reviewed Jan. 22, 2023     5.0   \n",
              "..         ...                 ...                      ...     ...   \n",
              "839    Michele     Santa Clara, CA   Reviewed Jan. 21, 2008     1.0   \n",
              "843   Franklin    Lisbon Falls, ME   Reviewed June 15, 2007     1.0   \n",
              "844     Sabine   Redondo Beach, CA   Reviewed Dec. 19, 2006     1.0   \n",
              "847       Erik  Valley Village, CA    Reviewed Nov. 5, 2004     1.0   \n",
              "849  Christian          Ramsey, NJ   Reviewed July 19, 2000     1.0   \n",
              "\n",
              "                                                Review  \n",
              "0    amber and ladonna at the caffeine_corner on so...  \n",
              "1    ** at the caffeine_corner by the fire station ...  \n",
              "2    i just wanted to go out of my way to recognize...  \n",
              "3    me and my friend were at caffeine_corner and m...  \n",
              "4    i’m on this kick of drinking 5 cups of warm wa...  \n",
              "..                                                 ...  \n",
              "839                                     no review text  \n",
              "843                                     no review text  \n",
              "844  i'm (was) a regular customer who ordered a lat...  \n",
              "847  demanded tips from me, then made me wait until...  \n",
              "849                                     no review text  \n",
              "\n",
              "[604 rows x 5 columns]"
            ]
          },
          "execution_count": 96,
          "metadata": {},
          "output_type": "execute_result"
        }
      ],
      "source": [
        "df"
      ]
    },
    {
      "cell_type": "code",
      "execution_count": null,
      "metadata": {
        "colab": {
          "base_uri": "https://localhost:8080/",
          "height": 49,
          "referenced_widgets": [
            "1c8a1356531244beb43ef8cbbdfff40f",
            "c30b9969cdd34d529c46def58c626a5f",
            "2ec81e31d0044669afb13138aae36ce4",
            "ebe617b107b94d1e8813797812513644",
            "c10d1e0b2f904a95a74cf31a75a579dc",
            "b60266f230cc4f06be5516bd048981df",
            "a28c129ee5a94dc38ce611bb687f232e",
            "8c842f5e61e8450aac303bacd8aa3252",
            "f7e8d07ff53c45f78a5092f024b7a276",
            "532d05622220452f97513ed8bf2a8a37",
            "5e506ffe82014d9f867fa48fa47cef56",
            "587c71bf9ff84439b1452bf60b4c5ca1"
          ]
        },
        "id": "C7pQ52T17NKS",
        "outputId": "1f0485e1-2a04-4610-ec36-f6494a557f9f"
      },
      "outputs": [
        {
          "data": {
            "application/vnd.jupyter.widget-view+json": {
              "model_id": "587c71bf9ff84439b1452bf60b4c5ca1",
              "version_major": 2,
              "version_minor": 0
            },
            "text/plain": [
              "  0%|          | 0/604 [00:00<?, ?it/s]"
            ]
          },
          "metadata": {},
          "output_type": "display_data"
        }
      ],
      "source": [
        "#This will calculate the polarity score for whole dataset\n",
        "result = {}\n",
        "for i,  row in tqdm(df.iterrows(), total = len(df)):\n",
        "  texts = row['Review']\n",
        "  my_name = row[\"name\"]\n",
        "  result[my_name] = SA.polarity_scores(texts)"
      ]
    },
    {
      "cell_type": "code",
      "execution_count": null,
      "metadata": {
        "colab": {
          "base_uri": "https://localhost:8080/"
        },
        "id": "38HWxNBu7Q-m",
        "outputId": "8ab5fcf2-3017-49cd-d437-a20202ddaebc"
      },
      "outputs": [
        {
          "data": {
            "text/plain": [
              "{'Helen': {'neg': 0.0, 'neu': 0.797, 'pos': 0.203, 'compound': 0.8991},\n",
              " 'Courtney': {'neg': 0.099, 'neu': 0.755, 'pos': 0.145, 'compound': 0.7766},\n",
              " 'Daynelle': {'neg': 0.087, 'neu': 0.767, 'pos': 0.145, 'compound': 0.5242},\n",
              " 'Taylor': {'neg': 0.053, 'neu': 0.682, 'pos': 0.265, 'compound': 0.9698},\n",
              " 'Tenessa': {'neg': 0.0, 'neu': 0.669, 'pos': 0.331, 'compound': 0.9793},\n",
              " 'Alyssa': {'neg': 0.109, 'neu': 0.891, 'pos': 0.0, 'compound': -0.7269},\n",
              " 'ken': {'neg': 0.233, 'neu': 0.767, 'pos': 0.0, 'compound': -0.8963},\n",
              " 'Nikki': {'neg': 0.033, 'neu': 0.818, 'pos': 0.15, 'compound': 0.8994},\n",
              " 'Alex': {'neg': 0.196, 'neu': 0.804, 'pos': 0.0, 'compound': -0.8316},\n",
              " 'Sunny': {'neg': 0.21, 'neu': 0.649, 'pos': 0.141, 'compound': -0.7912},\n",
              " 'Breggetta': {'neg': 0.06, 'neu': 0.872, 'pos': 0.068, 'compound': -0.2732},\n",
              " 'Shannon': {'neg': 0.0, 'neu': 0.938, 'pos': 0.062, 'compound': 0.5801},\n",
              " 'Lucy': {'neg': 0.24, 'neu': 0.76, 'pos': 0.0, 'compound': -0.9484},\n",
              " 'RAYMOND': {'neg': 0.0, 'neu': 0.901, 'pos': 0.099, 'compound': 0.946},\n",
              " 'Thomas': {'neg': 0.065, 'neu': 0.935, 'pos': 0.0, 'compound': -0.6759},\n",
              " 'Felicia': {'neg': 0.046, 'neu': 0.864, 'pos': 0.09, 'compound': 0.5719},\n",
              " 'Sean': {'neg': 0.0, 'neu': 0.948, 'pos': 0.052, 'compound': 0.4404},\n",
              " 'Charles': {'neg': 0.069, 'neu': 0.897, 'pos': 0.034, 'compound': -0.3612},\n",
              " 'Miya': {'neg': 0.068, 'neu': 0.86, 'pos': 0.072, 'compound': -0.1779},\n",
              " 'Ann': {'neg': 0.205, 'neu': 0.684, 'pos': 0.112, 'compound': -0.7692},\n",
              " 'Vicki': {'neg': 0.033, 'neu': 0.949, 'pos': 0.018, 'compound': -0.412},\n",
              " 'VD': {'neg': 0.101, 'neu': 0.701, 'pos': 0.198, 'compound': 0.9607},\n",
              " 'Jennifer': {'neg': 0.0, 'neu': 1.0, 'pos': 0.0, 'compound': 0.0},\n",
              " 'Mark': {'neg': 0.149, 'neu': 0.818, 'pos': 0.033, 'compound': -0.7506},\n",
              " 'Chris': {'neg': 0.099, 'neu': 0.82, 'pos': 0.081, 'compound': -0.6147},\n",
              " 'Elizabeth': {'neg': 0.083, 'neu': 0.858, 'pos': 0.059, 'compound': -0.4701},\n",
              " 'Kemmis': {'neg': 0.077, 'neu': 0.88, 'pos': 0.043, 'compound': -0.1655},\n",
              " 'Eva': {'neg': 0.157, 'neu': 0.687, 'pos': 0.157, 'compound': 0.2541},\n",
              " 'Tiffany': {'neg': 0.158, 'neu': 0.783, 'pos': 0.058, 'compound': -0.6705},\n",
              " 'Kseniia': {'neg': 0.019, 'neu': 0.857, 'pos': 0.124, 'compound': 0.8151},\n",
              " 'Nilly': {'neg': 0.227, 'neu': 0.641, 'pos': 0.132, 'compound': -0.8056},\n",
              " 'Latasha': {'neg': 0.065, 'neu': 0.766, 'pos': 0.169, 'compound': 0.8741},\n",
              " 'William': {'neg': 0.077, 'neu': 0.871, 'pos': 0.052, 'compound': -0.4767},\n",
              " 'James': {'neg': 0.069, 'neu': 0.813, 'pos': 0.118, 'compound': 0.3415},\n",
              " 'vincent': {'neg': 0.059, 'neu': 0.879, 'pos': 0.062, 'compound': 0.0364},\n",
              " 'J': {'neg': 0.097, 'neu': 0.89, 'pos': 0.014, 'compound': -0.7738},\n",
              " 'Brenda': {'neg': 0.059, 'neu': 0.919, 'pos': 0.022, 'compound': -0.4885},\n",
              " 'ANDRU': {'neg': 0.079, 'neu': 0.894, 'pos': 0.027, 'compound': -0.7096},\n",
              " 'Marlene': {'neg': 0.104, 'neu': 0.856, 'pos': 0.04, 'compound': -0.7424},\n",
              " 'Paul': {'neg': 0.116, 'neu': 0.866, 'pos': 0.018, 'compound': -0.9485},\n",
              " 'Trenton': {'neg': 0.102, 'neu': 0.898, 'pos': 0.0, 'compound': -0.8331},\n",
              " 'Ryan': {'neg': 0.028, 'neu': 0.772, 'pos': 0.2, 'compound': 0.9357},\n",
              " 'Ian': {'neg': 0.093, 'neu': 0.789, 'pos': 0.118, 'compound': 0.5644},\n",
              " 'john': {'neg': 0.059, 'neu': 0.798, 'pos': 0.144, 'compound': 0.4939},\n",
              " 'B': {'neg': 0.111, 'neu': 0.806, 'pos': 0.083, 'compound': -0.0258},\n",
              " 'Diana': {'neg': 0.017, 'neu': 0.928, 'pos': 0.055, 'compound': 0.5998},\n",
              " 'Ariane': {'neg': 0.183, 'neu': 0.817, 'pos': 0.0, 'compound': -0.9413},\n",
              " 'Kimberly': {'neg': 0.037, 'neu': 0.786, 'pos': 0.177, 'compound': 0.9088},\n",
              " 'Susanne': {'neg': 0.097, 'neu': 0.816, 'pos': 0.086, 'compound': -0.6011},\n",
              " 'Gina': {'neg': 0.112, 'neu': 0.864, 'pos': 0.024, 'compound': -0.8146},\n",
              " 'Kenneth': {'neg': 0.09, 'neu': 0.876, 'pos': 0.034, 'compound': -0.4576},\n",
              " 'Marmar': {'neg': 0.024, 'neu': 0.976, 'pos': 0.0, 'compound': -0.5256},\n",
              " 'Nildee': {'neg': 0.092, 'neu': 0.88, 'pos': 0.028, 'compound': -0.7096},\n",
              " 'Lloyd': {'neg': 0.0, 'neu': 0.838, 'pos': 0.162, 'compound': 0.6804},\n",
              " 'Lauren': {'neg': 0.078, 'neu': 0.922, 'pos': 0.0, 'compound': -0.5267},\n",
              " 'Aryelle': {'neg': 0.04, 'neu': 0.96, 'pos': 0.0, 'compound': -0.2023},\n",
              " 'Roy': {'neg': 0.033, 'neu': 0.822, 'pos': 0.146, 'compound': 0.8958},\n",
              " 'Wendy': {'neg': 0.115, 'neu': 0.747, 'pos': 0.138, 'compound': 0.2516},\n",
              " 'Bertha': {'neg': 0.068, 'neu': 0.847, 'pos': 0.085, 'compound': 0.253},\n",
              " 'Christopher': {'neg': 0.073,\n",
              "  'neu': 0.879,\n",
              "  'pos': 0.048,\n",
              "  'compound': -0.2266},\n",
              " 'Sharon': {'neg': 0.524, 'neu': 0.476, 'pos': 0.0, 'compound': -0.296},\n",
              " 'Lukas': {'neg': 0.026, 'neu': 0.716, 'pos': 0.258, 'compound': 0.9808},\n",
              " 'David': {'neg': 0.016, 'neu': 0.865, 'pos': 0.118, 'compound': 0.8625},\n",
              " 'Pamela': {'neg': 0.0, 'neu': 1.0, 'pos': 0.0, 'compound': 0.0},\n",
              " 'Brooklyn': {'neg': 0.097, 'neu': 0.84, 'pos': 0.063, 'compound': -0.7819},\n",
              " 'IAm': {'neg': 0.155, 'neu': 0.788, 'pos': 0.057, 'compound': -0.8903},\n",
              " 'Julie': {'neg': 0.126, 'neu': 0.776, 'pos': 0.098, 'compound': -0.6083},\n",
              " 'Aaron': {'neg': 0.118, 'neu': 0.747, 'pos': 0.135, 'compound': 0.0046},\n",
              " 'Billy': {'neg': 0.075, 'neu': 0.554, 'pos': 0.371, 'compound': 0.9901},\n",
              " 'Ivan': {'neg': 0.061, 'neu': 0.69, 'pos': 0.249, 'compound': 0.8807},\n",
              " 'Samantha': {'neg': 0.048, 'neu': 0.916, 'pos': 0.036, 'compound': -0.3612},\n",
              " 'Jacqueline': {'neg': 0.075, 'neu': 0.925, 'pos': 0.0, 'compound': -0.6652},\n",
              " 'RC': {'neg': 0.063, 'neu': 0.822, 'pos': 0.115, 'compound': 0.7227},\n",
              " 'EADream': {'neg': 0.0, 'neu': 0.88, 'pos': 0.12, 'compound': 0.8208},\n",
              " 'Elle': {'neg': 0.0, 'neu': 0.642, 'pos': 0.358, 'compound': 0.9459},\n",
              " 'Tasha': {'neg': 0.021, 'neu': 0.88, 'pos': 0.099, 'compound': 0.8402},\n",
              " 'Phil': {'neg': 0.153, 'neu': 0.784, 'pos': 0.063, 'compound': -0.6249},\n",
              " 'Angeline': {'neg': 0.108, 'neu': 0.872, 'pos': 0.02, 'compound': -0.8448},\n",
              " 'Edwin': {'neg': 0.053, 'neu': 0.877, 'pos': 0.069, 'compound': 0.7269},\n",
              " 'Robin': {'neg': 0.0, 'neu': 0.891, 'pos': 0.109, 'compound': 0.8997},\n",
              " 'Fazlin': {'neg': 0.262, 'neu': 0.661, 'pos': 0.076, 'compound': -0.897},\n",
              " 'Denise': {'neg': 0.0, 'neu': 0.659, 'pos': 0.341, 'compound': 0.9938},\n",
              " 'Patrick': {'neg': 0.182, 'neu': 0.818, 'pos': 0.0, 'compound': -0.7837},\n",
              " 'John': {'neg': 0.12, 'neu': 0.857, 'pos': 0.023, 'compound': -0.7506},\n",
              " 'Abhinav': {'neg': 0.019, 'neu': 0.614, 'pos': 0.367, 'compound': 0.9935},\n",
              " 'Uday': {'neg': 0.183, 'neu': 0.817, 'pos': 0.0, 'compound': -0.8859},\n",
              " 'Erica': {'neg': 0.192, 'neu': 0.778, 'pos': 0.03, 'compound': -0.8821},\n",
              " 'Julia': {'neg': 0.095, 'neu': 0.751, 'pos': 0.153, 'compound': 0.5982},\n",
              " 'Savaa': {'neg': 0.078, 'neu': 0.83, 'pos': 0.092, 'compound': -0.126},\n",
              " 'Izzy': {'neg': 0.073, 'neu': 0.556, 'pos': 0.371, 'compound': 0.9484},\n",
              " 'Spiros': {'neg': 0.045, 'neu': 0.955, 'pos': 0.0, 'compound': -0.5423},\n",
              " 'Ayako': {'neg': 0.059, 'neu': 0.85, 'pos': 0.09, 'compound': 0.6179},\n",
              " 'Karen': {'neg': 0.045, 'neu': 0.796, 'pos': 0.159, 'compound': 0.6362},\n",
              " 'Donald': {'neg': 0.524, 'neu': 0.476, 'pos': 0.0, 'compound': -0.296},\n",
              " 'Steven': {'neg': 0.164, 'neu': 0.709, 'pos': 0.127, 'compound': -0.3582},\n",
              " 'D.': {'neg': 0.116, 'neu': 0.776, 'pos': 0.108, 'compound': -0.3551},\n",
              " 'Ronald': {'neg': 0.133, 'neu': 0.837, 'pos': 0.029, 'compound': -0.6808},\n",
              " 'Mario': {'neg': 0.106, 'neu': 0.811, 'pos': 0.083, 'compound': -0.4423},\n",
              " 'Johnna': {'neg': 0.211, 'neu': 0.668, 'pos': 0.121, 'compound': -0.9208},\n",
              " 'Mary Beth': {'neg': 0.088, 'neu': 0.912, 'pos': 0.0, 'compound': -0.6249},\n",
              " 'Val': {'neg': 0.074, 'neu': 0.827, 'pos': 0.1, 'compound': 0.2626},\n",
              " 'Miera': {'neg': 0.093, 'neu': 0.762, 'pos': 0.145, 'compound': 0.2152},\n",
              " 'kateryna': {'neg': 0.076, 'neu': 0.802, 'pos': 0.122, 'compound': 0.5994},\n",
              " 'JP': {'neg': 0.024, 'neu': 0.628, 'pos': 0.347, 'compound': 0.9552},\n",
              " 'Giu': {'neg': 0.194, 'neu': 0.755, 'pos': 0.051, 'compound': -0.7906},\n",
              " 'terri': {'neg': 0.173, 'neu': 0.732, 'pos': 0.094, 'compound': -0.6994},\n",
              " 'Kimmy': {'neg': 0.039, 'neu': 0.961, 'pos': 0.0, 'compound': -0.5423},\n",
              " 'Tameka': {'neg': 0.105, 'neu': 0.838, 'pos': 0.056, 'compound': -0.2617},\n",
              " 'Shanda': {'neg': 0.051, 'neu': 0.828, 'pos': 0.121, 'compound': 0.6114},\n",
              " 'Jamika': {'neg': 0.13, 'neu': 0.87, 'pos': 0.0, 'compound': -0.7632},\n",
              " 'M': {'neg': 0.0, 'neu': 0.84, 'pos': 0.16, 'compound': 0.9132},\n",
              " 'Linda': {'neg': 0.049, 'neu': 0.868, 'pos': 0.083, 'compound': 0.6808},\n",
              " 'Jeff': {'neg': 0.0, 'neu': 0.948, 'pos': 0.052, 'compound': 0.5994},\n",
              " 'Cathy': {'neg': 0.0, 'neu': 0.859, 'pos': 0.141, 'compound': 0.8658},\n",
              " 'Laura': {'neg': 0.109, 'neu': 0.858, 'pos': 0.033, 'compound': -0.5789},\n",
              " 'Bobbie': {'neg': 0.161, 'neu': 0.839, 'pos': 0.0, 'compound': -0.7835},\n",
              " 'Anthony': {'neg': 0.058, 'neu': 0.942, 'pos': 0.0, 'compound': -0.296},\n",
              " 'Olesya': {'neg': 0.0, 'neu': 0.915, 'pos': 0.085, 'compound': 0.7506},\n",
              " 'Ron': {'neg': 0.046, 'neu': 0.83, 'pos': 0.124, 'compound': 0.9118},\n",
              " 'Angela': {'neg': 0.063, 'neu': 0.887, 'pos': 0.05, 'compound': -0.2481},\n",
              " 'Ilea': {'neg': 0.018, 'neu': 0.956, 'pos': 0.026, 'compound': 0.1779},\n",
              " 'Bubba': {'neg': 0.021, 'neu': 0.87, 'pos': 0.109, 'compound': 0.8203},\n",
              " 'MARGARET': {'neg': 0.029, 'neu': 0.847, 'pos': 0.123, 'compound': 0.8482},\n",
              " 'Sara': {'neg': 0.0, 'neu': 0.696, 'pos': 0.304, 'compound': 0.9356},\n",
              " 'Terry': {'neg': 0.083, 'neu': 0.859, 'pos': 0.058, 'compound': -0.4588},\n",
              " 'Luis': {'neg': 0.053, 'neu': 0.834, 'pos': 0.113, 'compound': 0.2701},\n",
              " 'Brett': {'neg': 0.122, 'neu': 0.743, 'pos': 0.135, 'compound': -0.0342},\n",
              " 'Peggy': {'neg': 0.045, 'neu': 0.955, 'pos': 0.0, 'compound': -0.5948},\n",
              " 'Stefanie': {'neg': 0.101, 'neu': 0.765, 'pos': 0.133, 'compound': 0.2003},\n",
              " 'Elissa': {'neg': 0.077, 'neu': 0.633, 'pos': 0.29, 'compound': 0.9204},\n",
              " 'Iris': {'neg': 0.024, 'neu': 0.684, 'pos': 0.291, 'compound': 0.9893},\n",
              " 'Tori': {'neg': 0.168, 'neu': 0.832, 'pos': 0.0, 'compound': -0.9646},\n",
              " 'Jim': {'neg': 0.017, 'neu': 0.929, 'pos': 0.054, 'compound': 0.7876},\n",
              " 'yaloha': {'neg': 0.117, 'neu': 0.854, 'pos': 0.029, 'compound': -0.9175},\n",
              " 'Kathie': {'neg': 0.088, 'neu': 0.855, 'pos': 0.057, 'compound': -0.194},\n",
              " 'Nancy': {'neg': 0.053, 'neu': 0.836, 'pos': 0.112, 'compound': 0.7485},\n",
              " 'Mary': {'neg': 0.079, 'neu': 0.921, 'pos': 0.0, 'compound': -0.8271},\n",
              " 'Daan': {'neg': 0.054, 'neu': 0.861, 'pos': 0.085, 'compound': 0.5957},\n",
              " 'a. e.': {'neg': 0.036, 'neu': 0.877, 'pos': 0.086, 'compound': 0.8095},\n",
              " 'Gloria': {'neg': 0.081, 'neu': 0.767, 'pos': 0.152, 'compound': 0.8418},\n",
              " 'Marcela': {'neg': 0.155, 'neu': 0.787, 'pos': 0.058, 'compound': -0.9347},\n",
              " 'Shanyia': {'neg': 0.179, 'neu': 0.821, 'pos': 0.0, 'compound': -0.802},\n",
              " 'P': {'neg': 0.184, 'neu': 0.777, 'pos': 0.039, 'compound': -0.8744},\n",
              " 'Maelcom': {'neg': 0.0, 'neu': 0.935, 'pos': 0.065, 'compound': 0.6486},\n",
              " 'K.': {'neg': 0.13, 'neu': 0.822, 'pos': 0.048, 'compound': -0.699},\n",
              " 'E.': {'neg': 0.103, 'neu': 0.772, 'pos': 0.126, 'compound': 0.4137},\n",
              " 'Sam': {'neg': 0.106, 'neu': 0.822, 'pos': 0.073, 'compound': -0.2869},\n",
              " 'Bert': {'neg': 0.239, 'neu': 0.725, 'pos': 0.036, 'compound': -0.9421},\n",
              " 'Anne': {'neg': 0.092, 'neu': 0.817, 'pos': 0.091, 'compound': 0.2212},\n",
              " 'amy': {'neg': 0.078, 'neu': 0.868, 'pos': 0.055, 'compound': -0.25},\n",
              " 'Tessa': {'neg': 0.0, 'neu': 0.815, 'pos': 0.185, 'compound': 0.9666},\n",
              " 'Kathy': {'neg': 0.038, 'neu': 0.652, 'pos': 0.31, 'compound': 0.9864},\n",
              " 'Kayla': {'neg': 0.109, 'neu': 0.552, 'pos': 0.339, 'compound': 0.9261},\n",
              " 'Sherina': {'neg': 0.05, 'neu': 0.876, 'pos': 0.074, 'compound': 0.3718},\n",
              " 'Jay': {'neg': 0.0, 'neu': 1.0, 'pos': 0.0, 'compound': 0.0},\n",
              " 'Gaye': {'neg': 0.035, 'neu': 0.898, 'pos': 0.066, 'compound': 0.6583},\n",
              " 'Samara': {'neg': 0.246, 'neu': 0.737, 'pos': 0.017, 'compound': -0.9755},\n",
              " 'cathy': {'neg': 0.028, 'neu': 0.915, 'pos': 0.057, 'compound': 0.4404},\n",
              " 'Sunhee': {'neg': 0.08, 'neu': 0.883, 'pos': 0.038, 'compound': -0.6705},\n",
              " 'Akassh': {'neg': 0.027, 'neu': 0.871, 'pos': 0.102, 'compound': 0.8656},\n",
              " 'Robert': {'neg': 0.147, 'neu': 0.735, 'pos': 0.117, 'compound': -0.2755},\n",
              " 'Emily': {'neg': 0.0, 'neu': 0.878, 'pos': 0.122, 'compound': 0.6437},\n",
              " 'Forrest': {'neg': 0.085, 'neu': 0.872, 'pos': 0.043, 'compound': -0.6787},\n",
              " 'Susie': {'neg': 0.21, 'neu': 0.649, 'pos': 0.141, 'compound': -0.9432},\n",
              " 'Swetha': {'neg': 0.16, 'neu': 0.827, 'pos': 0.014, 'compound': -0.9675},\n",
              " 'Danita': {'neg': 0.122, 'neu': 0.787, 'pos': 0.091, 'compound': -0.6673},\n",
              " 'E. F.': {'neg': 0.142, 'neu': 0.65, 'pos': 0.208, 'compound': 0.5053},\n",
              " 'Rhonda': {'neg': 0.024, 'neu': 0.902, 'pos': 0.075, 'compound': 0.8266},\n",
              " 'Bill': {'neg': 0.181, 'neu': 0.738, 'pos': 0.082, 'compound': -0.9499},\n",
              " 'Kelly': {'neg': 0.213, 'neu': 0.752, 'pos': 0.035, 'compound': -0.9836},\n",
              " 'Trace': {'neg': 0.0, 'neu': 0.89, 'pos': 0.11, 'compound': 0.5927},\n",
              " 'Mel': {'neg': 0.074, 'neu': 0.813, 'pos': 0.113, 'compound': 0.7096},\n",
              " 'Gord': {'neg': 0.067, 'neu': 0.722, 'pos': 0.211, 'compound': 0.8958},\n",
              " 'Mrs.': {'neg': 0.085, 'neu': 0.86, 'pos': 0.055, 'compound': -0.2746},\n",
              " 'adam': {'neg': 0.077, 'neu': 0.829, 'pos': 0.095, 'compound': 0.5647},\n",
              " 'Cesar': {'neg': 0.205, 'neu': 0.772, 'pos': 0.023, 'compound': -0.8861},\n",
              " 'Allison': {'neg': 0.053, 'neu': 0.947, 'pos': 0.0, 'compound': -0.5588},\n",
              " 'Basim': {'neg': 0.171, 'neu': 0.806, 'pos': 0.023, 'compound': -0.9534},\n",
              " 'Melody': {'neg': 0.041, 'neu': 0.84, 'pos': 0.119, 'compound': 0.9091},\n",
              " 'Christie': {'neg': 0.032, 'neu': 0.968, 'pos': 0.0, 'compound': -0.1027},\n",
              " 'Heidi': {'neg': 0.139, 'neu': 0.773, 'pos': 0.088, 'compound': -0.6017},\n",
              " 'Joseh': {'neg': 0.087, 'neu': 0.719, 'pos': 0.194, 'compound': 0.765},\n",
              " 'Anastasia': {'neg': 0.147, 'neu': 0.816, 'pos': 0.037, 'compound': -0.9413},\n",
              " 'Jonathan': {'neg': 0.085, 'neu': 0.739, 'pos': 0.176, 'compound': 0.8965},\n",
              " 'naryman': {'neg': 0.061, 'neu': 0.939, 'pos': 0.0, 'compound': -0.5815},\n",
              " 'Francois': {'neg': 0.0, 'neu': 0.715, 'pos': 0.285, 'compound': 0.9578},\n",
              " '84euni': {'neg': 0.0, 'neu': 0.863, 'pos': 0.137, 'compound': 0.8271},\n",
              " 'Jeanne': {'neg': 0.042, 'neu': 0.824, 'pos': 0.134, 'compound': 0.9304},\n",
              " 'Antonia': {'neg': 0.179, 'neu': 0.673, 'pos': 0.148, 'compound': -0.347},\n",
              " 'Vlad': {'neg': 0.187, 'neu': 0.813, 'pos': 0.0, 'compound': -0.9421},\n",
              " 'Cathi': {'neg': 0.0, 'neu': 0.893, 'pos': 0.107, 'compound': 0.8934},\n",
              " 'Michael': {'neg': 0.08, 'neu': 0.891, 'pos': 0.029, 'compound': -0.8007},\n",
              " 'Susan': {'neg': 0.0, 'neu': 0.87, 'pos': 0.13, 'compound': 0.8225},\n",
              " 'carrie': {'neg': 0.126, 'neu': 0.816, 'pos': 0.058, 'compound': -0.3818},\n",
              " 'Brian': {'neg': 0.089, 'neu': 0.911, 'pos': 0.0, 'compound': -0.7632},\n",
              " 'Marlon': {'neg': 0.174, 'neu': 0.726, 'pos': 0.1, 'compound': -0.8475},\n",
              " 'Jessie': {'neg': 0.0, 'neu': 1.0, 'pos': 0.0, 'compound': 0.0},\n",
              " 'Teresa': {'neg': 0.073, 'neu': 0.887, 'pos': 0.041, 'compound': -0.5815},\n",
              " 'Albert': {'neg': 0.148, 'neu': 0.796, 'pos': 0.057, 'compound': -0.6114},\n",
              " 'Meredith': {'neg': 0.083, 'neu': 0.895, 'pos': 0.022, 'compound': -0.8765},\n",
              " 'Kristie': {'neg': 0.0, 'neu': 0.82, 'pos': 0.18, 'compound': 0.9153},\n",
              " 'Cynthia Luz': {'neg': 0.073, 'neu': 0.739, 'pos': 0.188, 'compound': 0.9662},\n",
              " 'Bryer': {'neg': 0.0, 'neu': 0.68, 'pos': 0.32, 'compound': 0.984},\n",
              " 'Lesley': {'neg': 0.087, 'neu': 0.913, 'pos': 0.0, 'compound': -0.7574},\n",
              " 'Becky': {'neg': 0.045, 'neu': 0.887, 'pos': 0.067, 'compound': 0.1531},\n",
              " 'Trevor': {'neg': 0.059, 'neu': 0.852, 'pos': 0.089, 'compound': 0.5921},\n",
              " 'Nada': {'neg': 0.173, 'neu': 0.801, 'pos': 0.025, 'compound': -0.9774},\n",
              " 'Colbi': {'neg': 0.046, 'neu': 0.66, 'pos': 0.294, 'compound': 0.9845},\n",
              " 'J. K.': {'neg': 0.142, 'neu': 0.822, 'pos': 0.037, 'compound': -0.9401},\n",
              " 'terry': {'neg': 0.119, 'neu': 0.82, 'pos': 0.061, 'compound': -0.8683},\n",
              " 'Thasha': {'neg': 0.176, 'neu': 0.713, 'pos': 0.112, 'compound': -0.6872},\n",
              " 'Maria': {'neg': 0.229, 'neu': 0.742, 'pos': 0.028, 'compound': -0.9606},\n",
              " 'Keith': {'neg': 0.015, 'neu': 0.871, 'pos': 0.114, 'compound': 0.8959},\n",
              " 'M.': {'neg': 0.031, 'neu': 0.797, 'pos': 0.172, 'compound': 0.9565},\n",
              " 'Nikcko': {'neg': 0.0, 'neu': 0.87, 'pos': 0.13, 'compound': 0.6576},\n",
              " 'Shelley': {'neg': 0.0, 'neu': 0.748, 'pos': 0.252, 'compound': 0.93},\n",
              " 'Jason': {'neg': 0.237, 'neu': 0.721, 'pos': 0.043, 'compound': -0.8883},\n",
              " 'Sheryl': {'neg': 0.108, 'neu': 0.853, 'pos': 0.039, 'compound': -0.8218},\n",
              " 'Malinda': {'neg': 0.0, 'neu': 0.928, 'pos': 0.072, 'compound': 0.7284},\n",
              " 'Mari': {'neg': 0.113, 'neu': 0.745, 'pos': 0.142, 'compound': 0.2244},\n",
              " 'Thaner': {'neg': 0.107, 'neu': 0.827, 'pos': 0.066, 'compound': -0.6331},\n",
              " 'Cristal': {'neg': 0.026, 'neu': 0.742, 'pos': 0.231, 'compound': 0.886},\n",
              " 'Ellen': {'neg': 0.103, 'neu': 0.825, 'pos': 0.072, 'compound': -0.3923},\n",
              " 'Ingrid': {'neg': 0.0, 'neu': 0.911, 'pos': 0.089, 'compound': 0.7783},\n",
              " 'Jill': {'neg': 0.086, 'neu': 0.84, 'pos': 0.074, 'compound': -0.1875},\n",
              " 'Bonnie': {'neg': 0.142, 'neu': 0.794, 'pos': 0.064, 'compound': -0.9119},\n",
              " 'Lynda': {'neg': 0.167, 'neu': 0.784, 'pos': 0.049, 'compound': -0.9136},\n",
              " 'Omar': {'neg': 0.107, 'neu': 0.827, 'pos': 0.066, 'compound': -0.5401},\n",
              " 'Riley': {'neg': 0.133, 'neu': 0.751, 'pos': 0.115, 'compound': -0.582},\n",
              " 'Nick': {'neg': 0.139, 'neu': 0.769, 'pos': 0.091, 'compound': -0.7529},\n",
              " 'Guner': {'neg': 0.192, 'neu': 0.7, 'pos': 0.108, 'compound': -0.843},\n",
              " 'Pati': {'neg': 0.0, 'neu': 0.693, 'pos': 0.307, 'compound': 0.8988},\n",
              " 'Judy': {'neg': 0.0, 'neu': 0.828, 'pos': 0.172, 'compound': 0.6808},\n",
              " 'Joseph': {'neg': 0.0, 'neu': 0.746, 'pos': 0.254, 'compound': 0.8481},\n",
              " 'Claudia': {'neg': 0.063, 'neu': 0.421, 'pos': 0.516, 'compound': 0.9701},\n",
              " 'Kathryn': {'neg': 0.052, 'neu': 0.571, 'pos': 0.377, 'compound': 0.9334},\n",
              " 'Janice': {'neg': 0.0, 'neu': 0.759, 'pos': 0.241, 'compound': 0.8338},\n",
              " 'natesha': {'neg': 0.0, 'neu': 0.733, 'pos': 0.267, 'compound': 0.899},\n",
              " 'Bridget': {'neg': 0.0, 'neu': 0.752, 'pos': 0.248, 'compound': 0.872},\n",
              " 'Katsy': {'neg': 0.079, 'neu': 0.726, 'pos': 0.194, 'compound': 0.9093},\n",
              " 'Chereece': {'neg': 0.0, 'neu': 0.688, 'pos': 0.312, 'compound': 0.8934},\n",
              " 'Ricky': {'neg': 0.0, 'neu': 0.89, 'pos': 0.11, 'compound': 0.7003},\n",
              " 'Barbara': {'neg': 0.0, 'neu': 0.935, 'pos': 0.065, 'compound': 0.2382},\n",
              " 'Justin': {'neg': 0.078, 'neu': 0.842, 'pos': 0.08, 'compound': -0.2263},\n",
              " 'Brent': {'neg': 0.0, 'neu': 0.716, 'pos': 0.284, 'compound': 0.9017},\n",
              " 'Patrice': {'neg': 0.118, 'neu': 0.79, 'pos': 0.092, 'compound': -0.4025},\n",
              " 'Art': {'neg': 0.057, 'neu': 0.927, 'pos': 0.016, 'compound': -0.5587},\n",
              " 'Dan': {'neg': 0.089, 'neu': 0.78, 'pos': 0.131, 'compound': 0.7096},\n",
              " 'Katrina': {'neg': 0.094, 'neu': 0.757, 'pos': 0.149, 'compound': 0.8866},\n",
              " 'Ken': {'neg': 0.108, 'neu': 0.798, 'pos': 0.094, 'compound': 0.2924},\n",
              " 'Pat': {'neg': 0.036, 'neu': 0.937, 'pos': 0.027, 'compound': -0.2247},\n",
              " 'Johnny': {'neg': 0.113, 'neu': 0.837, 'pos': 0.049, 'compound': -0.6386},\n",
              " 'shawn': {'neg': 0.059, 'neu': 0.855, 'pos': 0.087, 'compound': 0.6908},\n",
              " 'Toby': {'neg': 0.0, 'neu': 0.673, 'pos': 0.327, 'compound': 0.9274},\n",
              " 'Grant': {'neg': 0.0, 'neu': 0.738, 'pos': 0.262, 'compound': 0.9019},\n",
              " 'April': {'neg': 0.0, 'neu': 0.743, 'pos': 0.257, 'compound': 0.9093},\n",
              " 'Anita': {'neg': 0.0, 'neu': 0.529, 'pos': 0.471, 'compound': 0.966},\n",
              " 'Anna': {'neg': 0.0, 'neu': 0.759, 'pos': 0.241, 'compound': 0.8478},\n",
              " 'Darlene': {'neg': 0.0, 'neu': 0.614, 'pos': 0.386, 'compound': 0.9375},\n",
              " 'Rev.': {'neg': 0.0, 'neu': 0.773, 'pos': 0.227, 'compound': 0.8442},\n",
              " 'Alana': {'neg': 0.106, 'neu': 0.798, 'pos': 0.095, 'compound': -0.1163},\n",
              " 'Phyllis': {'neg': 0.0, 'neu': 0.833, 'pos': 0.167, 'compound': 0.7003},\n",
              " 'Christine': {'neg': 0.016, 'neu': 0.8, 'pos': 0.184, 'compound': 0.9501},\n",
              " 'Gene': {'neg': 0.0, 'neu': 0.701, 'pos': 0.299, 'compound': 0.8687},\n",
              " 'Oluwaseyitan': {'neg': 0.0, 'neu': 0.658, 'pos': 0.342, 'compound': 0.9713},\n",
              " 'Hugo': {'neg': 0.074, 'neu': 0.673, 'pos': 0.254, 'compound': 0.709},\n",
              " 'L.': {'neg': 0.0, 'neu': 0.652, 'pos': 0.348, 'compound': 0.8834},\n",
              " 'Bob': {'neg': 0.0, 'neu': 0.685, 'pos': 0.315, 'compound': 0.8779},\n",
              " 'ROBERT': {'neg': 0.07, 'neu': 0.93, 'pos': 0.0, 'compound': -0.6353},\n",
              " 'Mary Cay': {'neg': 0.024, 'neu': 0.761, 'pos': 0.215, 'compound': 0.8906},\n",
              " 'Sylvia': {'neg': 0.0, 'neu': 0.682, 'pos': 0.318, 'compound': 0.9182},\n",
              " 'Sue': {'neg': 0.0, 'neu': 0.698, 'pos': 0.302, 'compound': 0.8687},\n",
              " 'Josie': {'neg': 0.032, 'neu': 0.783, 'pos': 0.185, 'compound': 0.8804},\n",
              " 'Kirita': {'neg': 0.094, 'neu': 0.595, 'pos': 0.311, 'compound': 0.8809},\n",
              " 'Lori': {'neg': 0.028, 'neu': 0.662, 'pos': 0.31, 'compound': 0.9948},\n",
              " 'Jack': {'neg': 0.167, 'neu': 0.639, 'pos': 0.194, 'compound': 0.1881},\n",
              " 'Melissa': {'neg': 0.041, 'neu': 0.703, 'pos': 0.257, 'compound': 0.8932},\n",
              " 'Patricia': {'neg': 0.0, 'neu': 0.799, 'pos': 0.201, 'compound': 0.743},\n",
              " 'Suzanne': {'neg': 0.163, 'neu': 0.599, 'pos': 0.237, 'compound': 0.6663},\n",
              " 'Gail': {'neg': 0.0, 'neu': 0.563, 'pos': 0.437, 'compound': 0.9672},\n",
              " 'T': {'neg': 0.144, 'neu': 0.856, 'pos': 0.0, 'compound': -0.7089},\n",
              " 'Terrell': {'neg': 0.1, 'neu': 0.768, 'pos': 0.132, 'compound': 0.3559},\n",
              " 'Ellie': {'neg': 0.0, 'neu': 0.836, 'pos': 0.164, 'compound': 0.5423},\n",
              " 'Roberta': {'neg': 0.202, 'neu': 0.655, 'pos': 0.143, 'compound': -0.2746},\n",
              " 'Eric': {'neg': 0.086, 'neu': 0.85, 'pos': 0.064, 'compound': -0.3438},\n",
              " 'Gaile': {'neg': 0.0, 'neu': 0.854, 'pos': 0.146, 'compound': 0.6478},\n",
              " 'Margaret': {'neg': 0.047, 'neu': 0.872, 'pos': 0.082, 'compound': 0.3036},\n",
              " 'Gwendora': {'neg': 0.0, 'neu': 0.881, 'pos': 0.119, 'compound': 0.4215},\n",
              " 'Lynne': {'neg': 0.055, 'neu': 0.591, 'pos': 0.354, 'compound': 0.9449},\n",
              " 'Sz': {'neg': 0.0, 'neu': 0.868, 'pos': 0.132, 'compound': 0.4215},\n",
              " 'Leslie': {'neg': 0.029, 'neu': 0.86, 'pos': 0.111, 'compound': 0.5994},\n",
              " 'Danyele': {'neg': 0.0, 'neu': 0.653, 'pos': 0.347, 'compound': 0.9153},\n",
              " 'Cynthia': {'neg': 0.084, 'neu': 0.761, 'pos': 0.155, 'compound': 0.3832},\n",
              " 'Kurt': {'neg': 0.217, 'neu': 0.705, 'pos': 0.079, 'compound': -0.6249},\n",
              " 'Angeli': {'neg': 0.0, 'neu': 1.0, 'pos': 0.0, 'compound': 0.0},\n",
              " 'Mai': {'neg': 0.0, 'neu': 0.783, 'pos': 0.217, 'compound': 0.7475},\n",
              " 'Martha': {'neg': 0.043, 'neu': 0.817, 'pos': 0.14, 'compound': 0.7953},\n",
              " 'Rebecca': {'neg': 0.046, 'neu': 0.767, 'pos': 0.187, 'compound': 0.8934},\n",
              " 'Brad': {'neg': 0.07, 'neu': 0.832, 'pos': 0.098, 'compound': 0.388},\n",
              " 'Soose': {'neg': 0.067, 'neu': 0.777, 'pos': 0.155, 'compound': 0.3612},\n",
              " 'S': {'neg': 0.042, 'neu': 0.625, 'pos': 0.333, 'compound': 0.9215},\n",
              " 'Elias': {'neg': 0.107, 'neu': 0.852, 'pos': 0.041, 'compound': -0.743},\n",
              " 'PJ': {'neg': 0.087, 'neu': 0.729, 'pos': 0.184, 'compound': 0.7368},\n",
              " 'Rachel': {'neg': 0.04, 'neu': 0.855, 'pos': 0.104, 'compound': 0.7761},\n",
              " 'Alexis': {'neg': 0.07, 'neu': 0.84, 'pos': 0.09, 'compound': 0.4497},\n",
              " 'Neal': {'neg': 0.088, 'neu': 0.839, 'pos': 0.074, 'compound': -0.4742},\n",
              " 'Raymond': {'neg': 0.345, 'neu': 0.655, 'pos': 0.0, 'compound': -0.9511},\n",
              " 'Lee': {'neg': 0.071, 'neu': 0.929, 'pos': 0.0, 'compound': -0.765},\n",
              " 'Doug': {'neg': 0.062, 'neu': 0.862, 'pos': 0.076, 'compound': 0.4767},\n",
              " 'Ranee': {'neg': 0.103, 'neu': 0.793, 'pos': 0.104, 'compound': 0.2784},\n",
              " 'J.': {'neg': 0.119, 'neu': 0.867, 'pos': 0.014, 'compound': -0.9022},\n",
              " 'Manya': {'neg': 0.014, 'neu': 0.955, 'pos': 0.03, 'compound': 0.3612},\n",
              " 'Kayu': {'neg': 0.034, 'neu': 0.799, 'pos': 0.167, 'compound': 0.9414},\n",
              " 'Terri': {'neg': 0.028, 'neu': 0.944, 'pos': 0.027, 'compound': -0.0258},\n",
              " 'Lynette': {'neg': 0.153, 'neu': 0.726, 'pos': 0.121, 'compound': -0.4255},\n",
              " 'Shanatta': {'neg': 0.154, 'neu': 0.814, 'pos': 0.031, 'compound': -0.9715},\n",
              " 'CHRISTIE': {'neg': 0.079, 'neu': 0.857, 'pos': 0.064, 'compound': -0.3632},\n",
              " 'Laurie': {'neg': 0.099, 'neu': 0.723, 'pos': 0.178, 'compound': 0.6625},\n",
              " 'Valeriy': {'neg': 0.035, 'neu': 0.851, 'pos': 0.115, 'compound': 0.7901},\n",
              " 'Kanaha': {'neg': 0.035, 'neu': 0.948, 'pos': 0.018, 'compound': -0.2144},\n",
              " 'Marcus': {'neg': 0.02, 'neu': 0.899, 'pos': 0.081, 'compound': 0.7269},\n",
              " 'CAROL': {'neg': 0.116, 'neu': 0.826, 'pos': 0.057, 'compound': -0.7485},\n",
              " 'Ralph': {'neg': 0.0, 'neu': 0.847, 'pos': 0.153, 'compound': 0.9459},\n",
              " 'Jose': {'neg': 0.134, 'neu': 0.866, 'pos': 0.0, 'compound': -0.659},\n",
              " 'Angie': {'neg': 0.117, 'neu': 0.848, 'pos': 0.036, 'compound': -0.6249},\n",
              " 'Judith': {'neg': 0.027, 'neu': 0.891, 'pos': 0.082, 'compound': 0.6588},\n",
              " 'Melanie': {'neg': 0.11, 'neu': 0.706, 'pos': 0.184, 'compound': 0.6917},\n",
              " 'Grace': {'neg': 0.041, 'neu': 0.889, 'pos': 0.07, 'compound': 0.3071},\n",
              " 'Luanne': {'neg': 0.109, 'neu': 0.827, 'pos': 0.064, 'compound': -0.3818},\n",
              " 'Jeffory': {'neg': 0.0, 'neu': 0.847, 'pos': 0.153, 'compound': 0.8689},\n",
              " 'Fatima': {'neg': 0.092, 'neu': 0.824, 'pos': 0.084, 'compound': -0.201},\n",
              " 'Novella': {'neg': 0.031, 'neu': 0.847, 'pos': 0.122, 'compound': 0.765},\n",
              " 'Margo': {'neg': 0.156, 'neu': 0.797, 'pos': 0.048, 'compound': -0.8945},\n",
              " 'Katie': {'neg': 0.089, 'neu': 0.785, 'pos': 0.126, 'compound': 0.6929},\n",
              " 'Lynn': {'neg': 0.075, 'neu': 0.78, 'pos': 0.145, 'compound': 0.8545},\n",
              " 'Harold': {'neg': 0.099, 'neu': 0.901, 'pos': 0.0, 'compound': -0.703},\n",
              " 'Arlene': {'neg': 0.018, 'neu': 0.823, 'pos': 0.159, 'compound': 0.9737},\n",
              " 'Valerie': {'neg': 0.0, 'neu': 0.934, 'pos': 0.066, 'compound': 0.598},\n",
              " 'Kim': {'neg': 0.066, 'neu': 0.849, 'pos': 0.085, 'compound': 0.3595},\n",
              " 'chris': {'neg': 0.06, 'neu': 0.869, 'pos': 0.071, 'compound': 0.2008},\n",
              " 'Ray': {'neg': 0.112, 'neu': 0.781, 'pos': 0.108, 'compound': -0.1267},\n",
              " 'Juan Paolo': {'neg': 0.038, 'neu': 0.628, 'pos': 0.334, 'compound': 0.9902},\n",
              " 'kym': {'neg': 0.113, 'neu': 0.802, 'pos': 0.085, 'compound': -0.6808},\n",
              " 'C.': {'neg': 0.076, 'neu': 0.787, 'pos': 0.137, 'compound': 0.8682},\n",
              " 'Myrich': {'neg': 0.0, 'neu': 0.728, 'pos': 0.272, 'compound': 0.941},\n",
              " 'Danil': {'neg': 0.041, 'neu': 0.696, 'pos': 0.263, 'compound': 0.9507},\n",
              " 'Tim': {'neg': 0.062, 'neu': 0.658, 'pos': 0.28, 'compound': 0.9765},\n",
              " 'DAISY': {'neg': 0.071, 'neu': 0.783, 'pos': 0.146, 'compound': 0.9467},\n",
              " 'H': {'neg': 0.157, 'neu': 0.778, 'pos': 0.065, 'compound': -0.7982},\n",
              " 'MOHAN': {'neg': 0.097, 'neu': 0.788, 'pos': 0.115, 'compound': -0.2098},\n",
              " 'margaret': {'neg': 0.04, 'neu': 0.931, 'pos': 0.029, 'compound': 0.291},\n",
              " 'Wafa': {'neg': 0.0, 'neu': 0.961, 'pos': 0.039, 'compound': 0.5719},\n",
              " 'Serge': {'neg': 0.107, 'neu': 0.848, 'pos': 0.044, 'compound': -0.8211},\n",
              " 'Rob': {'neg': 0.087, 'neu': 0.847, 'pos': 0.065, 'compound': -0.1779},\n",
              " 'Celeste': {'neg': 0.12, 'neu': 0.726, 'pos': 0.154, 'compound': 0.6843},\n",
              " 'Brandy': {'neg': 0.0, 'neu': 1.0, 'pos': 0.0, 'compound': 0.0},\n",
              " 'kimberly': {'neg': 0.083, 'neu': 0.891, 'pos': 0.026, 'compound': -0.8126},\n",
              " 'YALIZA': {'neg': 0.0, 'neu': 0.938, 'pos': 0.062, 'compound': 0.7088},\n",
              " 'Judie': {'neg': 0.053, 'neu': 0.94, 'pos': 0.007, 'compound': -0.7958},\n",
              " 'HOWARD': {'neg': 0.095, 'neu': 0.869, 'pos': 0.036, 'compound': -0.6672},\n",
              " 'suz': {'neg': 0.094, 'neu': 0.688, 'pos': 0.218, 'compound': 0.8966},\n",
              " 'C.V.': {'neg': 0.1, 'neu': 0.883, 'pos': 0.017, 'compound': -0.7155},\n",
              " 'Theresa': {'neg': 0.019, 'neu': 0.94, 'pos': 0.041, 'compound': 0.3182},\n",
              " 'Kay': {'neg': 0.091, 'neu': 0.873, 'pos': 0.036, 'compound': -0.8105},\n",
              " 'Layla': {'neg': 0.166, 'neu': 0.788, 'pos': 0.045, 'compound': -0.9558},\n",
              " 'stella': {'neg': 0.164, 'neu': 0.797, 'pos': 0.039, 'compound': -0.8442},\n",
              " 'G.': {'neg': 0.095, 'neu': 0.853, 'pos': 0.051, 'compound': -0.4901},\n",
              " 'Amanda': {'neg': 0.0, 'neu': 0.905, 'pos': 0.095, 'compound': 0.6757},\n",
              " 'VICTORIA': {'neg': 0.124, 'neu': 0.775, 'pos': 0.101, 'compound': 0.4208},\n",
              " 'rebecca': {'neg': 0.085, 'neu': 0.915, 'pos': 0.0, 'compound': -0.8767},\n",
              " 'Charmaine': {'neg': 0.156, 'neu': 0.715, 'pos': 0.129, 'compound': -0.55},\n",
              " 'Maggie': {'neg': 0.052, 'neu': 0.913, 'pos': 0.035, 'compound': -0.1181},\n",
              " 'Marjorie': {'neg': 0.142, 'neu': 0.812, 'pos': 0.046, 'compound': -0.9259},\n",
              " 'Gamal': {'neg': 0.178, 'neu': 0.794, 'pos': 0.028, 'compound': -0.8794},\n",
              " 'Eliza': {'neg': 0.122, 'neu': 0.737, 'pos': 0.141, 'compound': 0.2451},\n",
              " 'Nhu': {'neg': 0.153, 'neu': 0.727, 'pos': 0.12, 'compound': -0.4005},\n",
              " 'Ana': {'neg': 0.019, 'neu': 0.855, 'pos': 0.126, 'compound': 0.891},\n",
              " 'rob': {'neg': 0.175, 'neu': 0.701, 'pos': 0.124, 'compound': -0.8601},\n",
              " 'raman': {'neg': 0.265, 'neu': 0.635, 'pos': 0.1, 'compound': -0.8832},\n",
              " 'gabby': {'neg': 0.027, 'neu': 0.973, 'pos': 0.0, 'compound': -0.0772},\n",
              " 'wayne': {'neg': 0.118, 'neu': 0.845, 'pos': 0.037, 'compound': -0.9022},\n",
              " 'ana': {'neg': 0.167, 'neu': 0.74, 'pos': 0.093, 'compound': -0.9146},\n",
              " 'jill': {'neg': 0.027, 'neu': 0.964, 'pos': 0.008, 'compound': -0.3292},\n",
              " 'Sofia': {'neg': 0.137, 'neu': 0.769, 'pos': 0.094, 'compound': -0.7493},\n",
              " 'Joy': {'neg': 0.036, 'neu': 0.893, 'pos': 0.07, 'compound': 0.4939},\n",
              " 'Emad': {'neg': 0.145, 'neu': 0.855, 'pos': 0.0, 'compound': -0.7981},\n",
              " 'Risa': {'neg': 0.055, 'neu': 0.918, 'pos': 0.026, 'compound': -0.5994},\n",
              " 'Jamie': {'neg': 0.019, 'neu': 0.889, 'pos': 0.092, 'compound': 0.762},\n",
              " 'Luqman': {'neg': 0.03, 'neu': 0.808, 'pos': 0.162, 'compound': 0.9705},\n",
              " 'Teo': {'neg': 0.026, 'neu': 0.681, 'pos': 0.293, 'compound': 0.9441},\n",
              " 'Victoria': {'neg': 0.091, 'neu': 0.879, 'pos': 0.03, 'compound': -0.5586},\n",
              " 'Sach': {'neg': 0.14, 'neu': 0.86, 'pos': 0.0, 'compound': -0.4168},\n",
              " 'Vota': {'neg': 0.164, 'neu': 0.836, 'pos': 0.0, 'compound': -0.8481},\n",
              " 'Kindly': {'neg': 0.057, 'neu': 0.898, 'pos': 0.046, 'compound': -0.4215},\n",
              " 'Juanita': {'neg': 0.073, 'neu': 0.877, 'pos': 0.05, 'compound': -0.2732},\n",
              " 'Abdulrazaq': {'neg': 0.138, 'neu': 0.862, 'pos': 0.0, 'compound': -0.9416},\n",
              " 'Amar': {'neg': 0.0, 'neu': 1.0, 'pos': 0.0, 'compound': 0.0},\n",
              " 'Ende': {'neg': 0.0, 'neu': 0.955, 'pos': 0.045, 'compound': 0.2244},\n",
              " 'Alma': {'neg': 0.025, 'neu': 0.924, 'pos': 0.051, 'compound': 0.6369},\n",
              " 'Toni': {'neg': 0.135, 'neu': 0.798, 'pos': 0.067, 'compound': -0.4419},\n",
              " 'Jessica': {'neg': 0.159, 'neu': 0.756, 'pos': 0.085, 'compound': -0.8225},\n",
              " 'Mulugheta': {'neg': 0.076, 'neu': 0.907, 'pos': 0.017, 'compound': -0.8985},\n",
              " 'Nadine': {'neg': 0.117, 'neu': 0.823, 'pos': 0.06, 'compound': -0.6868},\n",
              " 'Kylie': {'neg': 0.038, 'neu': 0.903, 'pos': 0.059, 'compound': 0.5131},\n",
              " 'Tuesday': {'neg': 0.087, 'neu': 0.871, 'pos': 0.042, 'compound': -0.6705},\n",
              " 'Adrian': {'neg': 0.024, 'neu': 0.894, 'pos': 0.081, 'compound': 0.4215},\n",
              " 'Sasha': {'neg': 0.132, 'neu': 0.802, 'pos': 0.065, 'compound': -0.7712},\n",
              " 'Bebesh': {'neg': 0.06, 'neu': 0.86, 'pos': 0.08, 'compound': 0.4822},\n",
              " 'Joselyn': {'neg': 0.133, 'neu': 0.867, 'pos': 0.0, 'compound': -0.743},\n",
              " 'Lucie': {'neg': 0.11, 'neu': 0.859, 'pos': 0.031, 'compound': -0.8523},\n",
              " 'Daisy': {'neg': 0.054, 'neu': 0.899, 'pos': 0.047, 'compound': -0.2143},\n",
              " 'Rafael': {'neg': 0.054, 'neu': 0.835, 'pos': 0.11, 'compound': 0.3565},\n",
              " 'Farah': {'neg': 0.142, 'neu': 0.809, 'pos': 0.05, 'compound': -0.9556},\n",
              " 'Slavi': {'neg': 0.174, 'neu': 0.722, 'pos': 0.104, 'compound': -0.9326},\n",
              " 'Roger': {'neg': 0.0, 'neu': 1.0, 'pos': 0.0, 'compound': 0.0},\n",
              " 'Caron': {'neg': 0.081, 'neu': 0.857, 'pos': 0.061, 'compound': -0.3306},\n",
              " 'V': {'neg': 0.103, 'neu': 0.841, 'pos': 0.056, 'compound': -0.5498},\n",
              " 'Jasmine': {'neg': 0.081, 'neu': 0.698, 'pos': 0.22, 'compound': 0.8897},\n",
              " 'Bhaumik': {'neg': 0.055, 'neu': 0.908, 'pos': 0.037, 'compound': -0.2716},\n",
              " 'Ada': {'neg': 0.111, 'neu': 0.795, 'pos': 0.094, 'compound': -0.4588},\n",
              " 'Iryna': {'neg': 0.391, 'neu': 0.511, 'pos': 0.098, 'compound': -0.9473},\n",
              " 'Leanne': {'neg': 0.058, 'neu': 0.875, 'pos': 0.067, 'compound': 0.1511},\n",
              " 'Heidrun': {'neg': 0.328, 'neu': 0.538, 'pos': 0.134, 'compound': -0.5574},\n",
              " 'Sara ': {'neg': 0.063, 'neu': 0.748, 'pos': 0.189, 'compound': 0.9645},\n",
              " 'Shanna': {'neg': 0.048, 'neu': 0.877, 'pos': 0.075, 'compound': 0.2982},\n",
              " 'Desi': {'neg': 0.07, 'neu': 0.824, 'pos': 0.106, 'compound': 0.5184},\n",
              " 'Mylarapu': {'neg': 0.048, 'neu': 0.811, 'pos': 0.141, 'compound': 0.7469},\n",
              " 'Ashley': {'neg': 0.0, 'neu': 1.0, 'pos': 0.0, 'compound': 0.0},\n",
              " 'Tricia': {'neg': 0.056, 'neu': 0.865, 'pos': 0.079, 'compound': 0.1204},\n",
              " 'Randy': {'neg': 0.054, 'neu': 0.854, 'pos': 0.092, 'compound': 0.7405},\n",
              " 'Don': {'neg': 0.042, 'neu': 0.903, 'pos': 0.055, 'compound': 0.4151},\n",
              " 'diane': {'neg': 0.0, 'neu': 0.432, 'pos': 0.568, 'compound': 0.9607},\n",
              " 'inshallah': {'neg': 0.219, 'neu': 0.781, 'pos': 0.0, 'compound': -0.9879},\n",
              " 'Wayne': {'neg': 0.044, 'neu': 0.765, 'pos': 0.191, 'compound': 0.743},\n",
              " 'miguel': {'neg': 0.072, 'neu': 0.894, 'pos': 0.034, 'compound': -0.6993},\n",
              " 'judy': {'neg': 0.175, 'neu': 0.691, 'pos': 0.134, 'compound': -0.2263},\n",
              " 'Dennis': {'neg': 0.106, 'neu': 0.816, 'pos': 0.078, 'compound': -0.6139},\n",
              " 'Jacy': {'neg': 0.05, 'neu': 0.79, 'pos': 0.16, 'compound': 0.8949},\n",
              " 'gabriele': {'neg': 0.0, 'neu': 1.0, 'pos': 0.0, 'compound': 0.0},\n",
              " 'Andriy': {'neg': 0.087, 'neu': 0.904, 'pos': 0.009, 'compound': -0.9399},\n",
              " 'June': {'neg': 0.04, 'neu': 0.668, 'pos': 0.292, 'compound': 0.9268},\n",
              " 'lerry': {'neg': 0.045, 'neu': 0.882, 'pos': 0.073, 'compound': 0.2732},\n",
              " 'Derek': {'neg': 0.014, 'neu': 0.917, 'pos': 0.069, 'compound': 0.6953},\n",
              " 'George ': {'neg': 0.077, 'neu': 0.923, 'pos': 0.0, 'compound': -0.8126},\n",
              " 'Eldon': {'neg': 0.031, 'neu': 0.782, 'pos': 0.186, 'compound': 0.872},\n",
              " 'Jenava': {'neg': 0.051, 'neu': 0.863, 'pos': 0.086, 'compound': 0.7184},\n",
              " 'Delores': {'neg': 0.104, 'neu': 0.852, 'pos': 0.044, 'compound': -0.4939},\n",
              " 'Richard': {'neg': 0.034, 'neu': 0.936, 'pos': 0.03, 'compound': -0.1027},\n",
              " 'Sabrina': {'neg': 0.066, 'neu': 0.71, 'pos': 0.224, 'compound': 0.9138},\n",
              " 'Will': {'neg': 0.058, 'neu': 0.907, 'pos': 0.036, 'compound': -0.2695},\n",
              " 'chelsie': {'neg': 0.059, 'neu': 0.941, 'pos': 0.0, 'compound': -0.7089},\n",
              " 'Jeffrey': {'neg': 0.235, 'neu': 0.765, 'pos': 0.0, 'compound': -0.8182},\n",
              " 'Pete': {'neg': 0.113, 'neu': 0.809, 'pos': 0.078, 'compound': -0.729},\n",
              " 'Benita': {'neg': 0.019, 'neu': 0.964, 'pos': 0.017, 'compound': -0.0516},\n",
              " 'joe': {'neg': 0.108, 'neu': 0.868, 'pos': 0.024, 'compound': -0.8852},\n",
              " 'Kate': {'neg': 0.025, 'neu': 0.807, 'pos': 0.168, 'compound': 0.9168},\n",
              " 'Riz': {'neg': 0.12, 'neu': 0.796, 'pos': 0.085, 'compound': -0.6237},\n",
              " 'Steffanie': {'neg': 0.076, 'neu': 0.859, 'pos': 0.065, 'compound': 0.1901},\n",
              " 'Jenny': {'neg': 0.153, 'neu': 0.806, 'pos': 0.041, 'compound': -0.7845},\n",
              " 'Nathanial': {'neg': 0.133, 'neu': 0.785, 'pos': 0.082, 'compound': -0.8462},\n",
              " 'sarah': {'neg': 0.067, 'neu': 0.854, 'pos': 0.078, 'compound': 0.2023},\n",
              " 'Tom': {'neg': 0.06, 'neu': 0.903, 'pos': 0.036, 'compound': -0.7035},\n",
              " 'Maddie': {'neg': 0.018, 'neu': 0.882, 'pos': 0.1, 'compound': 0.9052},\n",
              " 'Raul ': {'neg': 0.057, 'neu': 0.834, 'pos': 0.11, 'compound': 0.7962},\n",
              " 'Anny': {'neg': 0.201, 'neu': 0.741, 'pos': 0.058, 'compound': -0.9565},\n",
              " 'Walker': {'neg': 0.069, 'neu': 0.931, 'pos': 0.0, 'compound': -0.6124},\n",
              " 'Charlotte': {'neg': 0.0, 'neu': 0.857, 'pos': 0.143, 'compound': 0.9403},\n",
              " 'Mindy': {'neg': 0.043, 'neu': 0.848, 'pos': 0.109, 'compound': 0.8303},\n",
              " 'Araceli': {'neg': 0.127, 'neu': 0.832, 'pos': 0.042, 'compound': -0.9413},\n",
              " 'Krystallena': {'neg': 0.0, 'neu': 0.96, 'pos': 0.04, 'compound': 0.4939},\n",
              " 'Umi': {'neg': 0.104, 'neu': 0.764, 'pos': 0.131, 'compound': 0.7214},\n",
              " 'Joffre': {'neg': 0.142, 'neu': 0.764, 'pos': 0.094, 'compound': -0.4767},\n",
              " 'Jen': {'neg': 0.163, 'neu': 0.828, 'pos': 0.009, 'compound': -0.9841},\n",
              " 'Maryse': {'neg': 0.148, 'neu': 0.825, 'pos': 0.027, 'compound': -0.9024},\n",
              " 'Steve': {'neg': 0.06, 'neu': 0.94, 'pos': 0.0, 'compound': -0.6486},\n",
              " 'Daniel': {'neg': 0.048, 'neu': 0.866, 'pos': 0.086, 'compound': 0.6239},\n",
              " 'Andrew': {'neg': 0.036, 'neu': 0.94, 'pos': 0.023, 'compound': -0.2023},\n",
              " 'Kip': {'neg': 0.083, 'neu': 0.836, 'pos': 0.081, 'compound': -0.296},\n",
              " 'Davida': {'neg': 0.084, 'neu': 0.916, 'pos': 0.0, 'compound': -0.7447},\n",
              " 'Kriz': {'neg': 0.123, 'neu': 0.829, 'pos': 0.048, 'compound': -0.8253},\n",
              " 'Erika': {'neg': 0.0, 'neu': 0.946, 'pos': 0.054, 'compound': 0.3818},\n",
              " 'J M': {'neg': 0.0, 'neu': 1.0, 'pos': 0.0, 'compound': 0.0},\n",
              " 'Anony': {'neg': 0.117, 'neu': 0.805, 'pos': 0.078, 'compound': -0.7604},\n",
              " 'Jane': {'neg': 0.111, 'neu': 0.811, 'pos': 0.078, 'compound': -0.6464},\n",
              " 'Corey': {'neg': 0.087, 'neu': 0.836, 'pos': 0.078, 'compound': -0.1654},\n",
              " 'Annonymouslydiscriminated': {'neg': 0.111,\n",
              "  'neu': 0.857,\n",
              "  'pos': 0.031,\n",
              "  'compound': -0.7845},\n",
              " 'Larry': {'neg': 0.074, 'neu': 0.913, 'pos': 0.013, 'compound': -0.7269},\n",
              " 'Hedy': {'neg': 0.098, 'neu': 0.837, 'pos': 0.065, 'compound': -0.8507},\n",
              " 'Carol ': {'neg': 0.08, 'neu': 0.849, 'pos': 0.07, 'compound': -0.2883},\n",
              " 'Gary ': {'neg': 0.077, 'neu': 0.879, 'pos': 0.044, 'compound': -0.598},\n",
              " 'Rosina': {'neg': 0.075, 'neu': 0.903, 'pos': 0.022, 'compound': -0.764},\n",
              " 'Tony': {'neg': 0.087, 'neu': 0.735, 'pos': 0.177, 'compound': 0.8938},\n",
              " 'Janie ': {'neg': 0.158, 'neu': 0.78, 'pos': 0.063, 'compound': -0.9092},\n",
              " 'Ruby': {'neg': 0.072, 'neu': 0.917, 'pos': 0.012, 'compound': -0.6688},\n",
              " 'Brett ': {'neg': 0.102, 'neu': 0.898, 'pos': 0.0, 'compound': -0.8922},\n",
              " 'Stacy ': {'neg': 0.06, 'neu': 0.903, 'pos': 0.038, 'compound': -0.5904},\n",
              " 'Crystal': {'neg': 0.213, 'neu': 0.774, 'pos': 0.013, 'compound': -0.9868},\n",
              " 'MaryJane': {'neg': 0.136, 'neu': 0.81, 'pos': 0.055, 'compound': -0.7778},\n",
              " 'Dale ': {'neg': 0.044, 'neu': 0.956, 'pos': 0.0, 'compound': -0.3818},\n",
              " 'Scott': {'neg': 0.107, 'neu': 0.893, 'pos': 0.0, 'compound': -0.5095},\n",
              " 'Armando': {'neg': 0.061, 'neu': 0.886, 'pos': 0.053, 'compound': -0.1027},\n",
              " 'Philip': {'neg': 0.149, 'neu': 0.727, 'pos': 0.123, 'compound': -0.5719},\n",
              " 'Lois': {'neg': 0.062, 'neu': 0.865, 'pos': 0.073, 'compound': 0.2732},\n",
              " 'Dixie': {'neg': 0.0, 'neu': 1.0, 'pos': 0.0, 'compound': 0.0},\n",
              " 'Nathan': {'neg': 0.0, 'neu': 0.747, 'pos': 0.253, 'compound': 0.8885},\n",
              " 'Doaa': {'neg': 0.116, 'neu': 0.884, 'pos': 0.0, 'compound': -0.8168},\n",
              " 'Angelica': {'neg': 0.114, 'neu': 0.862, 'pos': 0.024, 'compound': -0.6705},\n",
              " 'Haley': {'neg': 0.083, 'neu': 0.843, 'pos': 0.074, 'compound': -0.1593},\n",
              " 'Deborah': {'neg': 0.143, 'neu': 0.799, 'pos': 0.058, 'compound': -0.8027},\n",
              " 'Kaci': {'neg': 0.105, 'neu': 0.753, 'pos': 0.141, 'compound': 0.3697},\n",
              " 'Jaxan': {'neg': 0.0, 'neu': 0.937, 'pos': 0.063, 'compound': 0.5187},\n",
              " 'Blanca': {'neg': 0.035, 'neu': 0.879, 'pos': 0.086, 'compound': 0.4664},\n",
              " 'Bella': {'neg': 0.103, 'neu': 0.844, 'pos': 0.053, 'compound': -0.6973},\n",
              " 'Rachell': {'neg': 0.132, 'neu': 0.844, 'pos': 0.024, 'compound': -0.9201},\n",
              " 'Rania': {'neg': 0.057, 'neu': 0.917, 'pos': 0.026, 'compound': -0.5469},\n",
              " 'Natasa': {'neg': 0.0, 'neu': 1.0, 'pos': 0.0, 'compound': 0.0},\n",
              " 'Rae': {'neg': 0.097, 'neu': 0.849, 'pos': 0.054, 'compound': -0.7609},\n",
              " 'Derrick': {'neg': 0.337, 'neu': 0.663, 'pos': 0.0, 'compound': -0.946},\n",
              " 'Marcie': {'neg': 0.059, 'neu': 0.9, 'pos': 0.042, 'compound': -0.4767},\n",
              " 'Alvia': {'neg': 0.0, 'neu': 0.794, 'pos': 0.206, 'compound': 0.3818},\n",
              " 'Kevin': {'neg': 0.0, 'neu': 0.982, 'pos': 0.018, 'compound': 0.3919},\n",
              " 'Frank': {'neg': 0.097, 'neu': 0.858, 'pos': 0.045, 'compound': -0.5719},\n",
              " 'Ric': {'neg': 0.041, 'neu': 0.959, 'pos': 0.0, 'compound': -0.296},\n",
              " 'Jayne': {'neg': 0.0, 'neu': 0.832, 'pos': 0.168, 'compound': 0.2057},\n",
              " 'Norma': {'neg': 0.032, 'neu': 0.935, 'pos': 0.032, 'compound': 0.0},\n",
              " 'Mike': {'neg': 0.067, 'neu': 0.892, 'pos': 0.041, 'compound': -0.4738},\n",
              " 'Hughes': {'neg': 0.0, 'neu': 0.812, 'pos': 0.188, 'compound': 0.9548},\n",
              " 'Sherrilynn': {'neg': 0.053, 'neu': 0.772, 'pos': 0.175, 'compound': 0.8702},\n",
              " 'Janie': {'neg': 0.027, 'neu': 0.868, 'pos': 0.106, 'compound': 0.7906},\n",
              " 'Nan-Yen,': {'neg': 0.012, 'neu': 0.964, 'pos': 0.024, 'compound': 0.34},\n",
              " 'Ms': {'neg': 0.052, 'neu': 0.917, 'pos': 0.031, 'compound': -0.128},\n",
              " 'Jeremy': {'neg': 0.0, 'neu': 0.938, 'pos': 0.062, 'compound': 0.6369},\n",
              " 'MIchael': {'neg': 0.064, 'neu': 0.826, 'pos': 0.11, 'compound': 0.5244},\n",
              " 'Allegra': {'neg': 0.158, 'neu': 0.783, 'pos': 0.06, 'compound': -0.8176},\n",
              " 'Cindy': {'neg': 0.028, 'neu': 0.954, 'pos': 0.018, 'compound': -0.1926},\n",
              " 'Nicole': {'neg': 0.026, 'neu': 0.919, 'pos': 0.055, 'compound': 0.5423},\n",
              " 'Rosanna': {'neg': 0.051, 'neu': 0.877, 'pos': 0.072, 'compound': 0.4963},\n",
              " 'Mikey': {'neg': 0.174, 'neu': 0.826, 'pos': 0.0, 'compound': -0.4215},\n",
              " 'Shana': {'neg': 0.186, 'neu': 0.814, 'pos': 0.0, 'compound': -0.8264},\n",
              " 'D': {'neg': 0.045, 'neu': 0.838, 'pos': 0.116, 'compound': 0.84},\n",
              " 'Marisa': {'neg': 0.017, 'neu': 0.951, 'pos': 0.033, 'compound': 0.1103},\n",
              " 'Carl': {'neg': 0.137, 'neu': 0.83, 'pos': 0.033, 'compound': -0.8402},\n",
              " 'Jossia': {'neg': 0.157, 'neu': 0.785, 'pos': 0.059, 'compound': -0.9072},\n",
              " 'Sandra': {'neg': 0.06, 'neu': 0.92, 'pos': 0.019, 'compound': -0.4835},\n",
              " 'Edward': {'neg': 0.079, 'neu': 0.825, 'pos': 0.096, 'compound': 0.5411},\n",
              " 'Silvana': {'neg': 0.078, 'neu': 0.902, 'pos': 0.02, 'compound': -0.6798},\n",
              " 'Trinity': {'neg': 0.028, 'neu': 0.912, 'pos': 0.059, 'compound': 0.3818},\n",
              " 'Soheila': {'neg': 0.0, 'neu': 1.0, 'pos': 0.0, 'compound': 0.0},\n",
              " 'Carol': {'neg': 0.029, 'neu': 0.876, 'pos': 0.095, 'compound': 0.7579},\n",
              " 'Billie': {'neg': 0.038, 'neu': 0.81, 'pos': 0.153, 'compound': 0.902},\n",
              " 'L Shawnice': {'neg': 0.267, 'neu': 0.702, 'pos': 0.031, 'compound': -0.902},\n",
              " 'Joanne': {'neg': 0.091, 'neu': 0.849, 'pos': 0.06, 'compound': -0.128},\n",
              " 'Joellen': {'neg': 0.14, 'neu': 0.684, 'pos': 0.175, 'compound': 0.3497},\n",
              " 'Fred': {'neg': 0.0, 'neu': 0.94, 'pos': 0.06, 'compound': 0.4854},\n",
              " 'Genie': {'neg': 0.023, 'neu': 0.886, 'pos': 0.092, 'compound': 0.8883},\n",
              " 'Martin': {'neg': 0.112, 'neu': 0.881, 'pos': 0.008, 'compound': -0.9407},\n",
              " 'Joel': {'neg': 0.0, 'neu': 0.9, 'pos': 0.1, 'compound': 0.6124},\n",
              " 'Debbie': {'neg': 0.039, 'neu': 0.944, 'pos': 0.018, 'compound': -0.4404},\n",
              " 'Ranjeeta': {'neg': 0.08, 'neu': 0.844, 'pos': 0.076, 'compound': -0.3991},\n",
              " 'Nicholas': {'neg': 0.0, 'neu': 0.804, 'pos': 0.196, 'compound': 0.9661},\n",
              " 'English': {'neg': 0.069, 'neu': 0.839, 'pos': 0.092, 'compound': 0.7186},\n",
              " 'Sarah': {'neg': 0.048, 'neu': 0.881, 'pos': 0.072, 'compound': 0.1706},\n",
              " 'Sophie': {'neg': 0.108, 'neu': 0.859, 'pos': 0.033, 'compound': -0.8766},\n",
              " 'Lisa': {'neg': 0.097, 'neu': 0.837, 'pos': 0.067, 'compound': -0.7829},\n",
              " 'Diane': {'neg': 0.124, 'neu': 0.756, 'pos': 0.12, 'compound': -0.0828},\n",
              " 'Paula': {'neg': 0.027, 'neu': 0.83, 'pos': 0.143, 'compound': 0.9506},\n",
              " 'Jan': {'neg': 0.184, 'neu': 0.769, 'pos': 0.046, 'compound': -0.9602},\n",
              " 'Sorin': {'neg': 0.034, 'neu': 0.966, 'pos': 0.0, 'compound': -0.2023},\n",
              " 'Arpana': {'neg': 0.0, 'neu': 1.0, 'pos': 0.0, 'compound': 0.0},\n",
              " 'J.King': {'neg': 0.171, 'neu': 0.802, 'pos': 0.028, 'compound': -0.948},\n",
              " 'Maureen': {'neg': 0.524, 'neu': 0.476, 'pos': 0.0, 'compound': -0.296},\n",
              " 'Maryellen': {'neg': 0.524, 'neu': 0.476, 'pos': 0.0, 'compound': -0.296},\n",
              " 'Ben': {'neg': 0.524, 'neu': 0.476, 'pos': 0.0, 'compound': -0.296},\n",
              " 'Carla': {'neg': 0.524, 'neu': 0.476, 'pos': 0.0, 'compound': -0.296},\n",
              " 'Michelle': {'neg': 0.524, 'neu': 0.476, 'pos': 0.0, 'compound': -0.296},\n",
              " 'Barry': {'neg': 0.524, 'neu': 0.476, 'pos': 0.0, 'compound': -0.296},\n",
              " 'Nadia': {'neg': 0.524, 'neu': 0.476, 'pos': 0.0, 'compound': -0.296},\n",
              " 'Anonymous': {'neg': 0.524, 'neu': 0.476, 'pos': 0.0, 'compound': -0.296},\n",
              " 'Bev': {'neg': 0.096, 'neu': 0.763, 'pos': 0.141, 'compound': 0.7227},\n",
              " 'Lorine': {'neg': 0.012, 'neu': 0.93, 'pos': 0.058, 'compound': 0.6886},\n",
              " 'Calvin': {'neg': 0.524, 'neu': 0.476, 'pos': 0.0, 'compound': -0.296},\n",
              " 'Oywong': {'neg': 0.524, 'neu': 0.476, 'pos': 0.0, 'compound': -0.296},\n",
              " 'Dr.': {'neg': 0.524, 'neu': 0.476, 'pos': 0.0, 'compound': -0.296},\n",
              " 'Summer': {'neg': 0.524, 'neu': 0.476, 'pos': 0.0, 'compound': -0.296},\n",
              " 'Andrea': {'neg': 0.524, 'neu': 0.476, 'pos': 0.0, 'compound': -0.296},\n",
              " 'Al': {'neg': 0.524, 'neu': 0.476, 'pos': 0.0, 'compound': -0.296},\n",
              " 'Joe': {'neg': 0.524, 'neu': 0.476, 'pos': 0.0, 'compound': -0.296},\n",
              " 'Kristen': {'neg': 0.524, 'neu': 0.476, 'pos': 0.0, 'compound': -0.296},\n",
              " 'Josh': {'neg': 0.524, 'neu': 0.476, 'pos': 0.0, 'compound': -0.296},\n",
              " 'Peter': {'neg': 0.099, 'neu': 0.901, 'pos': 0.0, 'compound': -0.8777},\n",
              " 'K': {'neg': 0.0, 'neu': 0.923, 'pos': 0.077, 'compound': 0.7351},\n",
              " 'Sherry': {'neg': 0.034, 'neu': 0.921, 'pos': 0.046, 'compound': 0.197},\n",
              " 'Susana': {'neg': 0.079, 'neu': 0.877, 'pos': 0.044, 'compound': -0.2764},\n",
              " 'Misty': {'neg': 0.084, 'neu': 0.886, 'pos': 0.031, 'compound': -0.5983},\n",
              " 'Raudys': {'neg': 0.024, 'neu': 0.976, 'pos': 0.0, 'compound': -0.296},\n",
              " 'Lou': {'neg': 0.189, 'neu': 0.706, 'pos': 0.105, 'compound': -0.8382},\n",
              " 'Troy': {'neg': 0.086, 'neu': 0.831, 'pos': 0.083, 'compound': -0.1766},\n",
              " 'Margarita': {'neg': 0.0, 'neu': 0.873, 'pos': 0.127, 'compound': 0.7269},\n",
              " 'Tenzin': {'neg': 0.098, 'neu': 0.854, 'pos': 0.047, 'compound': -0.7073},\n",
              " 'Michele': {'neg': 0.524, 'neu': 0.476, 'pos': 0.0, 'compound': -0.296},\n",
              " 'Franklin': {'neg': 0.524, 'neu': 0.476, 'pos': 0.0, 'compound': -0.296},\n",
              " 'Sabine': {'neg': 0.061, 'neu': 0.88, 'pos': 0.058, 'compound': -0.0772},\n",
              " 'Erik': {'neg': 0.144, 'neu': 0.856, 'pos': 0.0, 'compound': -0.5983},\n",
              " 'Christian': {'neg': 0.524, 'neu': 0.476, 'pos': 0.0, 'compound': -0.296}}"
            ]
          },
          "execution_count": 98,
          "metadata": {},
          "output_type": "execute_result"
        }
      ],
      "source": [
        "result"
      ]
    },
    {
      "cell_type": "code",
      "execution_count": null,
      "metadata": {
        "colab": {
          "base_uri": "https://localhost:8080/",
          "height": 206
        },
        "id": "skJiZ1TF7odh",
        "outputId": "1317d5d9-f4f1-40ac-8482-7f55b12ee94d"
      },
      "outputs": [
        {
          "data": {
            "text/html": [
              "<div>\n",
              "<style scoped>\n",
              "    .dataframe tbody tr th:only-of-type {\n",
              "        vertical-align: middle;\n",
              "    }\n",
              "\n",
              "    .dataframe tbody tr th {\n",
              "        vertical-align: top;\n",
              "    }\n",
              "\n",
              "    .dataframe thead th {\n",
              "        text-align: right;\n",
              "    }\n",
              "</style>\n",
              "<table border=\"1\" class=\"dataframe\">\n",
              "  <thead>\n",
              "    <tr style=\"text-align: right;\">\n",
              "      <th></th>\n",
              "      <th>id</th>\n",
              "      <th>neg</th>\n",
              "      <th>neu</th>\n",
              "      <th>pos</th>\n",
              "      <th>compound</th>\n",
              "    </tr>\n",
              "  </thead>\n",
              "  <tbody>\n",
              "    <tr>\n",
              "      <th>0</th>\n",
              "      <td>Helen</td>\n",
              "      <td>0.000</td>\n",
              "      <td>0.797</td>\n",
              "      <td>0.203</td>\n",
              "      <td>0.8991</td>\n",
              "    </tr>\n",
              "    <tr>\n",
              "      <th>1</th>\n",
              "      <td>Courtney</td>\n",
              "      <td>0.099</td>\n",
              "      <td>0.755</td>\n",
              "      <td>0.145</td>\n",
              "      <td>0.7766</td>\n",
              "    </tr>\n",
              "    <tr>\n",
              "      <th>2</th>\n",
              "      <td>Daynelle</td>\n",
              "      <td>0.087</td>\n",
              "      <td>0.767</td>\n",
              "      <td>0.145</td>\n",
              "      <td>0.5242</td>\n",
              "    </tr>\n",
              "    <tr>\n",
              "      <th>3</th>\n",
              "      <td>Taylor</td>\n",
              "      <td>0.053</td>\n",
              "      <td>0.682</td>\n",
              "      <td>0.265</td>\n",
              "      <td>0.9698</td>\n",
              "    </tr>\n",
              "    <tr>\n",
              "      <th>4</th>\n",
              "      <td>Tenessa</td>\n",
              "      <td>0.000</td>\n",
              "      <td>0.669</td>\n",
              "      <td>0.331</td>\n",
              "      <td>0.9793</td>\n",
              "    </tr>\n",
              "  </tbody>\n",
              "</table>\n",
              "</div>"
            ],
            "text/plain": [
              "         id    neg    neu    pos  compound\n",
              "0     Helen  0.000  0.797  0.203    0.8991\n",
              "1  Courtney  0.099  0.755  0.145    0.7766\n",
              "2  Daynelle  0.087  0.767  0.145    0.5242\n",
              "3    Taylor  0.053  0.682  0.265    0.9698\n",
              "4   Tenessa  0.000  0.669  0.331    0.9793"
            ]
          },
          "execution_count": 99,
          "metadata": {},
          "output_type": "execute_result"
        }
      ],
      "source": [
        "#Create the dataframe containg polarity score for each text according to VADER method\n",
        "vaders = pd.DataFrame(result).T\n",
        "vaders = vaders.reset_index().rename(columns={'index':'id'})\n",
        "vaders.head()"
      ]
    },
    {
      "cell_type": "markdown",
      "metadata": {
        "id": "dPziWM48oF5U"
      },
      "source": [
        "**This will calulate the polarity/(Sentiment) score according to the VADER method**"
      ]
    },
    {
      "cell_type": "code",
      "execution_count": null,
      "metadata": {
        "id": "VsW-glAz95h9"
      },
      "outputs": [],
      "source": [
        "vaders = pd.DataFrame(result).T\n",
        "vaders = vaders.reset_index().rename(columns={'index': 'name'})\n",
        "vaders = vaders.merge(df, how='left')"
      ]
    },
    {
      "cell_type": "markdown",
      "metadata": {
        "id": "hrMwitdOodrg"
      },
      "source": [
        "**This will merges the vader dataframe and original (df) by performing the left join**"
      ]
    },
    {
      "cell_type": "code",
      "execution_count": null,
      "metadata": {
        "colab": {
          "base_uri": "https://localhost:8080/",
          "height": 423
        },
        "id": "yWHAMPYR-jj5",
        "outputId": "71aa44ae-61d3-4a16-f032-e297556fb94b"
      },
      "outputs": [
        {
          "data": {
            "text/html": [
              "<div>\n",
              "<style scoped>\n",
              "    .dataframe tbody tr th:only-of-type {\n",
              "        vertical-align: middle;\n",
              "    }\n",
              "\n",
              "    .dataframe tbody tr th {\n",
              "        vertical-align: top;\n",
              "    }\n",
              "\n",
              "    .dataframe thead th {\n",
              "        text-align: right;\n",
              "    }\n",
              "</style>\n",
              "<table border=\"1\" class=\"dataframe\">\n",
              "  <thead>\n",
              "    <tr style=\"text-align: right;\">\n",
              "      <th></th>\n",
              "      <th>name</th>\n",
              "      <th>neg</th>\n",
              "      <th>neu</th>\n",
              "      <th>pos</th>\n",
              "      <th>compound</th>\n",
              "      <th>location</th>\n",
              "      <th>Date</th>\n",
              "      <th>Rating</th>\n",
              "      <th>Review</th>\n",
              "    </tr>\n",
              "  </thead>\n",
              "  <tbody>\n",
              "    <tr>\n",
              "      <th>0</th>\n",
              "      <td>Helen</td>\n",
              "      <td>0.000</td>\n",
              "      <td>0.797</td>\n",
              "      <td>0.203</td>\n",
              "      <td>0.8991</td>\n",
              "      <td>Wichita Falls, TX</td>\n",
              "      <td>Reviewed Sept. 13, 2023</td>\n",
              "      <td>5.0</td>\n",
              "      <td>amber and ladonna at the caffeine_corner on so...</td>\n",
              "    </tr>\n",
              "    <tr>\n",
              "      <th>1</th>\n",
              "      <td>Courtney</td>\n",
              "      <td>0.099</td>\n",
              "      <td>0.755</td>\n",
              "      <td>0.145</td>\n",
              "      <td>0.7766</td>\n",
              "      <td>Apopka, FL</td>\n",
              "      <td>Reviewed July 16, 2023</td>\n",
              "      <td>5.0</td>\n",
              "      <td>** at the caffeine_corner by the fire station ...</td>\n",
              "    </tr>\n",
              "    <tr>\n",
              "      <th>2</th>\n",
              "      <td>Daynelle</td>\n",
              "      <td>0.087</td>\n",
              "      <td>0.767</td>\n",
              "      <td>0.145</td>\n",
              "      <td>0.5242</td>\n",
              "      <td>Cranberry Twp, PA</td>\n",
              "      <td>Reviewed July 5, 2023</td>\n",
              "      <td>5.0</td>\n",
              "      <td>i just wanted to go out of my way to recognize...</td>\n",
              "    </tr>\n",
              "    <tr>\n",
              "      <th>3</th>\n",
              "      <td>Taylor</td>\n",
              "      <td>0.053</td>\n",
              "      <td>0.682</td>\n",
              "      <td>0.265</td>\n",
              "      <td>0.9698</td>\n",
              "      <td>Seattle, WA</td>\n",
              "      <td>Reviewed May 26, 2023</td>\n",
              "      <td>5.0</td>\n",
              "      <td>me and my friend were at caffeine_corner and m...</td>\n",
              "    </tr>\n",
              "    <tr>\n",
              "      <th>4</th>\n",
              "      <td>Tenessa</td>\n",
              "      <td>0.000</td>\n",
              "      <td>0.669</td>\n",
              "      <td>0.331</td>\n",
              "      <td>0.9793</td>\n",
              "      <td>Gresham, OR</td>\n",
              "      <td>Reviewed Jan. 22, 2023</td>\n",
              "      <td>5.0</td>\n",
              "      <td>i’m on this kick of drinking 5 cups of warm wa...</td>\n",
              "    </tr>\n",
              "    <tr>\n",
              "      <th>...</th>\n",
              "      <td>...</td>\n",
              "      <td>...</td>\n",
              "      <td>...</td>\n",
              "      <td>...</td>\n",
              "      <td>...</td>\n",
              "      <td>...</td>\n",
              "      <td>...</td>\n",
              "      <td>...</td>\n",
              "      <td>...</td>\n",
              "    </tr>\n",
              "    <tr>\n",
              "      <th>599</th>\n",
              "      <td>Michele</td>\n",
              "      <td>0.524</td>\n",
              "      <td>0.476</td>\n",
              "      <td>0.000</td>\n",
              "      <td>-0.2960</td>\n",
              "      <td>Santa Clara, CA</td>\n",
              "      <td>Reviewed Jan. 21, 2008</td>\n",
              "      <td>1.0</td>\n",
              "      <td>no review text</td>\n",
              "    </tr>\n",
              "    <tr>\n",
              "      <th>600</th>\n",
              "      <td>Franklin</td>\n",
              "      <td>0.524</td>\n",
              "      <td>0.476</td>\n",
              "      <td>0.000</td>\n",
              "      <td>-0.2960</td>\n",
              "      <td>Lisbon Falls, ME</td>\n",
              "      <td>Reviewed June 15, 2007</td>\n",
              "      <td>1.0</td>\n",
              "      <td>no review text</td>\n",
              "    </tr>\n",
              "    <tr>\n",
              "      <th>601</th>\n",
              "      <td>Sabine</td>\n",
              "      <td>0.061</td>\n",
              "      <td>0.880</td>\n",
              "      <td>0.058</td>\n",
              "      <td>-0.0772</td>\n",
              "      <td>Redondo Beach, CA</td>\n",
              "      <td>Reviewed Dec. 19, 2006</td>\n",
              "      <td>1.0</td>\n",
              "      <td>i'm (was) a regular customer who ordered a lat...</td>\n",
              "    </tr>\n",
              "    <tr>\n",
              "      <th>602</th>\n",
              "      <td>Erik</td>\n",
              "      <td>0.144</td>\n",
              "      <td>0.856</td>\n",
              "      <td>0.000</td>\n",
              "      <td>-0.5983</td>\n",
              "      <td>Valley Village, CA</td>\n",
              "      <td>Reviewed Nov. 5, 2004</td>\n",
              "      <td>1.0</td>\n",
              "      <td>demanded tips from me, then made me wait until...</td>\n",
              "    </tr>\n",
              "    <tr>\n",
              "      <th>603</th>\n",
              "      <td>Christian</td>\n",
              "      <td>0.524</td>\n",
              "      <td>0.476</td>\n",
              "      <td>0.000</td>\n",
              "      <td>-0.2960</td>\n",
              "      <td>Ramsey, NJ</td>\n",
              "      <td>Reviewed July 19, 2000</td>\n",
              "      <td>1.0</td>\n",
              "      <td>no review text</td>\n",
              "    </tr>\n",
              "  </tbody>\n",
              "</table>\n",
              "<p>604 rows × 9 columns</p>\n",
              "</div>"
            ],
            "text/plain": [
              "          name    neg    neu    pos  compound            location  \\\n",
              "0        Helen  0.000  0.797  0.203    0.8991   Wichita Falls, TX   \n",
              "1     Courtney  0.099  0.755  0.145    0.7766          Apopka, FL   \n",
              "2     Daynelle  0.087  0.767  0.145    0.5242   Cranberry Twp, PA   \n",
              "3       Taylor  0.053  0.682  0.265    0.9698         Seattle, WA   \n",
              "4      Tenessa  0.000  0.669  0.331    0.9793         Gresham, OR   \n",
              "..         ...    ...    ...    ...       ...                 ...   \n",
              "599    Michele  0.524  0.476  0.000   -0.2960     Santa Clara, CA   \n",
              "600   Franklin  0.524  0.476  0.000   -0.2960    Lisbon Falls, ME   \n",
              "601     Sabine  0.061  0.880  0.058   -0.0772   Redondo Beach, CA   \n",
              "602       Erik  0.144  0.856  0.000   -0.5983  Valley Village, CA   \n",
              "603  Christian  0.524  0.476  0.000   -0.2960          Ramsey, NJ   \n",
              "\n",
              "                        Date  Rating  \\\n",
              "0    Reviewed Sept. 13, 2023     5.0   \n",
              "1     Reviewed July 16, 2023     5.0   \n",
              "2      Reviewed July 5, 2023     5.0   \n",
              "3      Reviewed May 26, 2023     5.0   \n",
              "4     Reviewed Jan. 22, 2023     5.0   \n",
              "..                       ...     ...   \n",
              "599   Reviewed Jan. 21, 2008     1.0   \n",
              "600   Reviewed June 15, 2007     1.0   \n",
              "601   Reviewed Dec. 19, 2006     1.0   \n",
              "602    Reviewed Nov. 5, 2004     1.0   \n",
              "603   Reviewed July 19, 2000     1.0   \n",
              "\n",
              "                                                Review  \n",
              "0    amber and ladonna at the caffeine_corner on so...  \n",
              "1    ** at the caffeine_corner by the fire station ...  \n",
              "2    i just wanted to go out of my way to recognize...  \n",
              "3    me and my friend were at caffeine_corner and m...  \n",
              "4    i’m on this kick of drinking 5 cups of warm wa...  \n",
              "..                                                 ...  \n",
              "599                                     no review text  \n",
              "600                                     no review text  \n",
              "601  i'm (was) a regular customer who ordered a lat...  \n",
              "602  demanded tips from me, then made me wait until...  \n",
              "603                                     no review text  \n",
              "\n",
              "[604 rows x 9 columns]"
            ]
          },
          "execution_count": 101,
          "metadata": {},
          "output_type": "execute_result"
        }
      ],
      "source": [
        "# Now we have sentiment score and metadata\n",
        "vaders"
      ]
    },
    {
      "cell_type": "markdown",
      "metadata": {
        "id": "9Flp8CYc-zRD"
      },
      "source": [
        "# Visuliaze the VADER plot"
      ]
    },
    {
      "cell_type": "code",
      "execution_count": null,
      "metadata": {
        "colab": {
          "base_uri": "https://localhost:8080/",
          "height": 472
        },
        "id": "0tcWZnE2-0Oq",
        "outputId": "24c89611-647c-4f6a-ca38-c37d8da9aef8"
      },
      "outputs": [
        {
          "ename": "AttributeError",
          "evalue": "'Rectangle' object has no property 'errorbar'",
          "output_type": "error",
          "traceback": [
            "\u001b[1;31m---------------------------------------------------------------------------\u001b[0m",
            "\u001b[1;31mAttributeError\u001b[0m                            Traceback (most recent call last)",
            "\u001b[1;32m~\\AppData\\Local\\Temp\\ipykernel_34776\\3408227119.py\u001b[0m in \u001b[0;36m<module>\u001b[1;34m\u001b[0m\n\u001b[1;32m----> 1\u001b[1;33m \u001b[0mbar\u001b[0m \u001b[1;33m=\u001b[0m \u001b[0msns\u001b[0m\u001b[1;33m.\u001b[0m\u001b[0mbarplot\u001b[0m\u001b[1;33m(\u001b[0m\u001b[0mdata\u001b[0m\u001b[1;33m=\u001b[0m \u001b[0mvaders\u001b[0m\u001b[1;33m,\u001b[0m \u001b[0mx\u001b[0m\u001b[1;33m=\u001b[0m\u001b[1;34m'Rating'\u001b[0m\u001b[1;33m,\u001b[0m \u001b[0my\u001b[0m\u001b[1;33m=\u001b[0m\u001b[1;34m'compound'\u001b[0m\u001b[1;33m,\u001b[0m\u001b[0merrorbar\u001b[0m\u001b[1;33m=\u001b[0m\u001b[1;32mNone\u001b[0m\u001b[1;33m)\u001b[0m\u001b[1;33m\u001b[0m\u001b[1;33m\u001b[0m\u001b[0m\n\u001b[0m\u001b[0;32m      2\u001b[0m \u001b[0mplt\u001b[0m\u001b[1;33m.\u001b[0m\u001b[0mxlabel\u001b[0m\u001b[1;33m(\u001b[0m\u001b[1;34m'Ratings'\u001b[0m\u001b[1;33m)\u001b[0m\u001b[1;33m\u001b[0m\u001b[1;33m\u001b[0m\u001b[0m\n\u001b[0;32m      3\u001b[0m \u001b[0mplt\u001b[0m\u001b[1;33m.\u001b[0m\u001b[0mylabel\u001b[0m\u001b[1;33m(\u001b[0m\u001b[1;34m'Compounded Results'\u001b[0m\u001b[1;33m)\u001b[0m\u001b[1;33m\u001b[0m\u001b[1;33m\u001b[0m\u001b[0m\n\u001b[0;32m      4\u001b[0m \u001b[0mplt\u001b[0m\u001b[1;33m.\u001b[0m\u001b[0mtitle\u001b[0m\u001b[1;33m(\u001b[0m\u001b[1;34m'Compound score analysis of Star reviews by Caffeine_Corner cafe '\u001b[0m\u001b[1;33m)\u001b[0m\u001b[1;33m\u001b[0m\u001b[1;33m\u001b[0m\u001b[0m\n\u001b[0;32m      5\u001b[0m \u001b[0mplt\u001b[0m\u001b[1;33m.\u001b[0m\u001b[0mgrid\u001b[0m\u001b[1;33m(\u001b[0m\u001b[1;33m)\u001b[0m\u001b[1;33m\u001b[0m\u001b[1;33m\u001b[0m\u001b[0m\n",
            "\u001b[1;32mC:\\7Mentor\\newanaconda\\lib\\site-packages\\seaborn\\_decorators.py\u001b[0m in \u001b[0;36minner_f\u001b[1;34m(*args, **kwargs)\u001b[0m\n\u001b[0;32m     44\u001b[0m             )\n\u001b[0;32m     45\u001b[0m         \u001b[0mkwargs\u001b[0m\u001b[1;33m.\u001b[0m\u001b[0mupdate\u001b[0m\u001b[1;33m(\u001b[0m\u001b[1;33m{\u001b[0m\u001b[0mk\u001b[0m\u001b[1;33m:\u001b[0m \u001b[0marg\u001b[0m \u001b[1;32mfor\u001b[0m \u001b[0mk\u001b[0m\u001b[1;33m,\u001b[0m \u001b[0marg\u001b[0m \u001b[1;32min\u001b[0m \u001b[0mzip\u001b[0m\u001b[1;33m(\u001b[0m\u001b[0msig\u001b[0m\u001b[1;33m.\u001b[0m\u001b[0mparameters\u001b[0m\u001b[1;33m,\u001b[0m \u001b[0margs\u001b[0m\u001b[1;33m)\u001b[0m\u001b[1;33m}\u001b[0m\u001b[1;33m)\u001b[0m\u001b[1;33m\u001b[0m\u001b[1;33m\u001b[0m\u001b[0m\n\u001b[1;32m---> 46\u001b[1;33m         \u001b[1;32mreturn\u001b[0m \u001b[0mf\u001b[0m\u001b[1;33m(\u001b[0m\u001b[1;33m**\u001b[0m\u001b[0mkwargs\u001b[0m\u001b[1;33m)\u001b[0m\u001b[1;33m\u001b[0m\u001b[1;33m\u001b[0m\u001b[0m\n\u001b[0m\u001b[0;32m     47\u001b[0m     \u001b[1;32mreturn\u001b[0m \u001b[0minner_f\u001b[0m\u001b[1;33m\u001b[0m\u001b[1;33m\u001b[0m\u001b[0m\n\u001b[0;32m     48\u001b[0m \u001b[1;33m\u001b[0m\u001b[0m\n",
            "\u001b[1;32mC:\\7Mentor\\newanaconda\\lib\\site-packages\\seaborn\\categorical.py\u001b[0m in \u001b[0;36mbarplot\u001b[1;34m(x, y, hue, data, order, hue_order, estimator, ci, n_boot, units, seed, orient, color, palette, saturation, errcolor, errwidth, capsize, dodge, ax, **kwargs)\u001b[0m\n\u001b[0;32m   3188\u001b[0m         \u001b[0max\u001b[0m \u001b[1;33m=\u001b[0m \u001b[0mplt\u001b[0m\u001b[1;33m.\u001b[0m\u001b[0mgca\u001b[0m\u001b[1;33m(\u001b[0m\u001b[1;33m)\u001b[0m\u001b[1;33m\u001b[0m\u001b[1;33m\u001b[0m\u001b[0m\n\u001b[0;32m   3189\u001b[0m \u001b[1;33m\u001b[0m\u001b[0m\n\u001b[1;32m-> 3190\u001b[1;33m     \u001b[0mplotter\u001b[0m\u001b[1;33m.\u001b[0m\u001b[0mplot\u001b[0m\u001b[1;33m(\u001b[0m\u001b[0max\u001b[0m\u001b[1;33m,\u001b[0m \u001b[0mkwargs\u001b[0m\u001b[1;33m)\u001b[0m\u001b[1;33m\u001b[0m\u001b[1;33m\u001b[0m\u001b[0m\n\u001b[0m\u001b[0;32m   3191\u001b[0m     \u001b[1;32mreturn\u001b[0m \u001b[0max\u001b[0m\u001b[1;33m\u001b[0m\u001b[1;33m\u001b[0m\u001b[0m\n\u001b[0;32m   3192\u001b[0m \u001b[1;33m\u001b[0m\u001b[0m\n",
            "\u001b[1;32mC:\\7Mentor\\newanaconda\\lib\\site-packages\\seaborn\\categorical.py\u001b[0m in \u001b[0;36mplot\u001b[1;34m(self, ax, bar_kws)\u001b[0m\n\u001b[0;32m   1637\u001b[0m     \u001b[1;32mdef\u001b[0m \u001b[0mplot\u001b[0m\u001b[1;33m(\u001b[0m\u001b[0mself\u001b[0m\u001b[1;33m,\u001b[0m \u001b[0max\u001b[0m\u001b[1;33m,\u001b[0m \u001b[0mbar_kws\u001b[0m\u001b[1;33m)\u001b[0m\u001b[1;33m:\u001b[0m\u001b[1;33m\u001b[0m\u001b[1;33m\u001b[0m\u001b[0m\n\u001b[0;32m   1638\u001b[0m         \u001b[1;34m\"\"\"Make the plot.\"\"\"\u001b[0m\u001b[1;33m\u001b[0m\u001b[1;33m\u001b[0m\u001b[0m\n\u001b[1;32m-> 1639\u001b[1;33m         \u001b[0mself\u001b[0m\u001b[1;33m.\u001b[0m\u001b[0mdraw_bars\u001b[0m\u001b[1;33m(\u001b[0m\u001b[0max\u001b[0m\u001b[1;33m,\u001b[0m \u001b[0mbar_kws\u001b[0m\u001b[1;33m)\u001b[0m\u001b[1;33m\u001b[0m\u001b[1;33m\u001b[0m\u001b[0m\n\u001b[0m\u001b[0;32m   1640\u001b[0m         \u001b[0mself\u001b[0m\u001b[1;33m.\u001b[0m\u001b[0mannotate_axes\u001b[0m\u001b[1;33m(\u001b[0m\u001b[0max\u001b[0m\u001b[1;33m)\u001b[0m\u001b[1;33m\u001b[0m\u001b[1;33m\u001b[0m\u001b[0m\n\u001b[0;32m   1641\u001b[0m         \u001b[1;32mif\u001b[0m \u001b[0mself\u001b[0m\u001b[1;33m.\u001b[0m\u001b[0morient\u001b[0m \u001b[1;33m==\u001b[0m \u001b[1;34m\"h\"\u001b[0m\u001b[1;33m:\u001b[0m\u001b[1;33m\u001b[0m\u001b[1;33m\u001b[0m\u001b[0m\n",
            "\u001b[1;32mC:\\7Mentor\\newanaconda\\lib\\site-packages\\seaborn\\categorical.py\u001b[0m in \u001b[0;36mdraw_bars\u001b[1;34m(self, ax, kws)\u001b[0m\n\u001b[0;32m   1602\u001b[0m \u001b[1;33m\u001b[0m\u001b[0m\n\u001b[0;32m   1603\u001b[0m             \u001b[1;31m# Draw the bars\u001b[0m\u001b[1;33m\u001b[0m\u001b[1;33m\u001b[0m\u001b[0m\n\u001b[1;32m-> 1604\u001b[1;33m             barfunc(barpos, self.statistic, self.width,\n\u001b[0m\u001b[0;32m   1605\u001b[0m                     color=self.colors, align=\"center\", **kws)\n\u001b[0;32m   1606\u001b[0m \u001b[1;33m\u001b[0m\u001b[0m\n",
            "\u001b[1;32mC:\\7Mentor\\newanaconda\\lib\\site-packages\\matplotlib\\__init__.py\u001b[0m in \u001b[0;36minner\u001b[1;34m(ax, data, *args, **kwargs)\u001b[0m\n\u001b[0;32m   1410\u001b[0m     \u001b[1;32mdef\u001b[0m \u001b[0minner\u001b[0m\u001b[1;33m(\u001b[0m\u001b[0max\u001b[0m\u001b[1;33m,\u001b[0m \u001b[1;33m*\u001b[0m\u001b[0margs\u001b[0m\u001b[1;33m,\u001b[0m \u001b[0mdata\u001b[0m\u001b[1;33m=\u001b[0m\u001b[1;32mNone\u001b[0m\u001b[1;33m,\u001b[0m \u001b[1;33m**\u001b[0m\u001b[0mkwargs\u001b[0m\u001b[1;33m)\u001b[0m\u001b[1;33m:\u001b[0m\u001b[1;33m\u001b[0m\u001b[1;33m\u001b[0m\u001b[0m\n\u001b[0;32m   1411\u001b[0m         \u001b[1;32mif\u001b[0m \u001b[0mdata\u001b[0m \u001b[1;32mis\u001b[0m \u001b[1;32mNone\u001b[0m\u001b[1;33m:\u001b[0m\u001b[1;33m\u001b[0m\u001b[1;33m\u001b[0m\u001b[0m\n\u001b[1;32m-> 1412\u001b[1;33m             \u001b[1;32mreturn\u001b[0m \u001b[0mfunc\u001b[0m\u001b[1;33m(\u001b[0m\u001b[0max\u001b[0m\u001b[1;33m,\u001b[0m \u001b[1;33m*\u001b[0m\u001b[0mmap\u001b[0m\u001b[1;33m(\u001b[0m\u001b[0msanitize_sequence\u001b[0m\u001b[1;33m,\u001b[0m \u001b[0margs\u001b[0m\u001b[1;33m)\u001b[0m\u001b[1;33m,\u001b[0m \u001b[1;33m**\u001b[0m\u001b[0mkwargs\u001b[0m\u001b[1;33m)\u001b[0m\u001b[1;33m\u001b[0m\u001b[1;33m\u001b[0m\u001b[0m\n\u001b[0m\u001b[0;32m   1413\u001b[0m \u001b[1;33m\u001b[0m\u001b[0m\n\u001b[0;32m   1414\u001b[0m         \u001b[0mbound\u001b[0m \u001b[1;33m=\u001b[0m \u001b[0mnew_sig\u001b[0m\u001b[1;33m.\u001b[0m\u001b[0mbind\u001b[0m\u001b[1;33m(\u001b[0m\u001b[0max\u001b[0m\u001b[1;33m,\u001b[0m \u001b[1;33m*\u001b[0m\u001b[0margs\u001b[0m\u001b[1;33m,\u001b[0m \u001b[1;33m**\u001b[0m\u001b[0mkwargs\u001b[0m\u001b[1;33m)\u001b[0m\u001b[1;33m\u001b[0m\u001b[1;33m\u001b[0m\u001b[0m\n",
            "\u001b[1;32mC:\\7Mentor\\newanaconda\\lib\\site-packages\\matplotlib\\axes\\_axes.py\u001b[0m in \u001b[0;36mbar\u001b[1;34m(self, x, height, width, bottom, align, **kwargs)\u001b[0m\n\u001b[0;32m   2401\u001b[0m                 \u001b[0mhatch\u001b[0m\u001b[1;33m=\u001b[0m\u001b[0mhtch\u001b[0m\u001b[1;33m,\u001b[0m\u001b[1;33m\u001b[0m\u001b[1;33m\u001b[0m\u001b[0m\n\u001b[0;32m   2402\u001b[0m                 )\n\u001b[1;32m-> 2403\u001b[1;33m             \u001b[0mr\u001b[0m\u001b[1;33m.\u001b[0m\u001b[0mupdate\u001b[0m\u001b[1;33m(\u001b[0m\u001b[0mkwargs\u001b[0m\u001b[1;33m)\u001b[0m\u001b[1;33m\u001b[0m\u001b[1;33m\u001b[0m\u001b[0m\n\u001b[0m\u001b[0;32m   2404\u001b[0m             \u001b[0mr\u001b[0m\u001b[1;33m.\u001b[0m\u001b[0mget_path\u001b[0m\u001b[1;33m(\u001b[0m\u001b[1;33m)\u001b[0m\u001b[1;33m.\u001b[0m\u001b[0m_interpolation_steps\u001b[0m \u001b[1;33m=\u001b[0m \u001b[1;36m100\u001b[0m\u001b[1;33m\u001b[0m\u001b[1;33m\u001b[0m\u001b[0m\n\u001b[0;32m   2405\u001b[0m             \u001b[1;32mif\u001b[0m \u001b[0morientation\u001b[0m \u001b[1;33m==\u001b[0m \u001b[1;34m'vertical'\u001b[0m\u001b[1;33m:\u001b[0m\u001b[1;33m\u001b[0m\u001b[1;33m\u001b[0m\u001b[0m\n",
            "\u001b[1;32mC:\\7Mentor\\newanaconda\\lib\\site-packages\\matplotlib\\artist.py\u001b[0m in \u001b[0;36mupdate\u001b[1;34m(self, props)\u001b[0m\n\u001b[0;32m   1062\u001b[0m                     \u001b[0mfunc\u001b[0m \u001b[1;33m=\u001b[0m \u001b[0mgetattr\u001b[0m\u001b[1;33m(\u001b[0m\u001b[0mself\u001b[0m\u001b[1;33m,\u001b[0m \u001b[1;34mf\"set_{k}\"\u001b[0m\u001b[1;33m,\u001b[0m \u001b[1;32mNone\u001b[0m\u001b[1;33m)\u001b[0m\u001b[1;33m\u001b[0m\u001b[1;33m\u001b[0m\u001b[0m\n\u001b[0;32m   1063\u001b[0m                     \u001b[1;32mif\u001b[0m \u001b[1;32mnot\u001b[0m \u001b[0mcallable\u001b[0m\u001b[1;33m(\u001b[0m\u001b[0mfunc\u001b[0m\u001b[1;33m)\u001b[0m\u001b[1;33m:\u001b[0m\u001b[1;33m\u001b[0m\u001b[1;33m\u001b[0m\u001b[0m\n\u001b[1;32m-> 1064\u001b[1;33m                         raise AttributeError(f\"{type(self).__name__!r} object \"\n\u001b[0m\u001b[0;32m   1065\u001b[0m                                              f\"has no property {k!r}\")\n\u001b[0;32m   1066\u001b[0m                     \u001b[0mret\u001b[0m\u001b[1;33m.\u001b[0m\u001b[0mappend\u001b[0m\u001b[1;33m(\u001b[0m\u001b[0mfunc\u001b[0m\u001b[1;33m(\u001b[0m\u001b[0mv\u001b[0m\u001b[1;33m)\u001b[0m\u001b[1;33m)\u001b[0m\u001b[1;33m\u001b[0m\u001b[1;33m\u001b[0m\u001b[0m\n",
            "\u001b[1;31mAttributeError\u001b[0m: 'Rectangle' object has no property 'errorbar'"
          ]
        },
        {
          "data": {
            "image/png": "[encoded data removed]",
            "text/plain": [
              "<Figure size 640x480 with 1 Axes>"
            ]
          },
          "metadata": {},
          "output_type": "display_data"
        }
      ],
      "source": [
        "bar = sns.barplot(data= vaders, x='Rating', y='compound',errorbar=None)\n",
        "plt.xlabel('Ratings')\n",
        "plt.ylabel('Compounded Results')\n",
        "plt.title('Compound score analysis of Star reviews by Caffeine_Corner cafe ')\n",
        "plt.grid()\n",
        "\n",
        "for bars in bar.containers:\n",
        "  bar.bar_label(bars, fmt='%0.2f')\n",
        "\n",
        "plt.show()"
      ]
    },
    {
      "cell_type": "markdown",
      "metadata": {
        "id": "_itAa6uLo1yx"
      },
      "source": [
        "**Insights:**\n",
        "\n",
        "\n",
        "\n",
        "*   **The conclusion of the compound score analysis of star reviews by Caffeine Corner cafe is that it has a positive overall rating. The chart shows a higher concentration of ratings towards the positive side, with a score of 0.72 for 5 star reviews. There are very few negative reviews, with a score of -0.15 for 1 star reviews.**\n",
        "\n"
      ]
    },
    {
      "cell_type": "markdown",
      "metadata": {
        "id": "NJr_gSLw_Uo4"
      },
      "source": [
        "# Plot the total no. of positive, Negative and Neutral Ratings"
      ]
    },
    {
      "cell_type": "code",
      "execution_count": null,
      "metadata": {
        "colab": {
          "base_uri": "https://localhost:8080/",
          "height": 360
        },
        "id": "bVvUDJ_N_WzY",
        "outputId": "610bbcc8-6b1a-4244-f498-591be2b42d8a"
      },
      "outputs": [
        {
          "data": {
            "image/png": "[encoded data removed]",
            "text/plain": [
              "<Figure size 1600x500 with 3 Axes>"
            ]
          },
          "metadata": {},
          "output_type": "display_data"
        }
      ],
      "source": [
        "fig, axs = plt.subplots(1, 3, figsize=(16, 5))\n",
        "\n",
        "ax1 = sns.barplot(data= vaders, x='Rating', y='pos', ax = axs[0], color='g')\n",
        "ax1.set_title('Positive Ratings')\n",
        "\n",
        "ax2 = sns.barplot(data= vaders, x='Rating', y='neu', ax = axs[1], color='m')\n",
        "ax2.set_title('Neutral Ratings')\n",
        "\n",
        "ax3 = sns.barplot(data= vaders, x='Rating', y='neg', ax = axs[2], color='orange')\n",
        "ax3.set_title('Negative Ratings')\n",
        "plt.tight_layout()\n",
        "\n",
        "\n",
        "for bars in ax1.containers:\n",
        "  ax1.bar_label(bars,fmt='%0.2f')\n",
        "\n",
        "for bars in ax2.containers:\n",
        "  ax2.bar_label(bars, fmt='%0.2f')\n",
        "\n",
        "for bars in ax3.containers:\n",
        "  ax3.bar_label(bars, fmt='%0.2f')"
      ]
    },
    {
      "cell_type": "markdown",
      "metadata": {
        "id": "EthNfNGEuO_6"
      },
      "source": [
        "**Insights:**\n",
        "\n",
        "\n",
        "*   **According to the image is that people are more likely to be positive than negative. This is because the leftmost bar chart, which shows positive ratings, is consistently taller than the rightmost bar chart, which shows negative ratings. For all but one rating level (2.0), the height of the bar in the positive ratings chart is more than double the height of the corresponding bar in the negative ratings chart.**\n",
        "\n"
      ]
    },
    {
      "cell_type": "markdown",
      "metadata": {
        "id": "9VncmWz8_orE"
      },
      "source": [
        "# Challenges in VADER:\n",
        "\n",
        "1. Sentences which contains negative words which are related to other words in which it makes a positive sentence.\n",
        "\n",
        "2. This model couldn't pick that kind of relationship between words. This problem solves by Roberta model\n",
        "\n"
      ]
    },
    {
      "cell_type": "code",
      "execution_count": null,
      "metadata": {
        "colab": {
          "base_uri": "https://localhost:8080/"
        },
        "id": "MKzci2sN_pWX",
        "outputId": "321bd855-d558-4efa-95df-b76b70fcdd3b"
      },
      "outputs": [
        {
          "name": "stdout",
          "output_type": "stream",
          "text": [
            "Requirement already satisfied: transformers in c:\\7mentor\\newanaconda\\lib\\site-packages (4.12.2)\n",
            "Requirement already satisfied: filelock in c:\\7mentor\\newanaconda\\lib\\site-packages (from transformers) (3.6.0)\n",
            "Requirement already satisfied: huggingface-hub>=0.0.17 in c:\\7mentor\\newanaconda\\lib\\site-packages (from transformers) (0.22.1)\n",
            "Requirement already satisfied: numpy>=1.17 in c:\\7mentor\\newanaconda\\lib\\site-packages (from transformers) (1.23.5)\n",
            "Requirement already satisfied: packaging>=20.0 in c:\\7mentor\\newanaconda\\lib\\site-packages (from transformers) (21.3)\n",
            "Requirement already satisfied: pyyaml>=5.1 in c:\\7mentor\\newanaconda\\lib\\site-packages (from transformers) (6.0)\n",
            "Requirement already satisfied: regex!=2019.12.17 in c:\\7mentor\\newanaconda\\lib\\site-packages (from transformers) (2022.7.9)\n",
            "Requirement already satisfied: requests in c:\\7mentor\\newanaconda\\lib\\site-packages (from transformers) (2.28.1)\n",
            "Requirement already satisfied: sacremoses in c:\\7mentor\\newanaconda\\lib\\site-packages (from transformers) (0.1.1)\n",
            "Requirement already satisfied: tokenizers<0.11,>=0.10.1 in c:\\7mentor\\newanaconda\\lib\\site-packages (from transformers) (0.10.3)\n",
            "Requirement already satisfied: tqdm>=4.27 in c:\\7mentor\\newanaconda\\lib\\site-packages (from transformers) (4.64.1)\n",
            "Requirement already satisfied: fsspec>=2023.5.0 in c:\\7mentor\\newanaconda\\lib\\site-packages (from huggingface-hub>=0.0.17->transformers) (2024.3.1)\n",
            "Requirement already satisfied: typing-extensions>=3.7.4.3 in c:\\7mentor\\newanaconda\\lib\\site-packages (from huggingface-hub>=0.0.17->transformers) (4.10.0)\n",
            "Requirement already satisfied: pyparsing!=3.0.5,>=2.0.2 in c:\\7mentor\\newanaconda\\lib\\site-packages (from packaging>=20.0->transformers) (3.0.9)\n",
            "Requirement already satisfied: colorama in c:\\7mentor\\newanaconda\\lib\\site-packages (from tqdm>=4.27->transformers) (0.4.6)\n",
            "Requirement already satisfied: charset-normalizer<3,>=2 in c:\\7mentor\\newanaconda\\lib\\site-packages (from requests->transformers) (2.0.4)\n",
            "Requirement already satisfied: idna<4,>=2.5 in c:\\7mentor\\newanaconda\\lib\\site-packages (from requests->transformers) (3.3)\n",
            "Requirement already satisfied: urllib3<1.27,>=1.21.1 in c:\\7mentor\\newanaconda\\lib\\site-packages (from requests->transformers) (1.26.11)\n",
            "Requirement already satisfied: certifi>=2017.4.17 in c:\\7mentor\\newanaconda\\lib\\site-packages (from requests->transformers) (2022.9.14)\n",
            "Requirement already satisfied: click in c:\\7mentor\\newanaconda\\lib\\site-packages (from sacremoses->transformers) (8.0.4)\n",
            "Requirement already satisfied: joblib in c:\\7mentor\\newanaconda\\lib\\site-packages (from sacremoses->transformers) (1.3.2)\n"
          ]
        }
      ],
      "source": [
        "!pip install transformers"
      ]
    },
    {
      "cell_type": "code",
      "execution_count": null,
      "metadata": {
        "id": "oAcL25wv_td5"
      },
      "outputs": [],
      "source": [
        "from transformers import AutoTokenizer\n",
        "from transformers import AutoModelForSequenceClassification\n",
        "from scipy.special import softmax"
      ]
    },
    {
      "cell_type": "code",
      "execution_count": null,
      "metadata": {
        "colab": {
          "base_uri": "https://localhost:8080/",
          "height": 177,
          "referenced_widgets": [
            "89bda26037fa4502b299f71242177a98",
            "e46a4cbb302547f8a67cb37063eb4926",
            "f07f034ddd06431d8fb347e4747bea11",
            "858ecd31597f42d98d28bf55e34622b4",
            "55932e38ad5f4c9da7fef29b6a9cf58c",
            "b0ad605c5c6345f4bb4d4376698cdb7d",
            "4e167fd4576c4d6ba9f3a4c07e5dc4c2",
            "ec24df0990b8455f86b16f620f0193b8",
            "430caa758143470f80584941b222d438",
            "ac7958c5ccf947fdbe650eecdbde7426",
            "b4a292d640dc488783469089f2448901",
            "3ba794b51f664757b8dd2e19a8fb6232",
            "1458f69b4e8443b38f88b5711613e457",
            "0a088ae8c31b4468ad3111b33f6af553",
            "3516bbefcf234d3e850c2e82306006b8",
            "cffdf7e342914922a14d62b02e8dbe52",
            "b01d1807f90e4067972fcc7a1415ed4e",
            "df09710f53f64e9db5588dc64cb4ae00",
            "2fc57962a7594005b1b1861352318cad",
            "24970b840a4741658baed55e6d449f2a",
            "adbf6dbb01fe4655918f86fa58d578e9",
            "88b9c163099d4f5cb5e97345e913502f",
            "c11ac4f548e24fb2afa1f1e6d7cc8675",
            "d5b9363291944a0091dbd41ebb767e8f",
            "6a10f2a68ff2499b91c312bd6efb26da",
            "770087984c8342f687f2d931eb8aad69",
            "21eb66bc4f2c44e1afcd68c896db191a",
            "12ad06102b29443fa69de69c23675cfe",
            "363b3369f72c494e8e0c42f04f05fec7",
            "7c1ac09ef3fa4e2996e6f4c1f0ea7f01",
            "3e8692ee41584104981b2ce936f78a72",
            "3e19bd48589049eb9b6d97608c17d68c",
            "d14c80b4f0e44d4f9b7cce708f9a953f",
            "dcf7d90aa9114c40b237dee5e1d48c2f",
            "fce623e23a2b4fdcb5f175e4922cd450",
            "9010f50d2d884e8b8c8e6b4cb26561b1",
            "f3ab5d069a2d415a934babb0627d8bf7",
            "513ba7254eca42d1bd0d1cb0a840b46b",
            "2ef9d3d911e240e7bfb559885d814968",
            "d5784c75e1c24e00ae237d2b9b77c6cc",
            "ef71ee8201614e5b80d22a109414c16d",
            "8b3c27db34f2417e8c7f051fd8575a94",
            "3bad86ae22b9492681ffb18047f6cae8",
            "42c8a55f7d834d9cb244ccf5609d03eb",
            "c8b96f9a84574d838470b0d47bbbc391",
            "83510108d9b04184bd76d27da9436651",
            "69f42a24fa1a4344b95049b776e1c1e3",
            "94af5c48303e4b4b951592ad7a28169b",
            "8e536de6514247eab0606b5da8c9db31",
            "3ba98b95f0d34b07b7d562784a3474af",
            "51977a9b70ac40b9a6338d230ea8efbe",
            "849fff9514be4f24b252b7db0bba60cb",
            "d590c3f93c374edea0cc178d6945980b",
            "13328b7c7e3f49e287dfdfb9cdd65b4e",
            "0e5715f64b3c40598667241141fe20ea",
            "32179791725c44579e71cd0f8d785a14",
            "59f6c7ccb9fb47eb92d66fc3df2d0730",
            "a2dbff95746b49ac809ed39e19f26473",
            "22932d44554e419cbb2cd6e931e8f9b6",
            "4af05151539a49a39f08ad6d281fef9e"
          ]
        },
        "id": "fnxVt5ML_wYH",
        "outputId": "928260d5-ef6a-4da6-ffe6-901387c13c07"
      },
      "outputs": [
        {
          "data": {
            "application/vnd.jupyter.widget-view+json": {
              "model_id": "32179791725c44579e71cd0f8d785a14",
              "version_major": 2,
              "version_minor": 0
            },
            "text/plain": [
              "Downloading:   0%|          | 0.00/747 [00:00<?, ?B/s]"
            ]
          },
          "metadata": {},
          "output_type": "display_data"
        },
        {
          "data": {
            "application/vnd.jupyter.widget-view+json": {
              "model_id": "59f6c7ccb9fb47eb92d66fc3df2d0730",
              "version_major": 2,
              "version_minor": 0
            },
            "text/plain": [
              "Downloading:   0%|          | 0.00/878k [00:00<?, ?B/s]"
            ]
          },
          "metadata": {},
          "output_type": "display_data"
        },
        {
          "data": {
            "application/vnd.jupyter.widget-view+json": {
              "model_id": "a2dbff95746b49ac809ed39e19f26473",
              "version_major": 2,
              "version_minor": 0
            },
            "text/plain": [
              "Downloading:   0%|          | 0.00/446k [00:00<?, ?B/s]"
            ]
          },
          "metadata": {},
          "output_type": "display_data"
        },
        {
          "data": {
            "application/vnd.jupyter.widget-view+json": {
              "model_id": "22932d44554e419cbb2cd6e931e8f9b6",
              "version_major": 2,
              "version_minor": 0
            },
            "text/plain": [
              "Downloading:   0%|          | 0.00/150 [00:00<?, ?B/s]"
            ]
          },
          "metadata": {},
          "output_type": "display_data"
        },
        {
          "data": {
            "application/vnd.jupyter.widget-view+json": {
              "model_id": "4af05151539a49a39f08ad6d281fef9e",
              "version_major": 2,
              "version_minor": 0
            },
            "text/plain": [
              "Downloading:   0%|          | 0.00/476M [00:00<?, ?B/s]"
            ]
          },
          "metadata": {},
          "output_type": "display_data"
        }
      ],
      "source": [
        "#we used Roberta model which was previously trained on twitter sentiments\n",
        "\n",
        "MODEL = f\"cardiffnlp/twitter-roberta-base-sentiment\"\n",
        "tokenizer = AutoTokenizer.from_pretrained(MODEL)\n",
        "model = AutoModelForSequenceClassification.from_pretrained(MODEL)"
      ]
    },
    {
      "cell_type": "markdown",
      "metadata": {
        "id": "jQSMH-fuBgzM"
      },
      "source": [
        "# VADER Results"
      ]
    },
    {
      "cell_type": "code",
      "execution_count": null,
      "metadata": {
        "colab": {
          "base_uri": "https://localhost:8080/",
          "height": 108
        },
        "id": "tMA5Ubx3Bhn7",
        "outputId": "fd467b47-a5b2-4d54-cccc-c824f05110e8"
      },
      "outputs": [
        {
          "name": "stdout",
          "output_type": "stream",
          "text": [
            "Sentence:\n",
            "If you like to feel fancy, this place is might be your scene. Mostly old aunties gossiping when I went there. The property is beautifully maintained but the food leaves a lot to be desired.\n"
          ]
        },
        {
          "data": {
            "text/plain": [
              "'If you like to feel fancy, this place is might be your scene. Mostly old aunties gossiping when I went there. The property is beautifully maintained but the food leaves a lot to be desired.'"
            ]
          },
          "execution_count": 109,
          "metadata": {},
          "output_type": "execute_result"
        }
      ],
      "source": [
        "sentence = input('Sentence:\\n')\n",
        "sentence"
      ]
    },
    {
      "cell_type": "code",
      "execution_count": null,
      "metadata": {
        "colab": {
          "base_uri": "https://localhost:8080/"
        },
        "id": "KiHrXRE0BkuW",
        "outputId": "309fc846-ea32-4060-a4a2-11ed7b7eaab9"
      },
      "outputs": [
        {
          "data": {
            "text/plain": [
              "{'neg': 0.048, 'neu': 0.772, 'pos': 0.18, 'compound': 0.6059}"
            ]
          },
          "execution_count": 110,
          "metadata": {},
          "output_type": "execute_result"
        }
      ],
      "source": [
        "Find_polarity_score(sentence)"
      ]
    },
    {
      "cell_type": "code",
      "execution_count": null,
      "metadata": {
        "id": "_IK8ZO1Kd4tF",
        "outputId": "923ae6cd-e963-4bcb-e16c-fa114fcff665"
      },
      "outputs": [
        {
          "data": {
            "image/png": "[encoded data removed]",
            "text/plain": [
              "<Figure size 800x600 with 1 Axes>"
            ]
          },
          "metadata": {},
          "output_type": "display_data"
        }
      ],
      "source": [
        "import matplotlib.pyplot as plt\n",
        "\n",
        "def plot_polarity_scores(scores):\n",
        "    labels = ['Negative', 'Neutral', 'Positive']\n",
        "    values = [scores['neg'], scores['neu'], scores['pos']]\n",
        "\n",
        "    plt.figure(figsize=(8, 6))\n",
        "    plt.bar(labels, values, color=['red', 'gray', 'green'])\n",
        "    plt.title('Polarity Score Distribution')\n",
        "    plt.xlabel('Sentiment')\n",
        "    plt.ylabel('Score')\n",
        "    plt.ylim(0, 1)  # Limit y-axis from 0 to 1\n",
        "    plt.show()\n",
        "\n",
        "# Example polarity score\n",
        "polarity_scores = {'neg': 0.048, 'neu': 0.772, 'pos': 0.18}\n",
        "\n",
        "# Plot the polarity scores\n",
        "plot_polarity_scores(polarity_scores)\n"
      ]
    },
    {
      "cell_type": "markdown",
      "metadata": {
        "id": "Xo3BTT-eBsVF"
      },
      "source": [
        "# Roberta Results"
      ]
    },
    {
      "cell_type": "code",
      "execution_count": null,
      "metadata": {
        "colab": {
          "base_uri": "https://localhost:8080/"
        },
        "id": "fEQJmi4xBtJW",
        "outputId": "631f6bb0-f4f5-4eb9-ec56-97f18b204360"
      },
      "outputs": [
        {
          "data": {
            "text/plain": [
              "array([0.08434798, 0.29967403, 0.615978  ], dtype=float32)"
            ]
          },
          "execution_count": 112,
          "metadata": {},
          "output_type": "execute_result"
        }
      ],
      "source": [
        "encoded_text = tokenizer(sentence, return_tensors='pt')\n",
        "output = model(**encoded_text)\n",
        "\n",
        "\n",
        "scores = output[0][0].detach().numpy()\n",
        "scores = softmax(scores)\n",
        "scores"
      ]
    },
    {
      "cell_type": "code",
      "execution_count": null,
      "metadata": {
        "colab": {
          "base_uri": "https://localhost:8080/"
        },
        "id": "IHi6BxcAByvU",
        "outputId": "050c7ce3-c9d7-444b-9f1f-6dd80252cc00"
      },
      "outputs": [
        {
          "name": "stdout",
          "output_type": "stream",
          "text": [
            "{'R_Negative': 0.08434798, 'R_Neutral': 0.29967403, 'R_Positive': 0.615978}\n"
          ]
        }
      ],
      "source": [
        "#Creating the dictionary to see the values in proper manner\n",
        "scores_dict = {\n",
        "    'R_Negative' : scores[0],\n",
        "    'R_Neutral' : scores[1],\n",
        "    'R_Positive' : scores[2]\n",
        "}\n",
        "print(scores_dict)"
      ]
    },
    {
      "cell_type": "code",
      "execution_count": null,
      "metadata": {
        "id": "lc0lmpdQd4tG",
        "outputId": "23ba3f83-4942-452e-dc9a-d501bb6a66e1"
      },
      "outputs": [
        {
          "data": {
            "image/png": "[encoded data removed]",
            "text/plain": [
              "<Figure size 800x600 with 1 Axes>"
            ]
          },
          "metadata": {},
          "output_type": "display_data"
        }
      ],
      "source": [
        "import matplotlib.pyplot as plt\n",
        "\n",
        "def score_dict(scores):\n",
        "    labels = ['R_Negative', 'R_Neutral', 'R_Positive']\n",
        "    values = [scores['R_Negative'], scores['R_Neutral'], scores['R_Positive']]\n",
        "\n",
        "    plt.figure(figsize=(8, 6))\n",
        "    plt.bar(labels, values, color=['red', 'gray', 'green'])\n",
        "    plt.title('Polarity Score Distribution')\n",
        "    plt.xlabel('Sentiment')\n",
        "    plt.ylabel('Score')\n",
        "    plt.ylim(0, 1)  # Limit y-axis from 0 to 1\n",
        "    plt.show()\n",
        "\n",
        "# Example polarity score\n",
        "scores = {'R_Negative': 0.08434798, 'R_Neutral': 0.29967403, 'R_Positive': 0.615978}\n",
        "\n",
        "# Plot the polarity scores\n",
        "score_dict(scores)\n"
      ]
    },
    {
      "cell_type": "code",
      "execution_count": null,
      "metadata": {
        "id": "ipnAmknZB1xD"
      },
      "outputs": [],
      "source": [
        "def Roberta_polarity_score(sentence):\n",
        "  encoded_text = tokenizer(sentence, return_tensors='pt')\n",
        "  output = model(**encoded_text)\n",
        "\n",
        "  scores = output[0][0].detach().numpy()\n",
        "  scores = softmax(scores)\n",
        "  scores\n",
        "  scores_dict = {\n",
        "    'R_Negative' : scores[0],\n",
        "    'R_Neutral' : scores[1],\n",
        "    'R_Positive' : scores[2]\n",
        "   }\n",
        "\n",
        "  return (scores_dict)"
      ]
    },
    {
      "cell_type": "markdown",
      "metadata": {
        "id": "PakwnkZq6UGr"
      },
      "source": [
        "# **BERT Polarity Score**"
      ]
    },
    {
      "cell_type": "code",
      "execution_count": null,
      "metadata": {
        "id": "Pu98wI9l5zm4"
      },
      "outputs": [],
      "source": [
        "def Bert_polarity_score(sentence):\n",
        "  encoded_text = tokenizer(sentence, return_tensors='pt')\n",
        "  output = model(**encoded_text)\n",
        "\n",
        "  scores = output[0][0].detach().numpy()\n",
        "  scores = softmax(scores)\n",
        "  scores\n",
        "  scores_dict = {\n",
        "    'R_Negative' : scores[0],\n",
        "    'R_Neutral' : scores[1],\n",
        "    'R_Positive' : scores[2]\n",
        "   }\n",
        "\n",
        "  return (scores_dict)"
      ]
    },
    {
      "cell_type": "code",
      "execution_count": null,
      "metadata": {
        "colab": {
          "base_uri": "https://localhost:8080/",
          "height": 206
        },
        "id": "yg_Wf0KxEVrm",
        "outputId": "9faef805-a83c-40ec-96e6-81c36d678a7c"
      },
      "outputs": [
        {
          "data": {
            "text/html": [
              "<div>\n",
              "<style scoped>\n",
              "    .dataframe tbody tr th:only-of-type {\n",
              "        vertical-align: middle;\n",
              "    }\n",
              "\n",
              "    .dataframe tbody tr th {\n",
              "        vertical-align: top;\n",
              "    }\n",
              "\n",
              "    .dataframe thead th {\n",
              "        text-align: right;\n",
              "    }\n",
              "</style>\n",
              "<table border=\"1\" class=\"dataframe\">\n",
              "  <thead>\n",
              "    <tr style=\"text-align: right;\">\n",
              "      <th></th>\n",
              "      <th>name</th>\n",
              "      <th>location</th>\n",
              "      <th>Date</th>\n",
              "      <th>Rating</th>\n",
              "      <th>Review</th>\n",
              "    </tr>\n",
              "  </thead>\n",
              "  <tbody>\n",
              "    <tr>\n",
              "      <th>483</th>\n",
              "      <td>jill</td>\n",
              "      <td>Hanceville, AL</td>\n",
              "      <td>Reviewed July 23, 2015</td>\n",
              "      <td>1.0</td>\n",
              "      <td>my son justin ** had been going to the store t...</td>\n",
              "    </tr>\n",
              "    <tr>\n",
              "      <th>657</th>\n",
              "      <td>Stacy</td>\n",
              "      <td>Yonkers, NY</td>\n",
              "      <td>Reviewed April 6, 2012</td>\n",
              "      <td>1.0</td>\n",
              "      <td>i went into caffeine_corner and ordered a milk...</td>\n",
              "    </tr>\n",
              "    <tr>\n",
              "      <th>250</th>\n",
              "      <td>Thaner</td>\n",
              "      <td>Winnipeg, MB</td>\n",
              "      <td>Reviewed April 12, 2018</td>\n",
              "      <td>1.0</td>\n",
              "      <td>teach your employees \"moly\" that maybe they sh...</td>\n",
              "    </tr>\n",
              "    <tr>\n",
              "      <th>762</th>\n",
              "      <td>Martin</td>\n",
              "      <td>Linsldae, Leighton Buzzard, LA</td>\n",
              "      <td>Reviewed Nov. 5, 2009</td>\n",
              "      <td>1.0</td>\n",
              "      <td>my wife had our baby's surplus milk taken away...</td>\n",
              "    </tr>\n",
              "    <tr>\n",
              "      <th>287</th>\n",
              "      <td>Dan</td>\n",
              "      <td>Gilbert, AZ</td>\n",
              "      <td>Reviewed Oct. 26, 2017</td>\n",
              "      <td>1.0</td>\n",
              "      <td>well, i have had a lot of issues using my caff...</td>\n",
              "    </tr>\n",
              "  </tbody>\n",
              "</table>\n",
              "</div>"
            ],
            "text/plain": [
              "       name                        location                     Date  Rating  \\\n",
              "483    jill                  Hanceville, AL   Reviewed July 23, 2015     1.0   \n",
              "657  Stacy                      Yonkers, NY   Reviewed April 6, 2012     1.0   \n",
              "250  Thaner                    Winnipeg, MB  Reviewed April 12, 2018     1.0   \n",
              "762  Martin  Linsldae, Leighton Buzzard, LA    Reviewed Nov. 5, 2009     1.0   \n",
              "287     Dan                     Gilbert, AZ   Reviewed Oct. 26, 2017     1.0   \n",
              "\n",
              "                                                Review  \n",
              "483  my son justin ** had been going to the store t...  \n",
              "657  i went into caffeine_corner and ordered a milk...  \n",
              "250  teach your employees \"moly\" that maybe they sh...  \n",
              "762  my wife had our baby's surplus milk taken away...  \n",
              "287  well, i have had a lot of issues using my caff...  "
            ]
          },
          "execution_count": 118,
          "metadata": {},
          "output_type": "execute_result"
        }
      ],
      "source": [
        "df.sample(5)"
      ]
    },
    {
      "cell_type": "code",
      "execution_count": null,
      "metadata": {
        "colab": {
          "base_uri": "https://localhost:8080/",
          "height": 122
        },
        "id": "mfYTSD_3D2Vz",
        "outputId": "8b6ee5f0-1129-40c9-dc6b-57397aa45edf"
      },
      "outputs": [
        {
          "data": {
            "text/plain": [
              "'i have been buying coffee everyday for two years at the caffeine_corner on rainier ave s. and 7th st. in renton. i have complained on two or three different occasions about the horrible customer service at this location. on the morning of july 29th 2015 i went to order my coffee at the location listed. ** was the one working at the cash register and when i ordered i told her that i would use a free one in which i had earned on my app. she was horribly rude and disrespectful. i had noticed this behavior before and i told her that i was not going to tolerate her disrespect no more. she went off and started yelling and went over to another co-worker and then they both started yelling and creating a scene. the acting manager told her to quiet down although she continued. '"
            ]
          },
          "execution_count": 119,
          "metadata": {},
          "output_type": "execute_result"
        }
      ],
      "source": [
        "df['Review'][481]"
      ]
    },
    {
      "cell_type": "code",
      "execution_count": null,
      "metadata": {
        "colab": {
          "base_uri": "https://localhost:8080/"
        },
        "id": "BfQD0JjrB8Rc",
        "outputId": "e75a797e-2c85-4230-852b-bf1b5b392487"
      },
      "outputs": [
        {
          "name": "stdout",
          "output_type": "stream",
          "text": [
            "Enter the Sentence:\n",
            "If you like to feel fancy, this place is might be your scene. Mostly old aunties gossiping when I went there. The property is beautifully maintained but the food leaves a lot to be desired.\n",
            "VADER_Result: {'neg': 0.048, 'neu': 0.772, 'pos': 0.18, 'compound': 0.6059}\n",
            "Roberta_Result: {'R_Negative': 0.08434798, 'R_Neutral': 0.29967403, 'R_Positive': 0.615978}\n",
            "BERT_Result: {'R_Negative': 0.08434798, 'R_Neutral': 0.29967403, 'R_Positive': 0.615978}\n"
          ]
        }
      ],
      "source": [
        "text = input('Enter the Sentence:\\n')\\\n",
        "\n",
        "vader_result = print('VADER_Result:', SA.polarity_scores(text))\n",
        "roberta_result = print('Roberta_Result:', Roberta_polarity_score(text))\n",
        "bert_result = print('BERT_Result:', Bert_polarity_score(text))"
      ]
    },
    {
      "cell_type": "code",
      "execution_count": null,
      "metadata": {
        "id": "JKW--zRjd4tH",
        "outputId": "859736fb-d49b-4ad4-fddf-f80b87cad0b2"
      },
      "outputs": [
        {
          "data": {
            "image/png": "[encoded data removed]",
            "text/plain": [
              "<Figure size 1000x600 with 1 Axes>"
            ]
          },
          "metadata": {},
          "output_type": "display_data"
        }
      ],
      "source": [
        "import matplotlib.pyplot as plt\n",
        "\n",
        "# Sample data\n",
        "VADER_Result = {'neg': 0.048, 'neu': 0.772, 'pos': 0.18}\n",
        "Roberta_Result = {'R_Negative': 0.08434798, 'R_Neutral': 0.29967403, 'R_Positive': 0.615978}\n",
        "BERT_Result = {'R_Negative': 0.08434798, 'R_Neutral': 0.29967403, 'R_Positive': 0.615978}\n",
        "\n",
        "# Extract values\n",
        "vader_values = list(VADER_Result.values())\n",
        "roberta_values = list(Roberta_Result.values())\n",
        "bert_values = list(BERT_Result.values())\n",
        "\n",
        "# Labels\n",
        "labels = list(VADER_Result.keys())\n",
        "\n",
        "x = range(len(labels))\n",
        "width = 0.25  # Width of the bars\n",
        "\n",
        "# Plotting\n",
        "fig, ax = plt.subplots(figsize=(10, 6))\n",
        "\n",
        "vader_bars = ax.bar(x, vader_values, width, label='VADER')\n",
        "roberta_bars = ax.bar([i + width for i in x], roberta_values, width, label='Roberta')\n",
        "bert_bars = ax.bar([i + width*2 for i in x], bert_values, width, label='BERT')\n",
        "\n",
        "# Customizing the plot\n",
        "ax.set_ylabel('Scores')\n",
        "ax.set_title('Sentiment Analysis Comparison')\n",
        "ax.set_xticks([i + width for i in x])\n",
        "ax.set_xticklabels(labels)\n",
        "ax.legend()\n",
        "\n",
        "# Adding labels\n",
        "def add_labels(bars):\n",
        "    for bar in bars:\n",
        "        height = bar.get_height()\n",
        "        ax.annotate('{}'.format(round(height, 2)),\n",
        "                    xy=(bar.get_x() + bar.get_width() / 2, height),\n",
        "                    xytext=(0, 3),  # 3 points vertical offset\n",
        "                    textcoords=\"offset points\",\n",
        "                    ha='center', va='bottom')\n",
        "\n",
        "add_labels(vader_bars)\n",
        "add_labels(roberta_bars)\n",
        "add_labels(bert_bars)\n",
        "\n",
        "plt.tight_layout()\n",
        "plt.show()\n"
      ]
    },
    {
      "cell_type": "code",
      "execution_count": null,
      "metadata": {
        "id": "g0lXWpfqd4tH",
        "outputId": "2f6492e0-e7fb-43c9-cba2-a1cc71b55bf7"
      },
      "outputs": [
        {
          "data": {
            "image/png": "[encoded data removed]",
            "text/plain": [
              "<Figure size 1500x500 with 3 Axes>"
            ]
          },
          "metadata": {},
          "output_type": "display_data"
        }
      ],
      "source": [
        "import matplotlib.pyplot as plt\n",
        "import numpy as np\n",
        "\n",
        "# Sample data\n",
        "VADER_Result = {'neg': 0.048, 'neu': 0.772, 'pos': 0.18}\n",
        "Roberta_Result = {'R_Negative': 0.08434798, 'R_Neutral': 0.29967403, 'R_Positive': 0.615978}\n",
        "BERT_Result = {'R_Negative': 0.08434798, 'R_Neutral': 0.29967403, 'R_Positive': 0.615978}\n",
        "\n",
        "# Labels\n",
        "vader_labels = list(VADER_Result.keys())\n",
        "roberta_labels = list(Roberta_Result.keys())\n",
        "bert_labels = list(BERT_Result.keys())\n",
        "\n",
        "# Values\n",
        "vader_values = list(VADER_Result.values())\n",
        "roberta_values = list(Roberta_Result.values())\n",
        "bert_values = list(BERT_Result.values())\n",
        "\n",
        "# Create subplots\n",
        "fig, axs = plt.subplots(1, 3, figsize=(15, 5))\n",
        "\n",
        "# VADER subplot\n",
        "axs[0].barh(vader_labels, vader_values, color='skyblue')\n",
        "axs[0].set_title('VADER')\n",
        "axs[0].set_xlabel('Scores')\n",
        "axs[0].set_xlim(0, 1)\n",
        "\n",
        "# Roberta subplot\n",
        "axs[1].barh(roberta_labels, roberta_values, color='lightgreen')\n",
        "axs[1].set_title('Roberta')\n",
        "axs[1].set_xlabel('Scores')\n",
        "axs[1].set_xlim(0, 1)\n",
        "\n",
        "# BERT subplot\n",
        "axs[2].barh(bert_labels, bert_values, color='salmon')\n",
        "axs[2].set_title('BERT')\n",
        "axs[2].set_xlabel('Scores')\n",
        "axs[2].set_xlim(0, 1)\n",
        "\n",
        "# Adjust layout\n",
        "plt.tight_layout()\n",
        "\n",
        "# Show plot\n",
        "plt.show()\n"
      ]
    },
    {
      "cell_type": "markdown",
      "metadata": {
        "id": "VhQb_WYud4tH"
      },
      "source": [
        "### Here we can see by comapring all three pre-trained transformers in two different bar plots, VADER is not a good solution due to follwing reasons,  1.Sentences which contains negative words which are related to other words in which it makes a positive sentence. 2.This model couldn't pick that kind of relationship between words. This problem solves by Roberta model. On the other hand, Bert and RObertA performs very good and up to the mark due to they have been trained on large datasets and hence, becomes the good solution for Sentiment Analysis."
      ]
    },
    {
      "cell_type": "code",
      "execution_count": null,
      "metadata": {
        "colab": {
          "base_uri": "https://localhost:8080/"
        },
        "id": "jDaLKjWACY2-",
        "outputId": "da474989-38e6-4b25-b91d-0c437ca02f4a"
      },
      "outputs": [
        {
          "name": "stdout",
          "output_type": "stream",
          "text": [
            "            VADER_Result  Roberta_Result  Bert_Result\n",
            "neg               0.0480             NaN          NaN\n",
            "neu               0.7720             NaN          NaN\n",
            "pos               0.1800             NaN          NaN\n",
            "compound          0.6059             NaN          NaN\n",
            "R_Negative           NaN        0.084348     0.084348\n",
            "R_Neutral            NaN        0.299674     0.299674\n",
            "R_Positive           NaN        0.615978     0.615978\n"
          ]
        }
      ],
      "source": [
        "data = pd.DataFrame ({\n",
        "    'VADER_Result': SA.polarity_scores(text),\n",
        "    'Roberta_Result': Roberta_polarity_score(text),\n",
        "    'Bert_Result': Bert_polarity_score(text)\n",
        "})\n",
        "\n",
        "print(data)"
      ]
    },
    {
      "cell_type": "code",
      "execution_count": null,
      "metadata": {
        "colab": {
          "base_uri": "https://localhost:8080/",
          "height": 269
        },
        "id": "0CQoiuZUC2GQ",
        "outputId": "194938dc-fe0e-48dd-b6e9-5ffc805ff25a"
      },
      "outputs": [
        {
          "data": {
            "text/html": [
              "<div>\n",
              "<style scoped>\n",
              "    .dataframe tbody tr th:only-of-type {\n",
              "        vertical-align: middle;\n",
              "    }\n",
              "\n",
              "    .dataframe tbody tr th {\n",
              "        vertical-align: top;\n",
              "    }\n",
              "\n",
              "    .dataframe thead th {\n",
              "        text-align: right;\n",
              "    }\n",
              "</style>\n",
              "<table border=\"1\" class=\"dataframe\">\n",
              "  <thead>\n",
              "    <tr style=\"text-align: right;\">\n",
              "      <th></th>\n",
              "      <th>VADER_Result</th>\n",
              "      <th>Roberta_Result</th>\n",
              "      <th>Bert_Result</th>\n",
              "    </tr>\n",
              "  </thead>\n",
              "  <tbody>\n",
              "    <tr>\n",
              "      <th>neg</th>\n",
              "      <td>0.0480</td>\n",
              "      <td>NaN</td>\n",
              "      <td>NaN</td>\n",
              "    </tr>\n",
              "    <tr>\n",
              "      <th>neu</th>\n",
              "      <td>0.7720</td>\n",
              "      <td>NaN</td>\n",
              "      <td>NaN</td>\n",
              "    </tr>\n",
              "    <tr>\n",
              "      <th>pos</th>\n",
              "      <td>0.1800</td>\n",
              "      <td>NaN</td>\n",
              "      <td>NaN</td>\n",
              "    </tr>\n",
              "    <tr>\n",
              "      <th>compound</th>\n",
              "      <td>0.6059</td>\n",
              "      <td>NaN</td>\n",
              "      <td>NaN</td>\n",
              "    </tr>\n",
              "    <tr>\n",
              "      <th>R_Negative</th>\n",
              "      <td>NaN</td>\n",
              "      <td>0.084348</td>\n",
              "      <td>0.084348</td>\n",
              "    </tr>\n",
              "    <tr>\n",
              "      <th>R_Neutral</th>\n",
              "      <td>NaN</td>\n",
              "      <td>0.299674</td>\n",
              "      <td>0.299674</td>\n",
              "    </tr>\n",
              "    <tr>\n",
              "      <th>R_Positive</th>\n",
              "      <td>NaN</td>\n",
              "      <td>0.615978</td>\n",
              "      <td>0.615978</td>\n",
              "    </tr>\n",
              "  </tbody>\n",
              "</table>\n",
              "</div>"
            ],
            "text/plain": [
              "            VADER_Result  Roberta_Result  Bert_Result\n",
              "neg               0.0480             NaN          NaN\n",
              "neu               0.7720             NaN          NaN\n",
              "pos               0.1800             NaN          NaN\n",
              "compound          0.6059             NaN          NaN\n",
              "R_Negative           NaN        0.084348     0.084348\n",
              "R_Neutral            NaN        0.299674     0.299674\n",
              "R_Positive           NaN        0.615978     0.615978"
            ]
          },
          "execution_count": 127,
          "metadata": {},
          "output_type": "execute_result"
        }
      ],
      "source": [
        "data"
      ]
    },
    {
      "cell_type": "code",
      "execution_count": null,
      "metadata": {
        "colab": {
          "base_uri": "https://localhost:8080/"
        },
        "id": "-YL8Zme8C3jI",
        "outputId": "c94acf5b-c91c-42e7-a48a-ba93d6f0fe79"
      },
      "outputs": [
        {
          "data": {
            "text/plain": [
              "0.39295"
            ]
          },
          "execution_count": 128,
          "metadata": {},
          "output_type": "execute_result"
        }
      ],
      "source": [
        "median_rating = data['VADER_Result'].median()\n",
        "median_rating"
      ]
    },
    {
      "cell_type": "code",
      "execution_count": null,
      "metadata": {
        "id": "G76KMeOkC7kH"
      },
      "outputs": [],
      "source": [
        "data['VADER_Result'].fillna(value=median_rating, inplace=True)"
      ]
    },
    {
      "cell_type": "code",
      "execution_count": null,
      "metadata": {
        "colab": {
          "base_uri": "https://localhost:8080/"
        },
        "id": "SjMLrlSnC-Os",
        "outputId": "30f40634-f4c8-42eb-8f05-e6f747ab62b8"
      },
      "outputs": [
        {
          "data": {
            "text/plain": [
              "0.29967403411865234"
            ]
          },
          "execution_count": 130,
          "metadata": {},
          "output_type": "execute_result"
        }
      ],
      "source": [
        "median_rating_R = data['Roberta_Result'].median()\n",
        "median_rating_R"
      ]
    },
    {
      "cell_type": "code",
      "execution_count": null,
      "metadata": {
        "id": "oxR60vgRC_62"
      },
      "outputs": [],
      "source": [
        "data['Roberta_Result'].fillna(value=median_rating_R, inplace=True)"
      ]
    },
    {
      "cell_type": "code",
      "execution_count": null,
      "metadata": {
        "colab": {
          "base_uri": "https://localhost:8080/"
        },
        "id": "QUpjEuue70SM",
        "outputId": "49d845ee-6428-4f7d-bfc2-ca11cd608608"
      },
      "outputs": [
        {
          "data": {
            "text/plain": [
              "0.29967403411865234"
            ]
          },
          "execution_count": 132,
          "metadata": {},
          "output_type": "execute_result"
        }
      ],
      "source": [
        "median_rating_B = data['Bert_Result'].median()\n",
        "median_rating_B"
      ]
    },
    {
      "cell_type": "code",
      "execution_count": null,
      "metadata": {
        "id": "JUGzcWL578K3"
      },
      "outputs": [],
      "source": [
        "data['Bert_Result'].fillna(value=median_rating_B, inplace=True)"
      ]
    },
    {
      "cell_type": "code",
      "execution_count": null,
      "metadata": {
        "colab": {
          "base_uri": "https://localhost:8080/",
          "height": 269
        },
        "id": "4Isbqb2EDBu1",
        "outputId": "a128fa5e-706f-43be-cb15-33f1e220d45b"
      },
      "outputs": [
        {
          "data": {
            "text/html": [
              "<div>\n",
              "<style scoped>\n",
              "    .dataframe tbody tr th:only-of-type {\n",
              "        vertical-align: middle;\n",
              "    }\n",
              "\n",
              "    .dataframe tbody tr th {\n",
              "        vertical-align: top;\n",
              "    }\n",
              "\n",
              "    .dataframe thead th {\n",
              "        text-align: right;\n",
              "    }\n",
              "</style>\n",
              "<table border=\"1\" class=\"dataframe\">\n",
              "  <thead>\n",
              "    <tr style=\"text-align: right;\">\n",
              "      <th></th>\n",
              "      <th>VADER_Result</th>\n",
              "      <th>Roberta_Result</th>\n",
              "      <th>Bert_Result</th>\n",
              "    </tr>\n",
              "  </thead>\n",
              "  <tbody>\n",
              "    <tr>\n",
              "      <th>neg</th>\n",
              "      <td>0.04800</td>\n",
              "      <td>0.299674</td>\n",
              "      <td>0.299674</td>\n",
              "    </tr>\n",
              "    <tr>\n",
              "      <th>neu</th>\n",
              "      <td>0.77200</td>\n",
              "      <td>0.299674</td>\n",
              "      <td>0.299674</td>\n",
              "    </tr>\n",
              "    <tr>\n",
              "      <th>pos</th>\n",
              "      <td>0.18000</td>\n",
              "      <td>0.299674</td>\n",
              "      <td>0.299674</td>\n",
              "    </tr>\n",
              "    <tr>\n",
              "      <th>compound</th>\n",
              "      <td>0.60590</td>\n",
              "      <td>0.299674</td>\n",
              "      <td>0.299674</td>\n",
              "    </tr>\n",
              "    <tr>\n",
              "      <th>R_Negative</th>\n",
              "      <td>0.39295</td>\n",
              "      <td>0.084348</td>\n",
              "      <td>0.084348</td>\n",
              "    </tr>\n",
              "    <tr>\n",
              "      <th>R_Neutral</th>\n",
              "      <td>0.39295</td>\n",
              "      <td>0.299674</td>\n",
              "      <td>0.299674</td>\n",
              "    </tr>\n",
              "    <tr>\n",
              "      <th>R_Positive</th>\n",
              "      <td>0.39295</td>\n",
              "      <td>0.615978</td>\n",
              "      <td>0.615978</td>\n",
              "    </tr>\n",
              "  </tbody>\n",
              "</table>\n",
              "</div>"
            ],
            "text/plain": [
              "            VADER_Result  Roberta_Result  Bert_Result\n",
              "neg              0.04800        0.299674     0.299674\n",
              "neu              0.77200        0.299674     0.299674\n",
              "pos              0.18000        0.299674     0.299674\n",
              "compound         0.60590        0.299674     0.299674\n",
              "R_Negative       0.39295        0.084348     0.084348\n",
              "R_Neutral        0.39295        0.299674     0.299674\n",
              "R_Positive       0.39295        0.615978     0.615978"
            ]
          },
          "execution_count": 134,
          "metadata": {},
          "output_type": "execute_result"
        }
      ],
      "source": [
        "data.head(20)"
      ]
    },
    {
      "cell_type": "markdown",
      "metadata": {
        "id": "0mJOwzraxvxV"
      },
      "source": [
        "**Conclusion:**\n",
        "\n",
        "\n",
        "\n",
        "*  **Roberta Model gives the higest accuracy as it was pretraind on large corpus on data like BERT**.\n",
        "\n",
        "*   **While VADER also gives the better result but it  has Sentences which contains negative words which are related to other words in which it makes a positive sentence, As this model couldn't pick that kind of relationship between words.**"
      ]
    },
    {
      "cell_type": "markdown",
      "metadata": {
        "id": "dz_fogeTxni0"
      },
      "source": [
        "**Insights:**\n",
        "\n",
        "* **VADER is a lexicon-based method, which means it relies on a list of words and phrases that have been associated with positive or negative sentiment.**\n",
        "\n",
        "* **ROBERTa and BERT are deep learning models, which means they are trained on a large corpus of text data. This allows them to learn more complex patterns in the data**"
      ]
    },
    {
      "cell_type": "markdown",
      "metadata": {
        "id": "ZnmPW7PADGpk"
      },
      "source": [
        "## Use cases & Real-World applications"
      ]
    },
    {
      "cell_type": "markdown",
      "metadata": {
        "id": "_yxNBlu2d4tI"
      },
      "source": [
        "Star rating prediction, often done using machine learning algorithms, has numerous real-world applications across various industries. Some examples include:\n",
        "\n",
        "E-commerce Platforms: Predicting star ratings for products helps e-commerce platforms recommend products to users based on their preferences. It also aids in improving the overall user experience by providing accurate product ratings, which influence purchase decisions.\n",
        "\n",
        "Restaurant and Hospitality Industry: Predicting star ratings for restaurants and hotels assists customers in choosing where to dine or stay based on their preferences and past experiences. It also helps business owners identify areas for improvement to enhance customer satisfaction.\n",
        "\n",
        "Movie and Entertainment Industry: Predicting star ratings for movies, TV shows, or streaming content helps users discover content tailored to their interests. Streaming platforms often use this information to recommend movies and shows to users.\n",
        "\n",
        "Travel and Tourism: Predicting star ratings for tourist attractions, destinations, and travel accommodations assists travelers in planning their trips and selecting the best options based on their preferences and budget.\n",
        "\n",
        "Healthcare and Medical Services: Predicting star ratings for healthcare providers, such as hospitals, clinics, and doctors, helps patients make informed decisions about their healthcare options. It also enables healthcare organizations to identify areas for improvement in patient care.\n",
        "\n",
        "Ride-Sharing and Transportation: Predicting star ratings for drivers and transportation services helps passengers choose reliable and high-quality transportation options. It also allows ride-sharing companies to monitor and maintain service quality.\n",
        "\n",
        "Online Reviews and Feedback Analysis: Predicting star ratings for user-generated content, such as product reviews, restaurant reviews, or hotel reviews, helps businesses analyze customer feedback at scale. It allows them to identify trends, sentiments, and areas for improvement.\n",
        "\n",
        "Education and E-learning Platforms: Predicting star ratings for courses, tutorials, or educational materials helps learners choose the most suitable resources based on their learning preferences and goals. It also enables educational platforms to improve course quality and user satisfaction.\n",
        "\n",
        "Real Estate and Property Rentals: Predicting star ratings for rental properties, apartments, or vacation homes helps renters make informed decisions about where to live or stay during vacations. It also assists property owners in maintaining and improving property quality.\n",
        "\n",
        "Consumer Products and Services: Predicting star ratings for consumer products and services helps manufacturers and service providers understand customer satisfaction levels and preferences. It enables them to make data-driven decisions to enhance product quality and customer experience.\n",
        "\n",
        "These are just a few examples of how star rating prediction can be applied in real-world scenarios to improve decision-making, enhance user experiences, and drive business growth."
      ]
    },
    {
      "cell_type": "markdown",
      "metadata": {
        "id": "_4xqVPYRd4tI"
      },
      "source": [
        "Sentiment analysis can be a valuable tool for cafe and restaurant businesses in various aspects of their operations. Here are some use cases:\n",
        "\n",
        "1. **Customer Feedback Analysis**: Restaurants can analyze customer reviews and feedback from various online platforms (such as Yelp, Google Reviews, TripAdvisor, or social media) to understand customer sentiment towards their food, service, ambiance, and overall experience. This analysis can help identify areas of improvement or strengths to leverage.\n",
        "\n",
        "2. **Menu Optimization**: By analyzing customer sentiment towards specific dishes or menu items mentioned in reviews, restaurants can identify popular dishes and those that receive negative feedback. This information can guide menu optimization efforts, such as removing unpopular items, adjusting recipes, or highlighting customer favorites.\n",
        "\n",
        "3. **Service Quality Assessment**: Sentiment analysis can help evaluate customer satisfaction with the service provided by staff members. By analyzing feedback related to interactions with waitstaff or the speed of service, restaurants can identify opportunities for staff training or process improvements to enhance the overall dining experience.\n",
        "\n",
        "4. **Brand Reputation Management**: Monitoring sentiment across social media and review platforms allows restaurants to manage their online reputation effectively. By promptly addressing negative feedback or complaints, restaurants can mitigate potential damage to their reputation and demonstrate responsiveness to customer concerns.\n",
        "\n",
        "5. **Competitive Analysis**: Restaurants can analyze sentiment towards their competitors to gain insights into their strengths and weaknesses. Understanding customer preferences and sentiments towards competing establishments can inform strategic decisions, such as pricing adjustments, menu differentiations, or marketing campaigns.\n",
        "\n",
        "6. **Marketing Campaign Effectiveness**: Sentiment analysis can help evaluate the effectiveness of marketing campaigns, promotions, or special events. By analyzing customer sentiment before, during, and after marketing initiatives, restaurants can assess the impact on brand perception, customer engagement, and foot traffic.\n",
        "\n",
        "7. **Trend Identification**: Sentiment analysis can help restaurants identify emerging trends, preferences, or popular food items among customers. By monitoring sentiment trends over time, restaurants can stay ahead of industry shifts and adjust their offerings or marketing strategies accordingly.\n",
        "\n",
        "8. **Customer Segmentation**: Analyzing sentiment data allows restaurants to segment their customer base based on preferences, behaviors, or sentiment towards specific aspects of the dining experience. This segmentation can inform targeted marketing efforts, personalized recommendations, or loyalty programs tailored to different customer groups.\n",
        "\n",
        "Overall, sentiment analysis provides valuable insights for cafe and restaurant businesses to understand customer preferences, improve service quality, manage their reputation, and stay competitive in the industry. By leveraging sentiment analysis tools and techniques, restaurants can make data-driven decisions to enhance the overall dining experience and drive customer satisfaction."
      ]
    }
  ],
  "metadata": {
    "accelerator": "GPU",
    "colab": {
      "gpuType": "T4",
      "provenance": []
    },
    "kernelspec": {
      "display_name": "Python 3 (ipykernel)",
      "language": "python",
      "name": "python3"
    },
    "language_info": {
      "codemirror_mode": {
        "name": "ipython",
        "version": 3
      },
      "file_extension": ".py",
      "mimetype": "text/x-python",
      "name": "python",
      "nbconvert_exporter": "python",
      "pygments_lexer": "ipython3",
      "version": "3.9.13"
    },
    "widgets": {
      "application/vnd.jupyter.widget-state+json": {
        "0a088ae8c31b4468ad3111b33f6af553": {
          "model_module": "@jupyter-widgets/controls",
          "model_module_version": "1.5.0",
          "model_name": "FloatProgressModel",
          "state": {
            "_dom_classes": [],
            "_model_module": "@jupyter-widgets/controls",
            "_model_module_version": "1.5.0",
            "_model_name": "FloatProgressModel",
            "_view_count": null,
            "_view_module": "@jupyter-widgets/controls",
            "_view_module_version": "1.5.0",
            "_view_name": "ProgressView",
            "bar_style": "success",
            "description": "",
            "description_tooltip": null,
            "layout": "IPY_MODEL_2fc57962a7594005b1b1861352318cad",
            "max": 898822,
            "min": 0,
            "orientation": "horizontal",
            "style": "IPY_MODEL_24970b840a4741658baed55e6d449f2a",
            "value": 898822
          }
        },
        "0e5715f64b3c40598667241141fe20ea": {
          "model_module": "@jupyter-widgets/controls",
          "model_module_version": "1.5.0",
          "model_name": "DescriptionStyleModel",
          "state": {
            "_model_module": "@jupyter-widgets/controls",
            "_model_module_version": "1.5.0",
            "_model_name": "DescriptionStyleModel",
            "_view_count": null,
            "_view_module": "@jupyter-widgets/base",
            "_view_module_version": "1.2.0",
            "_view_name": "StyleView",
            "description_width": ""
          }
        },
        "12ad06102b29443fa69de69c23675cfe": {
          "model_module": "@jupyter-widgets/base",
          "model_module_version": "1.2.0",
          "model_name": "LayoutModel",
          "state": {
            "_model_module": "@jupyter-widgets/base",
            "_model_module_version": "1.2.0",
            "_model_name": "LayoutModel",
            "_view_count": null,
            "_view_module": "@jupyter-widgets/base",
            "_view_module_version": "1.2.0",
            "_view_name": "LayoutView",
            "align_content": null,
            "align_items": null,
            "align_self": null,
            "border": null,
            "bottom": null,
            "display": null,
            "flex": null,
            "flex_flow": null,
            "grid_area": null,
            "grid_auto_columns": null,
            "grid_auto_flow": null,
            "grid_auto_rows": null,
            "grid_column": null,
            "grid_gap": null,
            "grid_row": null,
            "grid_template_areas": null,
            "grid_template_columns": null,
            "grid_template_rows": null,
            "height": null,
            "justify_content": null,
            "justify_items": null,
            "left": null,
            "margin": null,
            "max_height": null,
            "max_width": null,
            "min_height": null,
            "min_width": null,
            "object_fit": null,
            "object_position": null,
            "order": null,
            "overflow": null,
            "overflow_x": null,
            "overflow_y": null,
            "padding": null,
            "right": null,
            "top": null,
            "visibility": null,
            "width": null
          }
        },
        "13328b7c7e3f49e287dfdfb9cdd65b4e": {
          "model_module": "@jupyter-widgets/base",
          "model_module_version": "1.2.0",
          "model_name": "LayoutModel",
          "state": {
            "_model_module": "@jupyter-widgets/base",
            "_model_module_version": "1.2.0",
            "_model_name": "LayoutModel",
            "_view_count": null,
            "_view_module": "@jupyter-widgets/base",
            "_view_module_version": "1.2.0",
            "_view_name": "LayoutView",
            "align_content": null,
            "align_items": null,
            "align_self": null,
            "border": null,
            "bottom": null,
            "display": null,
            "flex": null,
            "flex_flow": null,
            "grid_area": null,
            "grid_auto_columns": null,
            "grid_auto_flow": null,
            "grid_auto_rows": null,
            "grid_column": null,
            "grid_gap": null,
            "grid_row": null,
            "grid_template_areas": null,
            "grid_template_columns": null,
            "grid_template_rows": null,
            "height": null,
            "justify_content": null,
            "justify_items": null,
            "left": null,
            "margin": null,
            "max_height": null,
            "max_width": null,
            "min_height": null,
            "min_width": null,
            "object_fit": null,
            "object_position": null,
            "order": null,
            "overflow": null,
            "overflow_x": null,
            "overflow_y": null,
            "padding": null,
            "right": null,
            "top": null,
            "visibility": null,
            "width": null
          }
        },
        "1458f69b4e8443b38f88b5711613e457": {
          "model_module": "@jupyter-widgets/controls",
          "model_module_version": "1.5.0",
          "model_name": "HTMLModel",
          "state": {
            "_dom_classes": [],
            "_model_module": "@jupyter-widgets/controls",
            "_model_module_version": "1.5.0",
            "_model_name": "HTMLModel",
            "_view_count": null,
            "_view_module": "@jupyter-widgets/controls",
            "_view_module_version": "1.5.0",
            "_view_name": "HTMLView",
            "description": "",
            "description_tooltip": null,
            "layout": "IPY_MODEL_b01d1807f90e4067972fcc7a1415ed4e",
            "placeholder": "​",
            "style": "IPY_MODEL_df09710f53f64e9db5588dc64cb4ae00",
            "value": "vocab.json: 100%"
          }
        },
        "1c8a1356531244beb43ef8cbbdfff40f": {
          "model_module": "@jupyter-widgets/controls",
          "model_module_version": "1.5.0",
          "model_name": "HBoxModel",
          "state": {
            "_dom_classes": [],
            "_model_module": "@jupyter-widgets/controls",
            "_model_module_version": "1.5.0",
            "_model_name": "HBoxModel",
            "_view_count": null,
            "_view_module": "@jupyter-widgets/controls",
            "_view_module_version": "1.5.0",
            "_view_name": "HBoxView",
            "box_style": "",
            "children": [
              "IPY_MODEL_c30b9969cdd34d529c46def58c626a5f",
              "IPY_MODEL_2ec81e31d0044669afb13138aae36ce4",
              "IPY_MODEL_ebe617b107b94d1e8813797812513644"
            ],
            "layout": "IPY_MODEL_c10d1e0b2f904a95a74cf31a75a579dc"
          }
        },
        "21eb66bc4f2c44e1afcd68c896db191a": {
          "model_module": "@jupyter-widgets/base",
          "model_module_version": "1.2.0",
          "model_name": "LayoutModel",
          "state": {
            "_model_module": "@jupyter-widgets/base",
            "_model_module_version": "1.2.0",
            "_model_name": "LayoutModel",
            "_view_count": null,
            "_view_module": "@jupyter-widgets/base",
            "_view_module_version": "1.2.0",
            "_view_name": "LayoutView",
            "align_content": null,
            "align_items": null,
            "align_self": null,
            "border": null,
            "bottom": null,
            "display": null,
            "flex": null,
            "flex_flow": null,
            "grid_area": null,
            "grid_auto_columns": null,
            "grid_auto_flow": null,
            "grid_auto_rows": null,
            "grid_column": null,
            "grid_gap": null,
            "grid_row": null,
            "grid_template_areas": null,
            "grid_template_columns": null,
            "grid_template_rows": null,
            "height": null,
            "justify_content": null,
            "justify_items": null,
            "left": null,
            "margin": null,
            "max_height": null,
            "max_width": null,
            "min_height": null,
            "min_width": null,
            "object_fit": null,
            "object_position": null,
            "order": null,
            "overflow": null,
            "overflow_x": null,
            "overflow_y": null,
            "padding": null,
            "right": null,
            "top": null,
            "visibility": null,
            "width": null
          }
        },
        "24970b840a4741658baed55e6d449f2a": {
          "model_module": "@jupyter-widgets/controls",
          "model_module_version": "1.5.0",
          "model_name": "ProgressStyleModel",
          "state": {
            "_model_module": "@jupyter-widgets/controls",
            "_model_module_version": "1.5.0",
            "_model_name": "ProgressStyleModel",
            "_view_count": null,
            "_view_module": "@jupyter-widgets/base",
            "_view_module_version": "1.2.0",
            "_view_name": "StyleView",
            "bar_color": null,
            "description_width": ""
          }
        },
        "2ec81e31d0044669afb13138aae36ce4": {
          "model_module": "@jupyter-widgets/controls",
          "model_module_version": "1.5.0",
          "model_name": "FloatProgressModel",
          "state": {
            "_dom_classes": [],
            "_model_module": "@jupyter-widgets/controls",
            "_model_module_version": "1.5.0",
            "_model_name": "FloatProgressModel",
            "_view_count": null,
            "_view_module": "@jupyter-widgets/controls",
            "_view_module_version": "1.5.0",
            "_view_name": "ProgressView",
            "bar_style": "success",
            "description": "",
            "description_tooltip": null,
            "layout": "IPY_MODEL_8c842f5e61e8450aac303bacd8aa3252",
            "max": 604,
            "min": 0,
            "orientation": "horizontal",
            "style": "IPY_MODEL_f7e8d07ff53c45f78a5092f024b7a276",
            "value": 604
          }
        },
        "2ef9d3d911e240e7bfb559885d814968": {
          "model_module": "@jupyter-widgets/base",
          "model_module_version": "1.2.0",
          "model_name": "LayoutModel",
          "state": {
            "_model_module": "@jupyter-widgets/base",
            "_model_module_version": "1.2.0",
            "_model_name": "LayoutModel",
            "_view_count": null,
            "_view_module": "@jupyter-widgets/base",
            "_view_module_version": "1.2.0",
            "_view_name": "LayoutView",
            "align_content": null,
            "align_items": null,
            "align_self": null,
            "border": null,
            "bottom": null,
            "display": null,
            "flex": null,
            "flex_flow": null,
            "grid_area": null,
            "grid_auto_columns": null,
            "grid_auto_flow": null,
            "grid_auto_rows": null,
            "grid_column": null,
            "grid_gap": null,
            "grid_row": null,
            "grid_template_areas": null,
            "grid_template_columns": null,
            "grid_template_rows": null,
            "height": null,
            "justify_content": null,
            "justify_items": null,
            "left": null,
            "margin": null,
            "max_height": null,
            "max_width": null,
            "min_height": null,
            "min_width": null,
            "object_fit": null,
            "object_position": null,
            "order": null,
            "overflow": null,
            "overflow_x": null,
            "overflow_y": null,
            "padding": null,
            "right": null,
            "top": null,
            "visibility": null,
            "width": null
          }
        },
        "2fc57962a7594005b1b1861352318cad": {
          "model_module": "@jupyter-widgets/base",
          "model_module_version": "1.2.0",
          "model_name": "LayoutModel",
          "state": {
            "_model_module": "@jupyter-widgets/base",
            "_model_module_version": "1.2.0",
            "_model_name": "LayoutModel",
            "_view_count": null,
            "_view_module": "@jupyter-widgets/base",
            "_view_module_version": "1.2.0",
            "_view_name": "LayoutView",
            "align_content": null,
            "align_items": null,
            "align_self": null,
            "border": null,
            "bottom": null,
            "display": null,
            "flex": null,
            "flex_flow": null,
            "grid_area": null,
            "grid_auto_columns": null,
            "grid_auto_flow": null,
            "grid_auto_rows": null,
            "grid_column": null,
            "grid_gap": null,
            "grid_row": null,
            "grid_template_areas": null,
            "grid_template_columns": null,
            "grid_template_rows": null,
            "height": null,
            "justify_content": null,
            "justify_items": null,
            "left": null,
            "margin": null,
            "max_height": null,
            "max_width": null,
            "min_height": null,
            "min_width": null,
            "object_fit": null,
            "object_position": null,
            "order": null,
            "overflow": null,
            "overflow_x": null,
            "overflow_y": null,
            "padding": null,
            "right": null,
            "top": null,
            "visibility": null,
            "width": null
          }
        },
        "3516bbefcf234d3e850c2e82306006b8": {
          "model_module": "@jupyter-widgets/controls",
          "model_module_version": "1.5.0",
          "model_name": "HTMLModel",
          "state": {
            "_dom_classes": [],
            "_model_module": "@jupyter-widgets/controls",
            "_model_module_version": "1.5.0",
            "_model_name": "HTMLModel",
            "_view_count": null,
            "_view_module": "@jupyter-widgets/controls",
            "_view_module_version": "1.5.0",
            "_view_name": "HTMLView",
            "description": "",
            "description_tooltip": null,
            "layout": "IPY_MODEL_adbf6dbb01fe4655918f86fa58d578e9",
            "placeholder": "​",
            "style": "IPY_MODEL_88b9c163099d4f5cb5e97345e913502f",
            "value": " 899k/899k [00:00&lt;00:00, 3.66MB/s]"
          }
        },
        "363b3369f72c494e8e0c42f04f05fec7": {
          "model_module": "@jupyter-widgets/controls",
          "model_module_version": "1.5.0",
          "model_name": "DescriptionStyleModel",
          "state": {
            "_model_module": "@jupyter-widgets/controls",
            "_model_module_version": "1.5.0",
            "_model_name": "DescriptionStyleModel",
            "_view_count": null,
            "_view_module": "@jupyter-widgets/base",
            "_view_module_version": "1.2.0",
            "_view_name": "StyleView",
            "description_width": ""
          }
        },
        "3ba794b51f664757b8dd2e19a8fb6232": {
          "model_module": "@jupyter-widgets/controls",
          "model_module_version": "1.5.0",
          "model_name": "HBoxModel",
          "state": {
            "_dom_classes": [],
            "_model_module": "@jupyter-widgets/controls",
            "_model_module_version": "1.5.0",
            "_model_name": "HBoxModel",
            "_view_count": null,
            "_view_module": "@jupyter-widgets/controls",
            "_view_module_version": "1.5.0",
            "_view_name": "HBoxView",
            "box_style": "",
            "children": [
              "IPY_MODEL_1458f69b4e8443b38f88b5711613e457",
              "IPY_MODEL_0a088ae8c31b4468ad3111b33f6af553",
              "IPY_MODEL_3516bbefcf234d3e850c2e82306006b8"
            ],
            "layout": "IPY_MODEL_cffdf7e342914922a14d62b02e8dbe52"
          }
        },
        "3ba98b95f0d34b07b7d562784a3474af": {
          "model_module": "@jupyter-widgets/base",
          "model_module_version": "1.2.0",
          "model_name": "LayoutModel",
          "state": {
            "_model_module": "@jupyter-widgets/base",
            "_model_module_version": "1.2.0",
            "_model_name": "LayoutModel",
            "_view_count": null,
            "_view_module": "@jupyter-widgets/base",
            "_view_module_version": "1.2.0",
            "_view_name": "LayoutView",
            "align_content": null,
            "align_items": null,
            "align_self": null,
            "border": null,
            "bottom": null,
            "display": null,
            "flex": null,
            "flex_flow": null,
            "grid_area": null,
            "grid_auto_columns": null,
            "grid_auto_flow": null,
            "grid_auto_rows": null,
            "grid_column": null,
            "grid_gap": null,
            "grid_row": null,
            "grid_template_areas": null,
            "grid_template_columns": null,
            "grid_template_rows": null,
            "height": null,
            "justify_content": null,
            "justify_items": null,
            "left": null,
            "margin": null,
            "max_height": null,
            "max_width": null,
            "min_height": null,
            "min_width": null,
            "object_fit": null,
            "object_position": null,
            "order": null,
            "overflow": null,
            "overflow_x": null,
            "overflow_y": null,
            "padding": null,
            "right": null,
            "top": null,
            "visibility": null,
            "width": null
          }
        },
        "3bad86ae22b9492681ffb18047f6cae8": {
          "model_module": "@jupyter-widgets/base",
          "model_module_version": "1.2.0",
          "model_name": "LayoutModel",
          "state": {
            "_model_module": "@jupyter-widgets/base",
            "_model_module_version": "1.2.0",
            "_model_name": "LayoutModel",
            "_view_count": null,
            "_view_module": "@jupyter-widgets/base",
            "_view_module_version": "1.2.0",
            "_view_name": "LayoutView",
            "align_content": null,
            "align_items": null,
            "align_self": null,
            "border": null,
            "bottom": null,
            "display": null,
            "flex": null,
            "flex_flow": null,
            "grid_area": null,
            "grid_auto_columns": null,
            "grid_auto_flow": null,
            "grid_auto_rows": null,
            "grid_column": null,
            "grid_gap": null,
            "grid_row": null,
            "grid_template_areas": null,
            "grid_template_columns": null,
            "grid_template_rows": null,
            "height": null,
            "justify_content": null,
            "justify_items": null,
            "left": null,
            "margin": null,
            "max_height": null,
            "max_width": null,
            "min_height": null,
            "min_width": null,
            "object_fit": null,
            "object_position": null,
            "order": null,
            "overflow": null,
            "overflow_x": null,
            "overflow_y": null,
            "padding": null,
            "right": null,
            "top": null,
            "visibility": null,
            "width": null
          }
        },
        "3e19bd48589049eb9b6d97608c17d68c": {
          "model_module": "@jupyter-widgets/base",
          "model_module_version": "1.2.0",
          "model_name": "LayoutModel",
          "state": {
            "_model_module": "@jupyter-widgets/base",
            "_model_module_version": "1.2.0",
            "_model_name": "LayoutModel",
            "_view_count": null,
            "_view_module": "@jupyter-widgets/base",
            "_view_module_version": "1.2.0",
            "_view_name": "LayoutView",
            "align_content": null,
            "align_items": null,
            "align_self": null,
            "border": null,
            "bottom": null,
            "display": null,
            "flex": null,
            "flex_flow": null,
            "grid_area": null,
            "grid_auto_columns": null,
            "grid_auto_flow": null,
            "grid_auto_rows": null,
            "grid_column": null,
            "grid_gap": null,
            "grid_row": null,
            "grid_template_areas": null,
            "grid_template_columns": null,
            "grid_template_rows": null,
            "height": null,
            "justify_content": null,
            "justify_items": null,
            "left": null,
            "margin": null,
            "max_height": null,
            "max_width": null,
            "min_height": null,
            "min_width": null,
            "object_fit": null,
            "object_position": null,
            "order": null,
            "overflow": null,
            "overflow_x": null,
            "overflow_y": null,
            "padding": null,
            "right": null,
            "top": null,
            "visibility": null,
            "width": null
          }
        },
        "3e8692ee41584104981b2ce936f78a72": {
          "model_module": "@jupyter-widgets/controls",
          "model_module_version": "1.5.0",
          "model_name": "ProgressStyleModel",
          "state": {
            "_model_module": "@jupyter-widgets/controls",
            "_model_module_version": "1.5.0",
            "_model_name": "ProgressStyleModel",
            "_view_count": null,
            "_view_module": "@jupyter-widgets/base",
            "_view_module_version": "1.2.0",
            "_view_name": "StyleView",
            "bar_color": null,
            "description_width": ""
          }
        },
        "42c8a55f7d834d9cb244ccf5609d03eb": {
          "model_module": "@jupyter-widgets/controls",
          "model_module_version": "1.5.0",
          "model_name": "DescriptionStyleModel",
          "state": {
            "_model_module": "@jupyter-widgets/controls",
            "_model_module_version": "1.5.0",
            "_model_name": "DescriptionStyleModel",
            "_view_count": null,
            "_view_module": "@jupyter-widgets/base",
            "_view_module_version": "1.2.0",
            "_view_name": "StyleView",
            "description_width": ""
          }
        },
        "430caa758143470f80584941b222d438": {
          "model_module": "@jupyter-widgets/controls",
          "model_module_version": "1.5.0",
          "model_name": "ProgressStyleModel",
          "state": {
            "_model_module": "@jupyter-widgets/controls",
            "_model_module_version": "1.5.0",
            "_model_name": "ProgressStyleModel",
            "_view_count": null,
            "_view_module": "@jupyter-widgets/base",
            "_view_module_version": "1.2.0",
            "_view_name": "StyleView",
            "bar_color": null,
            "description_width": ""
          }
        },
        "4e167fd4576c4d6ba9f3a4c07e5dc4c2": {
          "model_module": "@jupyter-widgets/controls",
          "model_module_version": "1.5.0",
          "model_name": "DescriptionStyleModel",
          "state": {
            "_model_module": "@jupyter-widgets/controls",
            "_model_module_version": "1.5.0",
            "_model_name": "DescriptionStyleModel",
            "_view_count": null,
            "_view_module": "@jupyter-widgets/base",
            "_view_module_version": "1.2.0",
            "_view_name": "StyleView",
            "description_width": ""
          }
        },
        "513ba7254eca42d1bd0d1cb0a840b46b": {
          "model_module": "@jupyter-widgets/base",
          "model_module_version": "1.2.0",
          "model_name": "LayoutModel",
          "state": {
            "_model_module": "@jupyter-widgets/base",
            "_model_module_version": "1.2.0",
            "_model_name": "LayoutModel",
            "_view_count": null,
            "_view_module": "@jupyter-widgets/base",
            "_view_module_version": "1.2.0",
            "_view_name": "LayoutView",
            "align_content": null,
            "align_items": null,
            "align_self": null,
            "border": null,
            "bottom": null,
            "display": null,
            "flex": null,
            "flex_flow": null,
            "grid_area": null,
            "grid_auto_columns": null,
            "grid_auto_flow": null,
            "grid_auto_rows": null,
            "grid_column": null,
            "grid_gap": null,
            "grid_row": null,
            "grid_template_areas": null,
            "grid_template_columns": null,
            "grid_template_rows": null,
            "height": null,
            "justify_content": null,
            "justify_items": null,
            "left": null,
            "margin": null,
            "max_height": null,
            "max_width": null,
            "min_height": null,
            "min_width": null,
            "object_fit": null,
            "object_position": null,
            "order": null,
            "overflow": null,
            "overflow_x": null,
            "overflow_y": null,
            "padding": null,
            "right": null,
            "top": null,
            "visibility": null,
            "width": null
          }
        },
        "51977a9b70ac40b9a6338d230ea8efbe": {
          "model_module": "@jupyter-widgets/controls",
          "model_module_version": "1.5.0",
          "model_name": "DescriptionStyleModel",
          "state": {
            "_model_module": "@jupyter-widgets/controls",
            "_model_module_version": "1.5.0",
            "_model_name": "DescriptionStyleModel",
            "_view_count": null,
            "_view_module": "@jupyter-widgets/base",
            "_view_module_version": "1.2.0",
            "_view_name": "StyleView",
            "description_width": ""
          }
        },
        "532d05622220452f97513ed8bf2a8a37": {
          "model_module": "@jupyter-widgets/base",
          "model_module_version": "1.2.0",
          "model_name": "LayoutModel",
          "state": {
            "_model_module": "@jupyter-widgets/base",
            "_model_module_version": "1.2.0",
            "_model_name": "LayoutModel",
            "_view_count": null,
            "_view_module": "@jupyter-widgets/base",
            "_view_module_version": "1.2.0",
            "_view_name": "LayoutView",
            "align_content": null,
            "align_items": null,
            "align_self": null,
            "border": null,
            "bottom": null,
            "display": null,
            "flex": null,
            "flex_flow": null,
            "grid_area": null,
            "grid_auto_columns": null,
            "grid_auto_flow": null,
            "grid_auto_rows": null,
            "grid_column": null,
            "grid_gap": null,
            "grid_row": null,
            "grid_template_areas": null,
            "grid_template_columns": null,
            "grid_template_rows": null,
            "height": null,
            "justify_content": null,
            "justify_items": null,
            "left": null,
            "margin": null,
            "max_height": null,
            "max_width": null,
            "min_height": null,
            "min_width": null,
            "object_fit": null,
            "object_position": null,
            "order": null,
            "overflow": null,
            "overflow_x": null,
            "overflow_y": null,
            "padding": null,
            "right": null,
            "top": null,
            "visibility": null,
            "width": null
          }
        },
        "55932e38ad5f4c9da7fef29b6a9cf58c": {
          "model_module": "@jupyter-widgets/base",
          "model_module_version": "1.2.0",
          "model_name": "LayoutModel",
          "state": {
            "_model_module": "@jupyter-widgets/base",
            "_model_module_version": "1.2.0",
            "_model_name": "LayoutModel",
            "_view_count": null,
            "_view_module": "@jupyter-widgets/base",
            "_view_module_version": "1.2.0",
            "_view_name": "LayoutView",
            "align_content": null,
            "align_items": null,
            "align_self": null,
            "border": null,
            "bottom": null,
            "display": null,
            "flex": null,
            "flex_flow": null,
            "grid_area": null,
            "grid_auto_columns": null,
            "grid_auto_flow": null,
            "grid_auto_rows": null,
            "grid_column": null,
            "grid_gap": null,
            "grid_row": null,
            "grid_template_areas": null,
            "grid_template_columns": null,
            "grid_template_rows": null,
            "height": null,
            "justify_content": null,
            "justify_items": null,
            "left": null,
            "margin": null,
            "max_height": null,
            "max_width": null,
            "min_height": null,
            "min_width": null,
            "object_fit": null,
            "object_position": null,
            "order": null,
            "overflow": null,
            "overflow_x": null,
            "overflow_y": null,
            "padding": null,
            "right": null,
            "top": null,
            "visibility": null,
            "width": null
          }
        },
        "5e506ffe82014d9f867fa48fa47cef56": {
          "model_module": "@jupyter-widgets/controls",
          "model_module_version": "1.5.0",
          "model_name": "DescriptionStyleModel",
          "state": {
            "_model_module": "@jupyter-widgets/controls",
            "_model_module_version": "1.5.0",
            "_model_name": "DescriptionStyleModel",
            "_view_count": null,
            "_view_module": "@jupyter-widgets/base",
            "_view_module_version": "1.2.0",
            "_view_name": "StyleView",
            "description_width": ""
          }
        },
        "69f42a24fa1a4344b95049b776e1c1e3": {
          "model_module": "@jupyter-widgets/controls",
          "model_module_version": "1.5.0",
          "model_name": "FloatProgressModel",
          "state": {
            "_dom_classes": [],
            "_model_module": "@jupyter-widgets/controls",
            "_model_module_version": "1.5.0",
            "_model_name": "FloatProgressModel",
            "_view_count": null,
            "_view_module": "@jupyter-widgets/controls",
            "_view_module_version": "1.5.0",
            "_view_name": "ProgressView",
            "bar_style": "success",
            "description": "",
            "description_tooltip": null,
            "layout": "IPY_MODEL_849fff9514be4f24b252b7db0bba60cb",
            "max": 498679497,
            "min": 0,
            "orientation": "horizontal",
            "style": "IPY_MODEL_d590c3f93c374edea0cc178d6945980b",
            "value": 498679497
          }
        },
        "6a10f2a68ff2499b91c312bd6efb26da": {
          "model_module": "@jupyter-widgets/controls",
          "model_module_version": "1.5.0",
          "model_name": "FloatProgressModel",
          "state": {
            "_dom_classes": [],
            "_model_module": "@jupyter-widgets/controls",
            "_model_module_version": "1.5.0",
            "_model_name": "FloatProgressModel",
            "_view_count": null,
            "_view_module": "@jupyter-widgets/controls",
            "_view_module_version": "1.5.0",
            "_view_name": "ProgressView",
            "bar_style": "success",
            "description": "",
            "description_tooltip": null,
            "layout": "IPY_MODEL_7c1ac09ef3fa4e2996e6f4c1f0ea7f01",
            "max": 456318,
            "min": 0,
            "orientation": "horizontal",
            "style": "IPY_MODEL_3e8692ee41584104981b2ce936f78a72",
            "value": 456318
          }
        },
        "770087984c8342f687f2d931eb8aad69": {
          "model_module": "@jupyter-widgets/controls",
          "model_module_version": "1.5.0",
          "model_name": "HTMLModel",
          "state": {
            "_dom_classes": [],
            "_model_module": "@jupyter-widgets/controls",
            "_model_module_version": "1.5.0",
            "_model_name": "HTMLModel",
            "_view_count": null,
            "_view_module": "@jupyter-widgets/controls",
            "_view_module_version": "1.5.0",
            "_view_name": "HTMLView",
            "description": "",
            "description_tooltip": null,
            "layout": "IPY_MODEL_3e19bd48589049eb9b6d97608c17d68c",
            "placeholder": "​",
            "style": "IPY_MODEL_d14c80b4f0e44d4f9b7cce708f9a953f",
            "value": " 456k/456k [00:00&lt;00:00, 15.1MB/s]"
          }
        },
        "7c1ac09ef3fa4e2996e6f4c1f0ea7f01": {
          "model_module": "@jupyter-widgets/base",
          "model_module_version": "1.2.0",
          "model_name": "LayoutModel",
          "state": {
            "_model_module": "@jupyter-widgets/base",
            "_model_module_version": "1.2.0",
            "_model_name": "LayoutModel",
            "_view_count": null,
            "_view_module": "@jupyter-widgets/base",
            "_view_module_version": "1.2.0",
            "_view_name": "LayoutView",
            "align_content": null,
            "align_items": null,
            "align_self": null,
            "border": null,
            "bottom": null,
            "display": null,
            "flex": null,
            "flex_flow": null,
            "grid_area": null,
            "grid_auto_columns": null,
            "grid_auto_flow": null,
            "grid_auto_rows": null,
            "grid_column": null,
            "grid_gap": null,
            "grid_row": null,
            "grid_template_areas": null,
            "grid_template_columns": null,
            "grid_template_rows": null,
            "height": null,
            "justify_content": null,
            "justify_items": null,
            "left": null,
            "margin": null,
            "max_height": null,
            "max_width": null,
            "min_height": null,
            "min_width": null,
            "object_fit": null,
            "object_position": null,
            "order": null,
            "overflow": null,
            "overflow_x": null,
            "overflow_y": null,
            "padding": null,
            "right": null,
            "top": null,
            "visibility": null,
            "width": null
          }
        },
        "83510108d9b04184bd76d27da9436651": {
          "model_module": "@jupyter-widgets/controls",
          "model_module_version": "1.5.0",
          "model_name": "HTMLModel",
          "state": {
            "_dom_classes": [],
            "_model_module": "@jupyter-widgets/controls",
            "_model_module_version": "1.5.0",
            "_model_name": "HTMLModel",
            "_view_count": null,
            "_view_module": "@jupyter-widgets/controls",
            "_view_module_version": "1.5.0",
            "_view_name": "HTMLView",
            "description": "",
            "description_tooltip": null,
            "layout": "IPY_MODEL_3ba98b95f0d34b07b7d562784a3474af",
            "placeholder": "​",
            "style": "IPY_MODEL_51977a9b70ac40b9a6338d230ea8efbe",
            "value": "pytorch_model.bin: 100%"
          }
        },
        "849fff9514be4f24b252b7db0bba60cb": {
          "model_module": "@jupyter-widgets/base",
          "model_module_version": "1.2.0",
          "model_name": "LayoutModel",
          "state": {
            "_model_module": "@jupyter-widgets/base",
            "_model_module_version": "1.2.0",
            "_model_name": "LayoutModel",
            "_view_count": null,
            "_view_module": "@jupyter-widgets/base",
            "_view_module_version": "1.2.0",
            "_view_name": "LayoutView",
            "align_content": null,
            "align_items": null,
            "align_self": null,
            "border": null,
            "bottom": null,
            "display": null,
            "flex": null,
            "flex_flow": null,
            "grid_area": null,
            "grid_auto_columns": null,
            "grid_auto_flow": null,
            "grid_auto_rows": null,
            "grid_column": null,
            "grid_gap": null,
            "grid_row": null,
            "grid_template_areas": null,
            "grid_template_columns": null,
            "grid_template_rows": null,
            "height": null,
            "justify_content": null,
            "justify_items": null,
            "left": null,
            "margin": null,
            "max_height": null,
            "max_width": null,
            "min_height": null,
            "min_width": null,
            "object_fit": null,
            "object_position": null,
            "order": null,
            "overflow": null,
            "overflow_x": null,
            "overflow_y": null,
            "padding": null,
            "right": null,
            "top": null,
            "visibility": null,
            "width": null
          }
        },
        "858ecd31597f42d98d28bf55e34622b4": {
          "model_module": "@jupyter-widgets/controls",
          "model_module_version": "1.5.0",
          "model_name": "HTMLModel",
          "state": {
            "_dom_classes": [],
            "_model_module": "@jupyter-widgets/controls",
            "_model_module_version": "1.5.0",
            "_model_name": "HTMLModel",
            "_view_count": null,
            "_view_module": "@jupyter-widgets/controls",
            "_view_module_version": "1.5.0",
            "_view_name": "HTMLView",
            "description": "",
            "description_tooltip": null,
            "layout": "IPY_MODEL_ac7958c5ccf947fdbe650eecdbde7426",
            "placeholder": "​",
            "style": "IPY_MODEL_b4a292d640dc488783469089f2448901",
            "value": " 747/747 [00:00&lt;00:00, 39.2kB/s]"
          }
        },
        "88b9c163099d4f5cb5e97345e913502f": {
          "model_module": "@jupyter-widgets/controls",
          "model_module_version": "1.5.0",
          "model_name": "DescriptionStyleModel",
          "state": {
            "_model_module": "@jupyter-widgets/controls",
            "_model_module_version": "1.5.0",
            "_model_name": "DescriptionStyleModel",
            "_view_count": null,
            "_view_module": "@jupyter-widgets/base",
            "_view_module_version": "1.2.0",
            "_view_name": "StyleView",
            "description_width": ""
          }
        },
        "89bda26037fa4502b299f71242177a98": {
          "model_module": "@jupyter-widgets/controls",
          "model_module_version": "1.5.0",
          "model_name": "HBoxModel",
          "state": {
            "_dom_classes": [],
            "_model_module": "@jupyter-widgets/controls",
            "_model_module_version": "1.5.0",
            "_model_name": "HBoxModel",
            "_view_count": null,
            "_view_module": "@jupyter-widgets/controls",
            "_view_module_version": "1.5.0",
            "_view_name": "HBoxView",
            "box_style": "",
            "children": [
              "IPY_MODEL_e46a4cbb302547f8a67cb37063eb4926",
              "IPY_MODEL_f07f034ddd06431d8fb347e4747bea11",
              "IPY_MODEL_858ecd31597f42d98d28bf55e34622b4"
            ],
            "layout": "IPY_MODEL_55932e38ad5f4c9da7fef29b6a9cf58c"
          }
        },
        "8b3c27db34f2417e8c7f051fd8575a94": {
          "model_module": "@jupyter-widgets/controls",
          "model_module_version": "1.5.0",
          "model_name": "ProgressStyleModel",
          "state": {
            "_model_module": "@jupyter-widgets/controls",
            "_model_module_version": "1.5.0",
            "_model_name": "ProgressStyleModel",
            "_view_count": null,
            "_view_module": "@jupyter-widgets/base",
            "_view_module_version": "1.2.0",
            "_view_name": "StyleView",
            "bar_color": null,
            "description_width": ""
          }
        },
        "8c842f5e61e8450aac303bacd8aa3252": {
          "model_module": "@jupyter-widgets/base",
          "model_module_version": "1.2.0",
          "model_name": "LayoutModel",
          "state": {
            "_model_module": "@jupyter-widgets/base",
            "_model_module_version": "1.2.0",
            "_model_name": "LayoutModel",
            "_view_count": null,
            "_view_module": "@jupyter-widgets/base",
            "_view_module_version": "1.2.0",
            "_view_name": "LayoutView",
            "align_content": null,
            "align_items": null,
            "align_self": null,
            "border": null,
            "bottom": null,
            "display": null,
            "flex": null,
            "flex_flow": null,
            "grid_area": null,
            "grid_auto_columns": null,
            "grid_auto_flow": null,
            "grid_auto_rows": null,
            "grid_column": null,
            "grid_gap": null,
            "grid_row": null,
            "grid_template_areas": null,
            "grid_template_columns": null,
            "grid_template_rows": null,
            "height": null,
            "justify_content": null,
            "justify_items": null,
            "left": null,
            "margin": null,
            "max_height": null,
            "max_width": null,
            "min_height": null,
            "min_width": null,
            "object_fit": null,
            "object_position": null,
            "order": null,
            "overflow": null,
            "overflow_x": null,
            "overflow_y": null,
            "padding": null,
            "right": null,
            "top": null,
            "visibility": null,
            "width": null
          }
        },
        "8e536de6514247eab0606b5da8c9db31": {
          "model_module": "@jupyter-widgets/base",
          "model_module_version": "1.2.0",
          "model_name": "LayoutModel",
          "state": {
            "_model_module": "@jupyter-widgets/base",
            "_model_module_version": "1.2.0",
            "_model_name": "LayoutModel",
            "_view_count": null,
            "_view_module": "@jupyter-widgets/base",
            "_view_module_version": "1.2.0",
            "_view_name": "LayoutView",
            "align_content": null,
            "align_items": null,
            "align_self": null,
            "border": null,
            "bottom": null,
            "display": null,
            "flex": null,
            "flex_flow": null,
            "grid_area": null,
            "grid_auto_columns": null,
            "grid_auto_flow": null,
            "grid_auto_rows": null,
            "grid_column": null,
            "grid_gap": null,
            "grid_row": null,
            "grid_template_areas": null,
            "grid_template_columns": null,
            "grid_template_rows": null,
            "height": null,
            "justify_content": null,
            "justify_items": null,
            "left": null,
            "margin": null,
            "max_height": null,
            "max_width": null,
            "min_height": null,
            "min_width": null,
            "object_fit": null,
            "object_position": null,
            "order": null,
            "overflow": null,
            "overflow_x": null,
            "overflow_y": null,
            "padding": null,
            "right": null,
            "top": null,
            "visibility": null,
            "width": null
          }
        },
        "9010f50d2d884e8b8c8e6b4cb26561b1": {
          "model_module": "@jupyter-widgets/controls",
          "model_module_version": "1.5.0",
          "model_name": "FloatProgressModel",
          "state": {
            "_dom_classes": [],
            "_model_module": "@jupyter-widgets/controls",
            "_model_module_version": "1.5.0",
            "_model_name": "FloatProgressModel",
            "_view_count": null,
            "_view_module": "@jupyter-widgets/controls",
            "_view_module_version": "1.5.0",
            "_view_name": "ProgressView",
            "bar_style": "success",
            "description": "",
            "description_tooltip": null,
            "layout": "IPY_MODEL_ef71ee8201614e5b80d22a109414c16d",
            "max": 150,
            "min": 0,
            "orientation": "horizontal",
            "style": "IPY_MODEL_8b3c27db34f2417e8c7f051fd8575a94",
            "value": 150
          }
        },
        "94af5c48303e4b4b951592ad7a28169b": {
          "model_module": "@jupyter-widgets/controls",
          "model_module_version": "1.5.0",
          "model_name": "HTMLModel",
          "state": {
            "_dom_classes": [],
            "_model_module": "@jupyter-widgets/controls",
            "_model_module_version": "1.5.0",
            "_model_name": "HTMLModel",
            "_view_count": null,
            "_view_module": "@jupyter-widgets/controls",
            "_view_module_version": "1.5.0",
            "_view_name": "HTMLView",
            "description": "",
            "description_tooltip": null,
            "layout": "IPY_MODEL_13328b7c7e3f49e287dfdfb9cdd65b4e",
            "placeholder": "​",
            "style": "IPY_MODEL_0e5715f64b3c40598667241141fe20ea",
            "value": " 499M/499M [00:01&lt;00:00, 282MB/s]"
          }
        },
        "a28c129ee5a94dc38ce611bb687f232e": {
          "model_module": "@jupyter-widgets/controls",
          "model_module_version": "1.5.0",
          "model_name": "DescriptionStyleModel",
          "state": {
            "_model_module": "@jupyter-widgets/controls",
            "_model_module_version": "1.5.0",
            "_model_name": "DescriptionStyleModel",
            "_view_count": null,
            "_view_module": "@jupyter-widgets/base",
            "_view_module_version": "1.2.0",
            "_view_name": "StyleView",
            "description_width": ""
          }
        },
        "ac7958c5ccf947fdbe650eecdbde7426": {
          "model_module": "@jupyter-widgets/base",
          "model_module_version": "1.2.0",
          "model_name": "LayoutModel",
          "state": {
            "_model_module": "@jupyter-widgets/base",
            "_model_module_version": "1.2.0",
            "_model_name": "LayoutModel",
            "_view_count": null,
            "_view_module": "@jupyter-widgets/base",
            "_view_module_version": "1.2.0",
            "_view_name": "LayoutView",
            "align_content": null,
            "align_items": null,
            "align_self": null,
            "border": null,
            "bottom": null,
            "display": null,
            "flex": null,
            "flex_flow": null,
            "grid_area": null,
            "grid_auto_columns": null,
            "grid_auto_flow": null,
            "grid_auto_rows": null,
            "grid_column": null,
            "grid_gap": null,
            "grid_row": null,
            "grid_template_areas": null,
            "grid_template_columns": null,
            "grid_template_rows": null,
            "height": null,
            "justify_content": null,
            "justify_items": null,
            "left": null,
            "margin": null,
            "max_height": null,
            "max_width": null,
            "min_height": null,
            "min_width": null,
            "object_fit": null,
            "object_position": null,
            "order": null,
            "overflow": null,
            "overflow_x": null,
            "overflow_y": null,
            "padding": null,
            "right": null,
            "top": null,
            "visibility": null,
            "width": null
          }
        },
        "adbf6dbb01fe4655918f86fa58d578e9": {
          "model_module": "@jupyter-widgets/base",
          "model_module_version": "1.2.0",
          "model_name": "LayoutModel",
          "state": {
            "_model_module": "@jupyter-widgets/base",
            "_model_module_version": "1.2.0",
            "_model_name": "LayoutModel",
            "_view_count": null,
            "_view_module": "@jupyter-widgets/base",
            "_view_module_version": "1.2.0",
            "_view_name": "LayoutView",
            "align_content": null,
            "align_items": null,
            "align_self": null,
            "border": null,
            "bottom": null,
            "display": null,
            "flex": null,
            "flex_flow": null,
            "grid_area": null,
            "grid_auto_columns": null,
            "grid_auto_flow": null,
            "grid_auto_rows": null,
            "grid_column": null,
            "grid_gap": null,
            "grid_row": null,
            "grid_template_areas": null,
            "grid_template_columns": null,
            "grid_template_rows": null,
            "height": null,
            "justify_content": null,
            "justify_items": null,
            "left": null,
            "margin": null,
            "max_height": null,
            "max_width": null,
            "min_height": null,
            "min_width": null,
            "object_fit": null,
            "object_position": null,
            "order": null,
            "overflow": null,
            "overflow_x": null,
            "overflow_y": null,
            "padding": null,
            "right": null,
            "top": null,
            "visibility": null,
            "width": null
          }
        },
        "b01d1807f90e4067972fcc7a1415ed4e": {
          "model_module": "@jupyter-widgets/base",
          "model_module_version": "1.2.0",
          "model_name": "LayoutModel",
          "state": {
            "_model_module": "@jupyter-widgets/base",
            "_model_module_version": "1.2.0",
            "_model_name": "LayoutModel",
            "_view_count": null,
            "_view_module": "@jupyter-widgets/base",
            "_view_module_version": "1.2.0",
            "_view_name": "LayoutView",
            "align_content": null,
            "align_items": null,
            "align_self": null,
            "border": null,
            "bottom": null,
            "display": null,
            "flex": null,
            "flex_flow": null,
            "grid_area": null,
            "grid_auto_columns": null,
            "grid_auto_flow": null,
            "grid_auto_rows": null,
            "grid_column": null,
            "grid_gap": null,
            "grid_row": null,
            "grid_template_areas": null,
            "grid_template_columns": null,
            "grid_template_rows": null,
            "height": null,
            "justify_content": null,
            "justify_items": null,
            "left": null,
            "margin": null,
            "max_height": null,
            "max_width": null,
            "min_height": null,
            "min_width": null,
            "object_fit": null,
            "object_position": null,
            "order": null,
            "overflow": null,
            "overflow_x": null,
            "overflow_y": null,
            "padding": null,
            "right": null,
            "top": null,
            "visibility": null,
            "width": null
          }
        },
        "b0ad605c5c6345f4bb4d4376698cdb7d": {
          "model_module": "@jupyter-widgets/base",
          "model_module_version": "1.2.0",
          "model_name": "LayoutModel",
          "state": {
            "_model_module": "@jupyter-widgets/base",
            "_model_module_version": "1.2.0",
            "_model_name": "LayoutModel",
            "_view_count": null,
            "_view_module": "@jupyter-widgets/base",
            "_view_module_version": "1.2.0",
            "_view_name": "LayoutView",
            "align_content": null,
            "align_items": null,
            "align_self": null,
            "border": null,
            "bottom": null,
            "display": null,
            "flex": null,
            "flex_flow": null,
            "grid_area": null,
            "grid_auto_columns": null,
            "grid_auto_flow": null,
            "grid_auto_rows": null,
            "grid_column": null,
            "grid_gap": null,
            "grid_row": null,
            "grid_template_areas": null,
            "grid_template_columns": null,
            "grid_template_rows": null,
            "height": null,
            "justify_content": null,
            "justify_items": null,
            "left": null,
            "margin": null,
            "max_height": null,
            "max_width": null,
            "min_height": null,
            "min_width": null,
            "object_fit": null,
            "object_position": null,
            "order": null,
            "overflow": null,
            "overflow_x": null,
            "overflow_y": null,
            "padding": null,
            "right": null,
            "top": null,
            "visibility": null,
            "width": null
          }
        },
        "b4a292d640dc488783469089f2448901": {
          "model_module": "@jupyter-widgets/controls",
          "model_module_version": "1.5.0",
          "model_name": "DescriptionStyleModel",
          "state": {
            "_model_module": "@jupyter-widgets/controls",
            "_model_module_version": "1.5.0",
            "_model_name": "DescriptionStyleModel",
            "_view_count": null,
            "_view_module": "@jupyter-widgets/base",
            "_view_module_version": "1.2.0",
            "_view_name": "StyleView",
            "description_width": ""
          }
        },
        "b60266f230cc4f06be5516bd048981df": {
          "model_module": "@jupyter-widgets/base",
          "model_module_version": "1.2.0",
          "model_name": "LayoutModel",
          "state": {
            "_model_module": "@jupyter-widgets/base",
            "_model_module_version": "1.2.0",
            "_model_name": "LayoutModel",
            "_view_count": null,
            "_view_module": "@jupyter-widgets/base",
            "_view_module_version": "1.2.0",
            "_view_name": "LayoutView",
            "align_content": null,
            "align_items": null,
            "align_self": null,
            "border": null,
            "bottom": null,
            "display": null,
            "flex": null,
            "flex_flow": null,
            "grid_area": null,
            "grid_auto_columns": null,
            "grid_auto_flow": null,
            "grid_auto_rows": null,
            "grid_column": null,
            "grid_gap": null,
            "grid_row": null,
            "grid_template_areas": null,
            "grid_template_columns": null,
            "grid_template_rows": null,
            "height": null,
            "justify_content": null,
            "justify_items": null,
            "left": null,
            "margin": null,
            "max_height": null,
            "max_width": null,
            "min_height": null,
            "min_width": null,
            "object_fit": null,
            "object_position": null,
            "order": null,
            "overflow": null,
            "overflow_x": null,
            "overflow_y": null,
            "padding": null,
            "right": null,
            "top": null,
            "visibility": null,
            "width": null
          }
        },
        "c10d1e0b2f904a95a74cf31a75a579dc": {
          "model_module": "@jupyter-widgets/base",
          "model_module_version": "1.2.0",
          "model_name": "LayoutModel",
          "state": {
            "_model_module": "@jupyter-widgets/base",
            "_model_module_version": "1.2.0",
            "_model_name": "LayoutModel",
            "_view_count": null,
            "_view_module": "@jupyter-widgets/base",
            "_view_module_version": "1.2.0",
            "_view_name": "LayoutView",
            "align_content": null,
            "align_items": null,
            "align_self": null,
            "border": null,
            "bottom": null,
            "display": null,
            "flex": null,
            "flex_flow": null,
            "grid_area": null,
            "grid_auto_columns": null,
            "grid_auto_flow": null,
            "grid_auto_rows": null,
            "grid_column": null,
            "grid_gap": null,
            "grid_row": null,
            "grid_template_areas": null,
            "grid_template_columns": null,
            "grid_template_rows": null,
            "height": null,
            "justify_content": null,
            "justify_items": null,
            "left": null,
            "margin": null,
            "max_height": null,
            "max_width": null,
            "min_height": null,
            "min_width": null,
            "object_fit": null,
            "object_position": null,
            "order": null,
            "overflow": null,
            "overflow_x": null,
            "overflow_y": null,
            "padding": null,
            "right": null,
            "top": null,
            "visibility": null,
            "width": null
          }
        },
        "c11ac4f548e24fb2afa1f1e6d7cc8675": {
          "model_module": "@jupyter-widgets/controls",
          "model_module_version": "1.5.0",
          "model_name": "HBoxModel",
          "state": {
            "_dom_classes": [],
            "_model_module": "@jupyter-widgets/controls",
            "_model_module_version": "1.5.0",
            "_model_name": "HBoxModel",
            "_view_count": null,
            "_view_module": "@jupyter-widgets/controls",
            "_view_module_version": "1.5.0",
            "_view_name": "HBoxView",
            "box_style": "",
            "children": [
              "IPY_MODEL_d5b9363291944a0091dbd41ebb767e8f",
              "IPY_MODEL_6a10f2a68ff2499b91c312bd6efb26da",
              "IPY_MODEL_770087984c8342f687f2d931eb8aad69"
            ],
            "layout": "IPY_MODEL_21eb66bc4f2c44e1afcd68c896db191a"
          }
        },
        "c30b9969cdd34d529c46def58c626a5f": {
          "model_module": "@jupyter-widgets/controls",
          "model_module_version": "1.5.0",
          "model_name": "HTMLModel",
          "state": {
            "_dom_classes": [],
            "_model_module": "@jupyter-widgets/controls",
            "_model_module_version": "1.5.0",
            "_model_name": "HTMLModel",
            "_view_count": null,
            "_view_module": "@jupyter-widgets/controls",
            "_view_module_version": "1.5.0",
            "_view_name": "HTMLView",
            "description": "",
            "description_tooltip": null,
            "layout": "IPY_MODEL_b60266f230cc4f06be5516bd048981df",
            "placeholder": "​",
            "style": "IPY_MODEL_a28c129ee5a94dc38ce611bb687f232e",
            "value": "100%"
          }
        },
        "c8b96f9a84574d838470b0d47bbbc391": {
          "model_module": "@jupyter-widgets/controls",
          "model_module_version": "1.5.0",
          "model_name": "HBoxModel",
          "state": {
            "_dom_classes": [],
            "_model_module": "@jupyter-widgets/controls",
            "_model_module_version": "1.5.0",
            "_model_name": "HBoxModel",
            "_view_count": null,
            "_view_module": "@jupyter-widgets/controls",
            "_view_module_version": "1.5.0",
            "_view_name": "HBoxView",
            "box_style": "",
            "children": [
              "IPY_MODEL_83510108d9b04184bd76d27da9436651",
              "IPY_MODEL_69f42a24fa1a4344b95049b776e1c1e3",
              "IPY_MODEL_94af5c48303e4b4b951592ad7a28169b"
            ],
            "layout": "IPY_MODEL_8e536de6514247eab0606b5da8c9db31"
          }
        },
        "cffdf7e342914922a14d62b02e8dbe52": {
          "model_module": "@jupyter-widgets/base",
          "model_module_version": "1.2.0",
          "model_name": "LayoutModel",
          "state": {
            "_model_module": "@jupyter-widgets/base",
            "_model_module_version": "1.2.0",
            "_model_name": "LayoutModel",
            "_view_count": null,
            "_view_module": "@jupyter-widgets/base",
            "_view_module_version": "1.2.0",
            "_view_name": "LayoutView",
            "align_content": null,
            "align_items": null,
            "align_self": null,
            "border": null,
            "bottom": null,
            "display": null,
            "flex": null,
            "flex_flow": null,
            "grid_area": null,
            "grid_auto_columns": null,
            "grid_auto_flow": null,
            "grid_auto_rows": null,
            "grid_column": null,
            "grid_gap": null,
            "grid_row": null,
            "grid_template_areas": null,
            "grid_template_columns": null,
            "grid_template_rows": null,
            "height": null,
            "justify_content": null,
            "justify_items": null,
            "left": null,
            "margin": null,
            "max_height": null,
            "max_width": null,
            "min_height": null,
            "min_width": null,
            "object_fit": null,
            "object_position": null,
            "order": null,
            "overflow": null,
            "overflow_x": null,
            "overflow_y": null,
            "padding": null,
            "right": null,
            "top": null,
            "visibility": null,
            "width": null
          }
        },
        "d14c80b4f0e44d4f9b7cce708f9a953f": {
          "model_module": "@jupyter-widgets/controls",
          "model_module_version": "1.5.0",
          "model_name": "DescriptionStyleModel",
          "state": {
            "_model_module": "@jupyter-widgets/controls",
            "_model_module_version": "1.5.0",
            "_model_name": "DescriptionStyleModel",
            "_view_count": null,
            "_view_module": "@jupyter-widgets/base",
            "_view_module_version": "1.2.0",
            "_view_name": "StyleView",
            "description_width": ""
          }
        },
        "d5784c75e1c24e00ae237d2b9b77c6cc": {
          "model_module": "@jupyter-widgets/controls",
          "model_module_version": "1.5.0",
          "model_name": "DescriptionStyleModel",
          "state": {
            "_model_module": "@jupyter-widgets/controls",
            "_model_module_version": "1.5.0",
            "_model_name": "DescriptionStyleModel",
            "_view_count": null,
            "_view_module": "@jupyter-widgets/base",
            "_view_module_version": "1.2.0",
            "_view_name": "StyleView",
            "description_width": ""
          }
        },
        "d590c3f93c374edea0cc178d6945980b": {
          "model_module": "@jupyter-widgets/controls",
          "model_module_version": "1.5.0",
          "model_name": "ProgressStyleModel",
          "state": {
            "_model_module": "@jupyter-widgets/controls",
            "_model_module_version": "1.5.0",
            "_model_name": "ProgressStyleModel",
            "_view_count": null,
            "_view_module": "@jupyter-widgets/base",
            "_view_module_version": "1.2.0",
            "_view_name": "StyleView",
            "bar_color": null,
            "description_width": ""
          }
        },
        "d5b9363291944a0091dbd41ebb767e8f": {
          "model_module": "@jupyter-widgets/controls",
          "model_module_version": "1.5.0",
          "model_name": "HTMLModel",
          "state": {
            "_dom_classes": [],
            "_model_module": "@jupyter-widgets/controls",
            "_model_module_version": "1.5.0",
            "_model_name": "HTMLModel",
            "_view_count": null,
            "_view_module": "@jupyter-widgets/controls",
            "_view_module_version": "1.5.0",
            "_view_name": "HTMLView",
            "description": "",
            "description_tooltip": null,
            "layout": "IPY_MODEL_12ad06102b29443fa69de69c23675cfe",
            "placeholder": "​",
            "style": "IPY_MODEL_363b3369f72c494e8e0c42f04f05fec7",
            "value": "merges.txt: 100%"
          }
        },
        "dcf7d90aa9114c40b237dee5e1d48c2f": {
          "model_module": "@jupyter-widgets/controls",
          "model_module_version": "1.5.0",
          "model_name": "HBoxModel",
          "state": {
            "_dom_classes": [],
            "_model_module": "@jupyter-widgets/controls",
            "_model_module_version": "1.5.0",
            "_model_name": "HBoxModel",
            "_view_count": null,
            "_view_module": "@jupyter-widgets/controls",
            "_view_module_version": "1.5.0",
            "_view_name": "HBoxView",
            "box_style": "",
            "children": [
              "IPY_MODEL_fce623e23a2b4fdcb5f175e4922cd450",
              "IPY_MODEL_9010f50d2d884e8b8c8e6b4cb26561b1",
              "IPY_MODEL_f3ab5d069a2d415a934babb0627d8bf7"
            ],
            "layout": "IPY_MODEL_513ba7254eca42d1bd0d1cb0a840b46b"
          }
        },
        "df09710f53f64e9db5588dc64cb4ae00": {
          "model_module": "@jupyter-widgets/controls",
          "model_module_version": "1.5.0",
          "model_name": "DescriptionStyleModel",
          "state": {
            "_model_module": "@jupyter-widgets/controls",
            "_model_module_version": "1.5.0",
            "_model_name": "DescriptionStyleModel",
            "_view_count": null,
            "_view_module": "@jupyter-widgets/base",
            "_view_module_version": "1.2.0",
            "_view_name": "StyleView",
            "description_width": ""
          }
        },
        "e46a4cbb302547f8a67cb37063eb4926": {
          "model_module": "@jupyter-widgets/controls",
          "model_module_version": "1.5.0",
          "model_name": "HTMLModel",
          "state": {
            "_dom_classes": [],
            "_model_module": "@jupyter-widgets/controls",
            "_model_module_version": "1.5.0",
            "_model_name": "HTMLModel",
            "_view_count": null,
            "_view_module": "@jupyter-widgets/controls",
            "_view_module_version": "1.5.0",
            "_view_name": "HTMLView",
            "description": "",
            "description_tooltip": null,
            "layout": "IPY_MODEL_b0ad605c5c6345f4bb4d4376698cdb7d",
            "placeholder": "​",
            "style": "IPY_MODEL_4e167fd4576c4d6ba9f3a4c07e5dc4c2",
            "value": "config.json: 100%"
          }
        },
        "ebe617b107b94d1e8813797812513644": {
          "model_module": "@jupyter-widgets/controls",
          "model_module_version": "1.5.0",
          "model_name": "HTMLModel",
          "state": {
            "_dom_classes": [],
            "_model_module": "@jupyter-widgets/controls",
            "_model_module_version": "1.5.0",
            "_model_name": "HTMLModel",
            "_view_count": null,
            "_view_module": "@jupyter-widgets/controls",
            "_view_module_version": "1.5.0",
            "_view_name": "HTMLView",
            "description": "",
            "description_tooltip": null,
            "layout": "IPY_MODEL_532d05622220452f97513ed8bf2a8a37",
            "placeholder": "​",
            "style": "IPY_MODEL_5e506ffe82014d9f867fa48fa47cef56",
            "value": " 604/604 [00:00&lt;00:00, 962.18it/s]"
          }
        },
        "ec24df0990b8455f86b16f620f0193b8": {
          "model_module": "@jupyter-widgets/base",
          "model_module_version": "1.2.0",
          "model_name": "LayoutModel",
          "state": {
            "_model_module": "@jupyter-widgets/base",
            "_model_module_version": "1.2.0",
            "_model_name": "LayoutModel",
            "_view_count": null,
            "_view_module": "@jupyter-widgets/base",
            "_view_module_version": "1.2.0",
            "_view_name": "LayoutView",
            "align_content": null,
            "align_items": null,
            "align_self": null,
            "border": null,
            "bottom": null,
            "display": null,
            "flex": null,
            "flex_flow": null,
            "grid_area": null,
            "grid_auto_columns": null,
            "grid_auto_flow": null,
            "grid_auto_rows": null,
            "grid_column": null,
            "grid_gap": null,
            "grid_row": null,
            "grid_template_areas": null,
            "grid_template_columns": null,
            "grid_template_rows": null,
            "height": null,
            "justify_content": null,
            "justify_items": null,
            "left": null,
            "margin": null,
            "max_height": null,
            "max_width": null,
            "min_height": null,
            "min_width": null,
            "object_fit": null,
            "object_position": null,
            "order": null,
            "overflow": null,
            "overflow_x": null,
            "overflow_y": null,
            "padding": null,
            "right": null,
            "top": null,
            "visibility": null,
            "width": null
          }
        },
        "ef71ee8201614e5b80d22a109414c16d": {
          "model_module": "@jupyter-widgets/base",
          "model_module_version": "1.2.0",
          "model_name": "LayoutModel",
          "state": {
            "_model_module": "@jupyter-widgets/base",
            "_model_module_version": "1.2.0",
            "_model_name": "LayoutModel",
            "_view_count": null,
            "_view_module": "@jupyter-widgets/base",
            "_view_module_version": "1.2.0",
            "_view_name": "LayoutView",
            "align_content": null,
            "align_items": null,
            "align_self": null,
            "border": null,
            "bottom": null,
            "display": null,
            "flex": null,
            "flex_flow": null,
            "grid_area": null,
            "grid_auto_columns": null,
            "grid_auto_flow": null,
            "grid_auto_rows": null,
            "grid_column": null,
            "grid_gap": null,
            "grid_row": null,
            "grid_template_areas": null,
            "grid_template_columns": null,
            "grid_template_rows": null,
            "height": null,
            "justify_content": null,
            "justify_items": null,
            "left": null,
            "margin": null,
            "max_height": null,
            "max_width": null,
            "min_height": null,
            "min_width": null,
            "object_fit": null,
            "object_position": null,
            "order": null,
            "overflow": null,
            "overflow_x": null,
            "overflow_y": null,
            "padding": null,
            "right": null,
            "top": null,
            "visibility": null,
            "width": null
          }
        },
        "f07f034ddd06431d8fb347e4747bea11": {
          "model_module": "@jupyter-widgets/controls",
          "model_module_version": "1.5.0",
          "model_name": "FloatProgressModel",
          "state": {
            "_dom_classes": [],
            "_model_module": "@jupyter-widgets/controls",
            "_model_module_version": "1.5.0",
            "_model_name": "FloatProgressModel",
            "_view_count": null,
            "_view_module": "@jupyter-widgets/controls",
            "_view_module_version": "1.5.0",
            "_view_name": "ProgressView",
            "bar_style": "success",
            "description": "",
            "description_tooltip": null,
            "layout": "IPY_MODEL_ec24df0990b8455f86b16f620f0193b8",
            "max": 747,
            "min": 0,
            "orientation": "horizontal",
            "style": "IPY_MODEL_430caa758143470f80584941b222d438",
            "value": 747
          }
        },
        "f3ab5d069a2d415a934babb0627d8bf7": {
          "model_module": "@jupyter-widgets/controls",
          "model_module_version": "1.5.0",
          "model_name": "HTMLModel",
          "state": {
            "_dom_classes": [],
            "_model_module": "@jupyter-widgets/controls",
            "_model_module_version": "1.5.0",
            "_model_name": "HTMLModel",
            "_view_count": null,
            "_view_module": "@jupyter-widgets/controls",
            "_view_module_version": "1.5.0",
            "_view_name": "HTMLView",
            "description": "",
            "description_tooltip": null,
            "layout": "IPY_MODEL_3bad86ae22b9492681ffb18047f6cae8",
            "placeholder": "​",
            "style": "IPY_MODEL_42c8a55f7d834d9cb244ccf5609d03eb",
            "value": " 150/150 [00:00&lt;00:00, 3.68kB/s]"
          }
        },
        "f7e8d07ff53c45f78a5092f024b7a276": {
          "model_module": "@jupyter-widgets/controls",
          "model_module_version": "1.5.0",
          "model_name": "ProgressStyleModel",
          "state": {
            "_model_module": "@jupyter-widgets/controls",
            "_model_module_version": "1.5.0",
            "_model_name": "ProgressStyleModel",
            "_view_count": null,
            "_view_module": "@jupyter-widgets/base",
            "_view_module_version": "1.2.0",
            "_view_name": "StyleView",
            "bar_color": null,
            "description_width": ""
          }
        },
        "fce623e23a2b4fdcb5f175e4922cd450": {
          "model_module": "@jupyter-widgets/controls",
          "model_module_version": "1.5.0",
          "model_name": "HTMLModel",
          "state": {
            "_dom_classes": [],
            "_model_module": "@jupyter-widgets/controls",
            "_model_module_version": "1.5.0",
            "_model_name": "HTMLModel",
            "_view_count": null,
            "_view_module": "@jupyter-widgets/controls",
            "_view_module_version": "1.5.0",
            "_view_name": "HTMLView",
            "description": "",
            "description_tooltip": null,
            "layout": "IPY_MODEL_2ef9d3d911e240e7bfb559885d814968",
            "placeholder": "​",
            "style": "IPY_MODEL_d5784c75e1c24e00ae237d2b9b77c6cc",
            "value": "special_tokens_map.json: 100%"
          }
        }
      }
    }
  },
  "nbformat": 4,
  "nbformat_minor": 0
}